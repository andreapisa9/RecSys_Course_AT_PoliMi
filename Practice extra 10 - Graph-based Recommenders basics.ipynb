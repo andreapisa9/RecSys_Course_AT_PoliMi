{
 "cells": [
  {
   "cell_type": "markdown",
   "metadata": {},
   "source": [
    "# Recommender Systems 2024/25"
   ]
  },
  {
   "cell_type": "markdown",
   "metadata": {},
   "source": [
    "### Practice 7 – Graph-based Models"
   ]
  },
  {
   "cell_type": "markdown",
   "metadata": {
    "vscode": {
     "languageId": "plaintext"
    }
   },
   "source": [
    "## Graph-based Recommenders"
   ]
  },
  {
   "cell_type": "markdown",
   "metadata": {},
   "source": [
    "### What is a Graph?\n",
    "\n",
    "In layman terms, a graph is a set of **interconnected entities**. Each entity is represented by a *node*, while the connections are called *edges*. Thus, mathematically speaking, a graph $G \\in \\mathbb{R}^{n\\times n}$ can be represented as two sets, $N$ (nodes) and $E$ (edges).$$G = (N,E) \\\\ N = \\{x_i | i \\in [1, |N|]_{\\mathbb{N}}\\} \\\\ E = \\{\\{x_i, x_j\\} | x_i,x_j \\in N\\}$$"
   ]
  },
  {
   "cell_type": "markdown",
   "metadata": {},
   "source": [
    "### Graph Notation\n",
    "\n",
    "#### Graph Chart\n",
    "\n",
    "Nodes are usually represented graphically as circles, with lines (=edges) connecting one another"
   ]
  },
  {
   "cell_type": "code",
   "execution_count": 1,
   "metadata": {},
   "outputs": [
    {
     "name": "stdout",
     "output_type": "stream",
     "text": [
      "Requirement already satisfied: plotly in /opt/homebrew/Caskroom/miniconda/base/envs/RSFramework/lib/python3.9/site-packages (5.22.0)\n",
      "Requirement already satisfied: tenacity>=6.2.0 in /opt/homebrew/Caskroom/miniconda/base/envs/RSFramework/lib/python3.9/site-packages (from plotly) (8.2.2)\n",
      "Requirement already satisfied: packaging in /opt/homebrew/Caskroom/miniconda/base/envs/RSFramework/lib/python3.9/site-packages (from plotly) (23.2)\n"
     ]
    }
   ],
   "source": [
    "!pip install plotly"
   ]
  },
  {
   "cell_type": "code",
   "execution_count": 2,
   "metadata": {},
   "outputs": [
    {
     "data": {
      "image/png": "[encoded data removed]",
      "text/plain": [
       "<Figure size 640x480 with 1 Axes>"
      ]
     },
     "metadata": {},
     "output_type": "display_data"
    }
   ],
   "source": [
    "import networkx as nx\n",
    "import plotly.graph_objects as go\n",
    "\n",
    "G = nx.Graph()\n",
    "G.add_nodes_from([1,2,3,4,5])\n",
    "G.add_edges_from([(1,2),(1,3),(1,5),(2,4),(3,5)])\n",
    "\n",
    "nx.draw(G, with_labels=True, node_color=\"green\")"
   ]
  },
  {
   "cell_type": "code",
   "execution_count": 3,
   "metadata": {},
   "outputs": [
    {
     "data": {
      "application/vnd.plotly.v1+json": {
       "config": {
        "plotlyServerURL": "https://plot.ly"
       },
       "data": [
        {
         "hoverinfo": "none",
         "line": {
          "color": "gray",
          "width": 1
         },
         "mode": "lines",
         "type": "scatter",
         "x": [
          0.17127331718519032,
          -0.46242362467177517,
          null,
          0.17127331718519032,
          0.5169165871095461,
          null,
          0.17127331718519032,
          0.7742337203770385,
          null,
          -0.46242362467177517,
          -0.9999999999999999,
          null,
          0.5169165871095461,
          0.7742337203770385,
          null
         ],
         "y": [
          0.11092875215000962,
          -0.2990654437279272,
          null,
          0.11092875215000962,
          0.6166670222173515,
          null,
          0.11092875215000962,
          0.21864996175552134,
          null,
          -0.2990654437279272,
          -0.6471802923949552,
          null,
          0.6166670222173515,
          0.21864996175552134,
          null
         ]
        },
        {
         "marker": {
          "color": "blue",
          "size": 25
         },
         "mode": "markers+text",
         "text": [
          "1",
          "2",
          "3",
          "4",
          "5"
         ],
         "textposition": "top center",
         "type": "scatter",
         "x": [
          0.17127331718519032,
          -0.46242362467177517,
          0.5169165871095461,
          -0.9999999999999999,
          0.7742337203770385
         ],
         "y": [
          0.11092875215000962,
          -0.2990654437279272,
          0.6166670222173515,
          -0.6471802923949552,
          0.21864996175552134
         ]
        }
       ],
       "layout": {
        "hovermode": "closest",
        "showlegend": false,
        "template": {
         "data": {
          "bar": [
           {
            "error_x": {
             "color": "#2a3f5f"
            },
            "error_y": {
             "color": "#2a3f5f"
            },
            "marker": {
             "line": {
              "color": "#E5ECF6",
              "width": 0.5
             },
             "pattern": {
              "fillmode": "overlay",
              "size": 10,
              "solidity": 0.2
             }
            },
            "type": "bar"
           }
          ],
          "barpolar": [
           {
            "marker": {
             "line": {
              "color": "#E5ECF6",
              "width": 0.5
             },
             "pattern": {
              "fillmode": "overlay",
              "size": 10,
              "solidity": 0.2
             }
            },
            "type": "barpolar"
           }
          ],
          "carpet": [
           {
            "aaxis": {
             "endlinecolor": "#2a3f5f",
             "gridcolor": "white",
             "linecolor": "white",
             "minorgridcolor": "white",
             "startlinecolor": "#2a3f5f"
            },
            "baxis": {
             "endlinecolor": "#2a3f5f",
             "gridcolor": "white",
             "linecolor": "white",
             "minorgridcolor": "white",
             "startlinecolor": "#2a3f5f"
            },
            "type": "carpet"
           }
          ],
          "choropleth": [
           {
            "colorbar": {
             "outlinewidth": 0,
             "ticks": ""
            },
            "type": "choropleth"
           }
          ],
          "contour": [
           {
            "colorbar": {
             "outlinewidth": 0,
             "ticks": ""
            },
            "colorscale": [
             [
              0,
              "#0d0887"
             ],
             [
              0.1111111111111111,
              "#46039f"
             ],
             [
              0.2222222222222222,
              "#7201a8"
             ],
             [
              0.3333333333333333,
              "#9c179e"
             ],
             [
              0.4444444444444444,
              "#bd3786"
             ],
             [
              0.5555555555555556,
              "#d8576b"
             ],
             [
              0.6666666666666666,
              "#ed7953"
             ],
             [
              0.7777777777777778,
              "#fb9f3a"
             ],
             [
              0.8888888888888888,
              "#fdca26"
             ],
             [
              1,
              "#f0f921"
             ]
            ],
            "type": "contour"
           }
          ],
          "contourcarpet": [
           {
            "colorbar": {
             "outlinewidth": 0,
             "ticks": ""
            },
            "type": "contourcarpet"
           }
          ],
          "heatmap": [
           {
            "colorbar": {
             "outlinewidth": 0,
             "ticks": ""
            },
            "colorscale": [
             [
              0,
              "#0d0887"
             ],
             [
              0.1111111111111111,
              "#46039f"
             ],
             [
              0.2222222222222222,
              "#7201a8"
             ],
             [
              0.3333333333333333,
              "#9c179e"
             ],
             [
              0.4444444444444444,
              "#bd3786"
             ],
             [
              0.5555555555555556,
              "#d8576b"
             ],
             [
              0.6666666666666666,
              "#ed7953"
             ],
             [
              0.7777777777777778,
              "#fb9f3a"
             ],
             [
              0.8888888888888888,
              "#fdca26"
             ],
             [
              1,
              "#f0f921"
             ]
            ],
            "type": "heatmap"
           }
          ],
          "heatmapgl": [
           {
            "colorbar": {
             "outlinewidth": 0,
             "ticks": ""
            },
            "colorscale": [
             [
              0,
              "#0d0887"
             ],
             [
              0.1111111111111111,
              "#46039f"
             ],
             [
              0.2222222222222222,
              "#7201a8"
             ],
             [
              0.3333333333333333,
              "#9c179e"
             ],
             [
              0.4444444444444444,
              "#bd3786"
             ],
             [
              0.5555555555555556,
              "#d8576b"
             ],
             [
              0.6666666666666666,
              "#ed7953"
             ],
             [
              0.7777777777777778,
              "#fb9f3a"
             ],
             [
              0.8888888888888888,
              "#fdca26"
             ],
             [
              1,
              "#f0f921"
             ]
            ],
            "type": "heatmapgl"
           }
          ],
          "histogram": [
           {
            "marker": {
             "pattern": {
              "fillmode": "overlay",
              "size": 10,
              "solidity": 0.2
             }
            },
            "type": "histogram"
           }
          ],
          "histogram2d": [
           {
            "colorbar": {
             "outlinewidth": 0,
             "ticks": ""
            },
            "colorscale": [
             [
              0,
              "#0d0887"
             ],
             [
              0.1111111111111111,
              "#46039f"
             ],
             [
              0.2222222222222222,
              "#7201a8"
             ],
             [
              0.3333333333333333,
              "#9c179e"
             ],
             [
              0.4444444444444444,
              "#bd3786"
             ],
             [
              0.5555555555555556,
              "#d8576b"
             ],
             [
              0.6666666666666666,
              "#ed7953"
             ],
             [
              0.7777777777777778,
              "#fb9f3a"
             ],
             [
              0.8888888888888888,
              "#fdca26"
             ],
             [
              1,
              "#f0f921"
             ]
            ],
            "type": "histogram2d"
           }
          ],
          "histogram2dcontour": [
           {
            "colorbar": {
             "outlinewidth": 0,
             "ticks": ""
            },
            "colorscale": [
             [
              0,
              "#0d0887"
             ],
             [
              0.1111111111111111,
              "#46039f"
             ],
             [
              0.2222222222222222,
              "#7201a8"
             ],
             [
              0.3333333333333333,
              "#9c179e"
             ],
             [
              0.4444444444444444,
              "#bd3786"
             ],
             [
              0.5555555555555556,
              "#d8576b"
             ],
             [
              0.6666666666666666,
              "#ed7953"
             ],
             [
              0.7777777777777778,
              "#fb9f3a"
             ],
             [
              0.8888888888888888,
              "#fdca26"
             ],
             [
              1,
              "#f0f921"
             ]
            ],
            "type": "histogram2dcontour"
           }
          ],
          "mesh3d": [
           {
            "colorbar": {
             "outlinewidth": 0,
             "ticks": ""
            },
            "type": "mesh3d"
           }
          ],
          "parcoords": [
           {
            "line": {
             "colorbar": {
              "outlinewidth": 0,
              "ticks": ""
             }
            },
            "type": "parcoords"
           }
          ],
          "pie": [
           {
            "automargin": true,
            "type": "pie"
           }
          ],
          "scatter": [
           {
            "fillpattern": {
             "fillmode": "overlay",
             "size": 10,
             "solidity": 0.2
            },
            "type": "scatter"
           }
          ],
          "scatter3d": [
           {
            "line": {
             "colorbar": {
              "outlinewidth": 0,
              "ticks": ""
             }
            },
            "marker": {
             "colorbar": {
              "outlinewidth": 0,
              "ticks": ""
             }
            },
            "type": "scatter3d"
           }
          ],
          "scattercarpet": [
           {
            "marker": {
             "colorbar": {
              "outlinewidth": 0,
              "ticks": ""
             }
            },
            "type": "scattercarpet"
           }
          ],
          "scattergeo": [
           {
            "marker": {
             "colorbar": {
              "outlinewidth": 0,
              "ticks": ""
             }
            },
            "type": "scattergeo"
           }
          ],
          "scattergl": [
           {
            "marker": {
             "colorbar": {
              "outlinewidth": 0,
              "ticks": ""
             }
            },
            "type": "scattergl"
           }
          ],
          "scattermapbox": [
           {
            "marker": {
             "colorbar": {
              "outlinewidth": 0,
              "ticks": ""
             }
            },
            "type": "scattermapbox"
           }
          ],
          "scatterpolar": [
           {
            "marker": {
             "colorbar": {
              "outlinewidth": 0,
              "ticks": ""
             }
            },
            "type": "scatterpolar"
           }
          ],
          "scatterpolargl": [
           {
            "marker": {
             "colorbar": {
              "outlinewidth": 0,
              "ticks": ""
             }
            },
            "type": "scatterpolargl"
           }
          ],
          "scatterternary": [
           {
            "marker": {
             "colorbar": {
              "outlinewidth": 0,
              "ticks": ""
             }
            },
            "type": "scatterternary"
           }
          ],
          "surface": [
           {
            "colorbar": {
             "outlinewidth": 0,
             "ticks": ""
            },
            "colorscale": [
             [
              0,
              "#0d0887"
             ],
             [
              0.1111111111111111,
              "#46039f"
             ],
             [
              0.2222222222222222,
              "#7201a8"
             ],
             [
              0.3333333333333333,
              "#9c179e"
             ],
             [
              0.4444444444444444,
              "#bd3786"
             ],
             [
              0.5555555555555556,
              "#d8576b"
             ],
             [
              0.6666666666666666,
              "#ed7953"
             ],
             [
              0.7777777777777778,
              "#fb9f3a"
             ],
             [
              0.8888888888888888,
              "#fdca26"
             ],
             [
              1,
              "#f0f921"
             ]
            ],
            "type": "surface"
           }
          ],
          "table": [
           {
            "cells": {
             "fill": {
              "color": "#EBF0F8"
             },
             "line": {
              "color": "white"
             }
            },
            "header": {
             "fill": {
              "color": "#C8D4E3"
             },
             "line": {
              "color": "white"
             }
            },
            "type": "table"
           }
          ]
         },
         "layout": {
          "annotationdefaults": {
           "arrowcolor": "#2a3f5f",
           "arrowhead": 0,
           "arrowwidth": 1
          },
          "autotypenumbers": "strict",
          "coloraxis": {
           "colorbar": {
            "outlinewidth": 0,
            "ticks": ""
           }
          },
          "colorscale": {
           "diverging": [
            [
             0,
             "#8e0152"
            ],
            [
             0.1,
             "#c51b7d"
            ],
            [
             0.2,
             "#de77ae"
            ],
            [
             0.3,
             "#f1b6da"
            ],
            [
             0.4,
             "#fde0ef"
            ],
            [
             0.5,
             "#f7f7f7"
            ],
            [
             0.6,
             "#e6f5d0"
            ],
            [
             0.7,
             "#b8e186"
            ],
            [
             0.8,
             "#7fbc41"
            ],
            [
             0.9,
             "#4d9221"
            ],
            [
             1,
             "#276419"
            ]
           ],
           "sequential": [
            [
             0,
             "#0d0887"
            ],
            [
             0.1111111111111111,
             "#46039f"
            ],
            [
             0.2222222222222222,
             "#7201a8"
            ],
            [
             0.3333333333333333,
             "#9c179e"
            ],
            [
             0.4444444444444444,
             "#bd3786"
            ],
            [
             0.5555555555555556,
             "#d8576b"
            ],
            [
             0.6666666666666666,
             "#ed7953"
            ],
            [
             0.7777777777777778,
             "#fb9f3a"
            ],
            [
             0.8888888888888888,
             "#fdca26"
            ],
            [
             1,
             "#f0f921"
            ]
           ],
           "sequentialminus": [
            [
             0,
             "#0d0887"
            ],
            [
             0.1111111111111111,
             "#46039f"
            ],
            [
             0.2222222222222222,
             "#7201a8"
            ],
            [
             0.3333333333333333,
             "#9c179e"
            ],
            [
             0.4444444444444444,
             "#bd3786"
            ],
            [
             0.5555555555555556,
             "#d8576b"
            ],
            [
             0.6666666666666666,
             "#ed7953"
            ],
            [
             0.7777777777777778,
             "#fb9f3a"
            ],
            [
             0.8888888888888888,
             "#fdca26"
            ],
            [
             1,
             "#f0f921"
            ]
           ]
          },
          "colorway": [
           "#636efa",
           "#EF553B",
           "#00cc96",
           "#ab63fa",
           "#FFA15A",
           "#19d3f3",
           "#FF6692",
           "#B6E880",
           "#FF97FF",
           "#FECB52"
          ],
          "font": {
           "color": "#2a3f5f"
          },
          "geo": {
           "bgcolor": "white",
           "lakecolor": "white",
           "landcolor": "#E5ECF6",
           "showlakes": true,
           "showland": true,
           "subunitcolor": "white"
          },
          "hoverlabel": {
           "align": "left"
          },
          "hovermode": "closest",
          "mapbox": {
           "style": "light"
          },
          "paper_bgcolor": "white",
          "plot_bgcolor": "#E5ECF6",
          "polar": {
           "angularaxis": {
            "gridcolor": "white",
            "linecolor": "white",
            "ticks": ""
           },
           "bgcolor": "#E5ECF6",
           "radialaxis": {
            "gridcolor": "white",
            "linecolor": "white",
            "ticks": ""
           }
          },
          "scene": {
           "xaxis": {
            "backgroundcolor": "#E5ECF6",
            "gridcolor": "white",
            "gridwidth": 2,
            "linecolor": "white",
            "showbackground": true,
            "ticks": "",
            "zerolinecolor": "white"
           },
           "yaxis": {
            "backgroundcolor": "#E5ECF6",
            "gridcolor": "white",
            "gridwidth": 2,
            "linecolor": "white",
            "showbackground": true,
            "ticks": "",
            "zerolinecolor": "white"
           },
           "zaxis": {
            "backgroundcolor": "#E5ECF6",
            "gridcolor": "white",
            "gridwidth": 2,
            "linecolor": "white",
            "showbackground": true,
            "ticks": "",
            "zerolinecolor": "white"
           }
          },
          "shapedefaults": {
           "line": {
            "color": "#2a3f5f"
           }
          },
          "ternary": {
           "aaxis": {
            "gridcolor": "white",
            "linecolor": "white",
            "ticks": ""
           },
           "baxis": {
            "gridcolor": "white",
            "linecolor": "white",
            "ticks": ""
           },
           "bgcolor": "#E5ECF6",
           "caxis": {
            "gridcolor": "white",
            "linecolor": "white",
            "ticks": ""
           }
          },
          "title": {
           "x": 0.05
          },
          "xaxis": {
           "automargin": true,
           "gridcolor": "white",
           "linecolor": "white",
           "ticks": "",
           "title": {
            "standoff": 15
           },
           "zerolinecolor": "white",
           "zerolinewidth": 2
          },
          "yaxis": {
           "automargin": true,
           "gridcolor": "white",
           "linecolor": "white",
           "ticks": "",
           "title": {
            "standoff": 15
           },
           "zerolinecolor": "white",
           "zerolinewidth": 2
          }
         }
        },
        "title": {
         "text": "Example Graph"
        }
       }
      }
     },
     "metadata": {},
     "output_type": "display_data"
    }
   ],
   "source": [
    "# Draw a more beautiful, interactive graph\n",
    "\n",
    "def setup_plotly_graph(G : nx.Graph):\n",
    "    pos = nx.spring_layout(G)\n",
    "    edge_x, edge_y = [], []\n",
    "    for edge in G.edges():\n",
    "        x0, y0 = pos[edge[0]]\n",
    "        x1, y1 = pos[edge[1]]\n",
    "        edge_x += [x0, x1, None]\n",
    "        edge_y += [y0, y1, None]\n",
    "\n",
    "    node_x, node_y = zip(*pos.values())\n",
    "\n",
    "    return edge_x, edge_y, node_x, node_y\n",
    "\n",
    "def draw_plotly(G : nx.Graph):\n",
    "    edge_x, edge_y, node_x, node_y = setup_plotly_graph(G)\n",
    "\n",
    "    edge_trace = go.Scatter(x=edge_x, y=edge_y,\n",
    "                            line=dict(width=1, color='gray'),\n",
    "                            hoverinfo='none',\n",
    "                            mode='lines')\n",
    "    node_trace = go.Scatter(x=node_x, y=node_y,\n",
    "                            mode='markers+text',\n",
    "                            marker=dict(size=25, color='blue'),\n",
    "                            text=list(G.nodes),\n",
    "                            textposition=\"top center\")\n",
    "\n",
    "    fig = go.Figure(data=[edge_trace, node_trace],\n",
    "                    layout=go.Layout(title=\"Example Graph\",\n",
    "                                    showlegend=False,\n",
    "                                    hovermode='closest'))\n",
    "    \n",
    "    return fig\n",
    "\n",
    "fig = draw_plotly(G)\n",
    "fig.show()"
   ]
  },
  {
   "cell_type": "markdown",
   "metadata": {},
   "source": [
    "\n",
    "#### Adjacency Lists\n",
    "\n",
    "For each node in the graph, its adjacency list contains all nodes it is connected to. Pros: easily readable, cons: redundant"
   ]
  },
  {
   "cell_type": "code",
   "execution_count": 4,
   "metadata": {},
   "outputs": [
    {
     "name": "stdout",
     "output_type": "stream",
     "text": [
      "1: [2, 3, 5]\n",
      "2: [1, 4]\n",
      "3: [1, 5]\n",
      "4: [2]\n",
      "5: [1, 3]\n"
     ]
    }
   ],
   "source": [
    "for k,v in G.adj.items():\n",
    "    print(\"{}: {}\".format(k, list(v.keys())))"
   ]
  },
  {
   "cell_type": "markdown",
   "metadata": {},
   "source": [
    "#### Adjacency Matrices\n",
    "\n",
    "##### Node-2-Edge"
   ]
  },
  {
   "cell_type": "code",
   "execution_count": 5,
   "metadata": {},
   "outputs": [
    {
     "data": {
      "text/plain": [
       "array([[1, 1, 1, 0, 0],\n",
       "       [1, 0, 0, 1, 0],\n",
       "       [0, 1, 0, 0, 1],\n",
       "       [0, 0, 0, 1, 0],\n",
       "       [0, 0, 1, 0, 1]], dtype=int32)"
      ]
     },
     "execution_count": 5,
     "metadata": {},
     "output_type": "execute_result"
    }
   ],
   "source": [
    "import numpy as np\n",
    "\n",
    "def node_to_edge_adjacency_matrix(G : nx.Graph):\n",
    "    # Get the list of nodes and edges\n",
    "    nodes = list(G.nodes)\n",
    "    edges = [(x[0] - 1,x[1] - 1) for x in list(G.edges)]\n",
    "\n",
    "    # Initialize the node-to-edge adjacency matrix\n",
    "    n = len(nodes)\n",
    "    m = len(edges)\n",
    "    matrix = np.zeros((n, m), dtype=np.int32)\n",
    "\n",
    "    # Populate the matrix\n",
    "    for edge_index, (u, v) in enumerate(edges):\n",
    "        matrix[u, edge_index] = 1\n",
    "        matrix[v, edge_index] = 1\n",
    "\n",
    "    return matrix\n",
    "\n",
    "node_to_edge_adjacency_matrix(G)"
   ]
  },
  {
   "cell_type": "markdown",
   "metadata": {},
   "source": [
    "##### Node-2-Node"
   ]
  },
  {
   "cell_type": "code",
   "execution_count": 6,
   "metadata": {},
   "outputs": [
    {
     "data": {
      "text/plain": [
       "array([[0, 1, 1, 0, 1],\n",
       "       [1, 0, 0, 1, 0],\n",
       "       [1, 0, 0, 0, 1],\n",
       "       [0, 1, 0, 0, 0],\n",
       "       [1, 0, 1, 0, 0]], dtype=int32)"
      ]
     },
     "execution_count": 6,
     "metadata": {},
     "output_type": "execute_result"
    }
   ],
   "source": [
    "a = nx.to_numpy_array(G, dtype=np.int32)\n",
    "a"
   ]
  },
  {
   "cell_type": "markdown",
   "metadata": {},
   "source": [
    "### For our purposes, the most convenient form of graph representation are n2n adjacency matrices."
   ]
  },
  {
   "cell_type": "markdown",
   "metadata": {},
   "source": [
    "### Graphs in Recommendation\n",
    "- Nodes: users, items\n",
    "- Edges: interactions\n",
    "\n",
    "The graph representation of a recommendation scenario is inherently *bipartite*.\n",
    "\n",
    "> **Bipartite Graph**: a graph $G$ is bipartite if its set of nodes $N$ can be divided into two **disjoint** sets of nodes, $N_1$ and $N_2$, such that for every edge $e$ in $G$, $e$ connects a node belonging to $N_1$ to a node in $N_2$ or vice versa, thus there is no inter-set connections among nodes within $N_1$ nor $N_2$.\n",
    "\n",
    "In our case, class $N_1$ is defined by the *user nodes*, and class $N_2$ by *item nodes*, since the edges define user-item interactions.\n",
    "\n",
    "Consequently, the graph's adjacency matrix will **contain the URM**.\n",
    "\n",
    "[image]\n",
    "\n",
    "> **Path**: a sequence of $m + 1$ nodes $n_0 \\rightarrow n_1 \\rightarrow n_2 \\rightarrow ... \\rightarrow n_m$ such that $\\forall i = 1, ..., m, (n_{i-1}, n_{i}) \\in E$.\n",
    "\n",
    "I.e., a *path* is a sequence of connected nodes within a graph. A path will have a starting node $A$ and a destination node $B$. In the context of recommendation, we can think of paths as **collaborative signals**!"
   ]
  },
  {
   "cell_type": "markdown",
   "metadata": {},
   "source": [
    "### Random Walks"
   ]
  },
  {
   "cell_type": "code",
   "execution_count": 7,
   "metadata": {},
   "outputs": [],
   "source": [
    "import time\n",
    "import numpy as np"
   ]
  },
  {
   "cell_type": "markdown",
   "metadata": {},
   "source": [
    "#### Illustrative Example\n",
    "Let's create a graph $G$ with 2 users, 3 items and the following adjacency matrix: $$\\begin{bmatrix}0 & 0 & 1 & 0 & 1 \\\\ 0 & 0 & 1 & 1 & 0 \\\\ 1 & 1 & 0 & 0 & 0 \\\\ 0 & 1 & 0 & 0 & 0 \\\\ 1 & 0 & 0 & 0 & 0\\end{bmatrix}.$$\n",
    "\n",
    "It corresponds to the following schema:"
   ]
  },
  {
   "cell_type": "code",
   "execution_count": 8,
   "metadata": {},
   "outputs": [
    {
     "data": {
      "application/vnd.plotly.v1+json": {
       "config": {
        "plotlyServerURL": "https://plot.ly"
       },
       "data": [
        {
         "hoverinfo": "none",
         "line": {
          "color": "gray",
          "width": 1
         },
         "mode": "lines",
         "type": "scatter",
         "x": [
          -0.5326366126251125,
          -0.0029474892480129897,
          null,
          -0.5326366126251125,
          -0.9952858928913362,
          null,
          0.5308699947644616,
          -0.0029474892480129897,
          null,
          0.5308699947644616,
          1,
          null
         ],
         "y": [
          0.41951255955171846,
          -0.0034417061893605577,
          null,
          0.41951255955171846,
          0.794665190133787,
          null,
          -0.4232548779750034,
          -0.0034417061893605577,
          null,
          -0.4232548779750034,
          -0.7874811655211413,
          null
         ]
        },
        {
         "marker": {
          "color": "blue",
          "size": 25
         },
         "mode": "markers+text",
         "text": [
          "0",
          "1",
          "2",
          "3",
          "4"
         ],
         "textposition": "top center",
         "type": "scatter",
         "x": [
          -0.5326366126251125,
          0.5308699947644616,
          -0.0029474892480129897,
          1,
          -0.9952858928913362
         ],
         "y": [
          0.41951255955171846,
          -0.4232548779750034,
          -0.0034417061893605577,
          -0.7874811655211413,
          0.794665190133787
         ]
        }
       ],
       "layout": {
        "hovermode": "closest",
        "showlegend": false,
        "template": {
         "data": {
          "bar": [
           {
            "error_x": {
             "color": "#2a3f5f"
            },
            "error_y": {
             "color": "#2a3f5f"
            },
            "marker": {
             "line": {
              "color": "#E5ECF6",
              "width": 0.5
             },
             "pattern": {
              "fillmode": "overlay",
              "size": 10,
              "solidity": 0.2
             }
            },
            "type": "bar"
           }
          ],
          "barpolar": [
           {
            "marker": {
             "line": {
              "color": "#E5ECF6",
              "width": 0.5
             },
             "pattern": {
              "fillmode": "overlay",
              "size": 10,
              "solidity": 0.2
             }
            },
            "type": "barpolar"
           }
          ],
          "carpet": [
           {
            "aaxis": {
             "endlinecolor": "#2a3f5f",
             "gridcolor": "white",
             "linecolor": "white",
             "minorgridcolor": "white",
             "startlinecolor": "#2a3f5f"
            },
            "baxis": {
             "endlinecolor": "#2a3f5f",
             "gridcolor": "white",
             "linecolor": "white",
             "minorgridcolor": "white",
             "startlinecolor": "#2a3f5f"
            },
            "type": "carpet"
           }
          ],
          "choropleth": [
           {
            "colorbar": {
             "outlinewidth": 0,
             "ticks": ""
            },
            "type": "choropleth"
           }
          ],
          "contour": [
           {
            "colorbar": {
             "outlinewidth": 0,
             "ticks": ""
            },
            "colorscale": [
             [
              0,
              "#0d0887"
             ],
             [
              0.1111111111111111,
              "#46039f"
             ],
             [
              0.2222222222222222,
              "#7201a8"
             ],
             [
              0.3333333333333333,
              "#9c179e"
             ],
             [
              0.4444444444444444,
              "#bd3786"
             ],
             [
              0.5555555555555556,
              "#d8576b"
             ],
             [
              0.6666666666666666,
              "#ed7953"
             ],
             [
              0.7777777777777778,
              "#fb9f3a"
             ],
             [
              0.8888888888888888,
              "#fdca26"
             ],
             [
              1,
              "#f0f921"
             ]
            ],
            "type": "contour"
           }
          ],
          "contourcarpet": [
           {
            "colorbar": {
             "outlinewidth": 0,
             "ticks": ""
            },
            "type": "contourcarpet"
           }
          ],
          "heatmap": [
           {
            "colorbar": {
             "outlinewidth": 0,
             "ticks": ""
            },
            "colorscale": [
             [
              0,
              "#0d0887"
             ],
             [
              0.1111111111111111,
              "#46039f"
             ],
             [
              0.2222222222222222,
              "#7201a8"
             ],
             [
              0.3333333333333333,
              "#9c179e"
             ],
             [
              0.4444444444444444,
              "#bd3786"
             ],
             [
              0.5555555555555556,
              "#d8576b"
             ],
             [
              0.6666666666666666,
              "#ed7953"
             ],
             [
              0.7777777777777778,
              "#fb9f3a"
             ],
             [
              0.8888888888888888,
              "#fdca26"
             ],
             [
              1,
              "#f0f921"
             ]
            ],
            "type": "heatmap"
           }
          ],
          "heatmapgl": [
           {
            "colorbar": {
             "outlinewidth": 0,
             "ticks": ""
            },
            "colorscale": [
             [
              0,
              "#0d0887"
             ],
             [
              0.1111111111111111,
              "#46039f"
             ],
             [
              0.2222222222222222,
              "#7201a8"
             ],
             [
              0.3333333333333333,
              "#9c179e"
             ],
             [
              0.4444444444444444,
              "#bd3786"
             ],
             [
              0.5555555555555556,
              "#d8576b"
             ],
             [
              0.6666666666666666,
              "#ed7953"
             ],
             [
              0.7777777777777778,
              "#fb9f3a"
             ],
             [
              0.8888888888888888,
              "#fdca26"
             ],
             [
              1,
              "#f0f921"
             ]
            ],
            "type": "heatmapgl"
           }
          ],
          "histogram": [
           {
            "marker": {
             "pattern": {
              "fillmode": "overlay",
              "size": 10,
              "solidity": 0.2
             }
            },
            "type": "histogram"
           }
          ],
          "histogram2d": [
           {
            "colorbar": {
             "outlinewidth": 0,
             "ticks": ""
            },
            "colorscale": [
             [
              0,
              "#0d0887"
             ],
             [
              0.1111111111111111,
              "#46039f"
             ],
             [
              0.2222222222222222,
              "#7201a8"
             ],
             [
              0.3333333333333333,
              "#9c179e"
             ],
             [
              0.4444444444444444,
              "#bd3786"
             ],
             [
              0.5555555555555556,
              "#d8576b"
             ],
             [
              0.6666666666666666,
              "#ed7953"
             ],
             [
              0.7777777777777778,
              "#fb9f3a"
             ],
             [
              0.8888888888888888,
              "#fdca26"
             ],
             [
              1,
              "#f0f921"
             ]
            ],
            "type": "histogram2d"
           }
          ],
          "histogram2dcontour": [
           {
            "colorbar": {
             "outlinewidth": 0,
             "ticks": ""
            },
            "colorscale": [
             [
              0,
              "#0d0887"
             ],
             [
              0.1111111111111111,
              "#46039f"
             ],
             [
              0.2222222222222222,
              "#7201a8"
             ],
             [
              0.3333333333333333,
              "#9c179e"
             ],
             [
              0.4444444444444444,
              "#bd3786"
             ],
             [
              0.5555555555555556,
              "#d8576b"
             ],
             [
              0.6666666666666666,
              "#ed7953"
             ],
             [
              0.7777777777777778,
              "#fb9f3a"
             ],
             [
              0.8888888888888888,
              "#fdca26"
             ],
             [
              1,
              "#f0f921"
             ]
            ],
            "type": "histogram2dcontour"
           }
          ],
          "mesh3d": [
           {
            "colorbar": {
             "outlinewidth": 0,
             "ticks": ""
            },
            "type": "mesh3d"
           }
          ],
          "parcoords": [
           {
            "line": {
             "colorbar": {
              "outlinewidth": 0,
              "ticks": ""
             }
            },
            "type": "parcoords"
           }
          ],
          "pie": [
           {
            "automargin": true,
            "type": "pie"
           }
          ],
          "scatter": [
           {
            "fillpattern": {
             "fillmode": "overlay",
             "size": 10,
             "solidity": 0.2
            },
            "type": "scatter"
           }
          ],
          "scatter3d": [
           {
            "line": {
             "colorbar": {
              "outlinewidth": 0,
              "ticks": ""
             }
            },
            "marker": {
             "colorbar": {
              "outlinewidth": 0,
              "ticks": ""
             }
            },
            "type": "scatter3d"
           }
          ],
          "scattercarpet": [
           {
            "marker": {
             "colorbar": {
              "outlinewidth": 0,
              "ticks": ""
             }
            },
            "type": "scattercarpet"
           }
          ],
          "scattergeo": [
           {
            "marker": {
             "colorbar": {
              "outlinewidth": 0,
              "ticks": ""
             }
            },
            "type": "scattergeo"
           }
          ],
          "scattergl": [
           {
            "marker": {
             "colorbar": {
              "outlinewidth": 0,
              "ticks": ""
             }
            },
            "type": "scattergl"
           }
          ],
          "scattermapbox": [
           {
            "marker": {
             "colorbar": {
              "outlinewidth": 0,
              "ticks": ""
             }
            },
            "type": "scattermapbox"
           }
          ],
          "scatterpolar": [
           {
            "marker": {
             "colorbar": {
              "outlinewidth": 0,
              "ticks": ""
             }
            },
            "type": "scatterpolar"
           }
          ],
          "scatterpolargl": [
           {
            "marker": {
             "colorbar": {
              "outlinewidth": 0,
              "ticks": ""
             }
            },
            "type": "scatterpolargl"
           }
          ],
          "scatterternary": [
           {
            "marker": {
             "colorbar": {
              "outlinewidth": 0,
              "ticks": ""
             }
            },
            "type": "scatterternary"
           }
          ],
          "surface": [
           {
            "colorbar": {
             "outlinewidth": 0,
             "ticks": ""
            },
            "colorscale": [
             [
              0,
              "#0d0887"
             ],
             [
              0.1111111111111111,
              "#46039f"
             ],
             [
              0.2222222222222222,
              "#7201a8"
             ],
             [
              0.3333333333333333,
              "#9c179e"
             ],
             [
              0.4444444444444444,
              "#bd3786"
             ],
             [
              0.5555555555555556,
              "#d8576b"
             ],
             [
              0.6666666666666666,
              "#ed7953"
             ],
             [
              0.7777777777777778,
              "#fb9f3a"
             ],
             [
              0.8888888888888888,
              "#fdca26"
             ],
             [
              1,
              "#f0f921"
             ]
            ],
            "type": "surface"
           }
          ],
          "table": [
           {
            "cells": {
             "fill": {
              "color": "#EBF0F8"
             },
             "line": {
              "color": "white"
             }
            },
            "header": {
             "fill": {
              "color": "#C8D4E3"
             },
             "line": {
              "color": "white"
             }
            },
            "type": "table"
           }
          ]
         },
         "layout": {
          "annotationdefaults": {
           "arrowcolor": "#2a3f5f",
           "arrowhead": 0,
           "arrowwidth": 1
          },
          "autotypenumbers": "strict",
          "coloraxis": {
           "colorbar": {
            "outlinewidth": 0,
            "ticks": ""
           }
          },
          "colorscale": {
           "diverging": [
            [
             0,
             "#8e0152"
            ],
            [
             0.1,
             "#c51b7d"
            ],
            [
             0.2,
             "#de77ae"
            ],
            [
             0.3,
             "#f1b6da"
            ],
            [
             0.4,
             "#fde0ef"
            ],
            [
             0.5,
             "#f7f7f7"
            ],
            [
             0.6,
             "#e6f5d0"
            ],
            [
             0.7,
             "#b8e186"
            ],
            [
             0.8,
             "#7fbc41"
            ],
            [
             0.9,
             "#4d9221"
            ],
            [
             1,
             "#276419"
            ]
           ],
           "sequential": [
            [
             0,
             "#0d0887"
            ],
            [
             0.1111111111111111,
             "#46039f"
            ],
            [
             0.2222222222222222,
             "#7201a8"
            ],
            [
             0.3333333333333333,
             "#9c179e"
            ],
            [
             0.4444444444444444,
             "#bd3786"
            ],
            [
             0.5555555555555556,
             "#d8576b"
            ],
            [
             0.6666666666666666,
             "#ed7953"
            ],
            [
             0.7777777777777778,
             "#fb9f3a"
            ],
            [
             0.8888888888888888,
             "#fdca26"
            ],
            [
             1,
             "#f0f921"
            ]
           ],
           "sequentialminus": [
            [
             0,
             "#0d0887"
            ],
            [
             0.1111111111111111,
             "#46039f"
            ],
            [
             0.2222222222222222,
             "#7201a8"
            ],
            [
             0.3333333333333333,
             "#9c179e"
            ],
            [
             0.4444444444444444,
             "#bd3786"
            ],
            [
             0.5555555555555556,
             "#d8576b"
            ],
            [
             0.6666666666666666,
             "#ed7953"
            ],
            [
             0.7777777777777778,
             "#fb9f3a"
            ],
            [
             0.8888888888888888,
             "#fdca26"
            ],
            [
             1,
             "#f0f921"
            ]
           ]
          },
          "colorway": [
           "#636efa",
           "#EF553B",
           "#00cc96",
           "#ab63fa",
           "#FFA15A",
           "#19d3f3",
           "#FF6692",
           "#B6E880",
           "#FF97FF",
           "#FECB52"
          ],
          "font": {
           "color": "#2a3f5f"
          },
          "geo": {
           "bgcolor": "white",
           "lakecolor": "white",
           "landcolor": "#E5ECF6",
           "showlakes": true,
           "showland": true,
           "subunitcolor": "white"
          },
          "hoverlabel": {
           "align": "left"
          },
          "hovermode": "closest",
          "mapbox": {
           "style": "light"
          },
          "paper_bgcolor": "white",
          "plot_bgcolor": "#E5ECF6",
          "polar": {
           "angularaxis": {
            "gridcolor": "white",
            "linecolor": "white",
            "ticks": ""
           },
           "bgcolor": "#E5ECF6",
           "radialaxis": {
            "gridcolor": "white",
            "linecolor": "white",
            "ticks": ""
           }
          },
          "scene": {
           "xaxis": {
            "backgroundcolor": "#E5ECF6",
            "gridcolor": "white",
            "gridwidth": 2,
            "linecolor": "white",
            "showbackground": true,
            "ticks": "",
            "zerolinecolor": "white"
           },
           "yaxis": {
            "backgroundcolor": "#E5ECF6",
            "gridcolor": "white",
            "gridwidth": 2,
            "linecolor": "white",
            "showbackground": true,
            "ticks": "",
            "zerolinecolor": "white"
           },
           "zaxis": {
            "backgroundcolor": "#E5ECF6",
            "gridcolor": "white",
            "gridwidth": 2,
            "linecolor": "white",
            "showbackground": true,
            "ticks": "",
            "zerolinecolor": "white"
           }
          },
          "shapedefaults": {
           "line": {
            "color": "#2a3f5f"
           }
          },
          "ternary": {
           "aaxis": {
            "gridcolor": "white",
            "linecolor": "white",
            "ticks": ""
           },
           "baxis": {
            "gridcolor": "white",
            "linecolor": "white",
            "ticks": ""
           },
           "bgcolor": "#E5ECF6",
           "caxis": {
            "gridcolor": "white",
            "linecolor": "white",
            "ticks": ""
           }
          },
          "title": {
           "x": 0.05
          },
          "xaxis": {
           "automargin": true,
           "gridcolor": "white",
           "linecolor": "white",
           "ticks": "",
           "title": {
            "standoff": 15
           },
           "zerolinecolor": "white",
           "zerolinewidth": 2
          },
          "yaxis": {
           "automargin": true,
           "gridcolor": "white",
           "linecolor": "white",
           "ticks": "",
           "title": {
            "standoff": 15
           },
           "zerolinecolor": "white",
           "zerolinewidth": 2
          }
         }
        },
        "title": {
         "text": "Example Graph"
        }
       }
      }
     },
     "metadata": {},
     "output_type": "display_data"
    }
   ],
   "source": [
    "G = nx.from_dict_of_dicts({\n",
    "    0 : {2 : {}, 4 : {}},\n",
    "    1 : {2 : {}, 3 : {}},\n",
    "    2 : {0 : {}, 1 : {}},\n",
    "    3 : {1 : {}},\n",
    "    4 : {0 : {}}\n",
    "})\n",
    "\n",
    "draw_plotly(G)"
   ]
  },
  {
   "cell_type": "code",
   "execution_count": 9,
   "metadata": {},
   "outputs": [
    {
     "data": {
      "text/plain": [
       "array([[0, 0, 1, 0, 1],\n",
       "       [0, 0, 1, 1, 0],\n",
       "       [1, 1, 0, 0, 0],\n",
       "       [0, 1, 0, 0, 0],\n",
       "       [1, 0, 0, 0, 0]], dtype=int32)"
      ]
     },
     "execution_count": 9,
     "metadata": {},
     "output_type": "execute_result"
    }
   ],
   "source": [
    "a = nx.to_numpy_array(G, dtype=np.int32)\n",
    "a"
   ]
  },
  {
   "cell_type": "code",
   "execution_count": 10,
   "metadata": {},
   "outputs": [],
   "source": [
    "# Transition probability function\n",
    "def transition(g : np.ndarray, n0 : int, hops : int):\n",
    "    # initial state\n",
    "    state = np.zeros(g.shape[1], dtype=np.float32)\n",
    "    state[n0] = 1\n",
    "\n",
    "    # compute transition probability matrix (can be done once)\n",
    "    transition_probability_matrix = np.array([x / x.sum().astype(np.float32) for x in g], dtype=np.float32)\n",
    "    # print(transition_probability_matrix)\n",
    "\n",
    "    j = 0\n",
    "    print(\"Hop: 0, state: {}\".format(state))\n",
    "    while j != hops:\n",
    "        state = state.dot(transition_probability_matrix)\n",
    "        print(\"Hop: {}, state: {}\".format(j+1, state))\n",
    "        j += 1\n",
    "    return state"
   ]
  },
  {
   "cell_type": "code",
   "execution_count": 11,
   "metadata": {},
   "outputs": [
    {
     "name": "stdout",
     "output_type": "stream",
     "text": [
      "Hop: 0, state: [1. 0. 0. 0. 0.]\n",
      "Hop: 1, state: [0.  0.  0.5 0.  0.5]\n",
      "Hop: 2, state: [0.75 0.25 0.   0.   0.  ]\n",
      "Hop: 3, state: [0.    0.    0.5   0.125 0.375]\n"
     ]
    },
    {
     "data": {
      "text/plain": [
       "array([0.   , 0.   , 0.5  , 0.125, 0.375], dtype=float32)"
      ]
     },
     "execution_count": 11,
     "metadata": {},
     "output_type": "execute_result"
    }
   ],
   "source": [
    "transition(g=a, n0=0, hops=3)"
   ]
  },
  {
   "cell_type": "markdown",
   "metadata": {},
   "source": [
    "#### Steady State"
   ]
  },
  {
   "cell_type": "code",
   "execution_count": 12,
   "metadata": {},
   "outputs": [
    {
     "name": "stdout",
     "output_type": "stream",
     "text": [
      "Hop: 0, state: [1. 0. 0. 0. 0.]\n",
      "Hop: 1, state: [0.  0.  0.5 0.  0.5]\n",
      "Hop: 2, state: [0.75 0.25 0.   0.   0.  ]\n",
      "Hop: 3, state: [0.    0.    0.5   0.125 0.375]\n",
      "Hop: 4, state: [0.625 0.375 0.    0.    0.   ]\n",
      "Hop: 5, state: [0.     0.     0.5    0.1875 0.3125]\n",
      "Hop: 6, state: [0.5625 0.4375 0.     0.     0.    ]\n",
      "Hop: 7, state: [0.      0.      0.5     0.21875 0.28125]\n",
      "Hop: 8, state: [0.53125 0.46875 0.      0.      0.     ]\n",
      "Hop: 9, state: [0.       0.       0.5      0.234375 0.265625]\n",
      "Hop: 10, state: [0.515625 0.484375 0.       0.       0.      ]\n",
      "Hop: 11, state: [0.        0.        0.5       0.2421875 0.2578125]\n",
      "Hop: 12, state: [0.5078125 0.4921875 0.        0.        0.       ]\n",
      "Hop: 13, state: [0.         0.         0.5        0.24609375 0.25390625]\n",
      "Hop: 14, state: [0.50390625 0.49609375 0.         0.         0.        ]\n",
      "Hop: 15, state: [0.         0.         0.5        0.24804688 0.25195312]\n",
      "Hop: 16, state: [0.5019531  0.49804688 0.         0.         0.        ]\n",
      "Hop: 17, state: [0.         0.         0.5        0.24902344 0.25097656]\n",
      "Hop: 18, state: [0.50097656 0.49902344 0.         0.         0.        ]\n",
      "Hop: 19, state: [0.         0.         0.5        0.24951172 0.25048828]\n",
      "Hop: 20, state: [0.5004883  0.49951172 0.         0.         0.        ]\n",
      "Hop: 21, state: [0.         0.         0.5        0.24975586 0.25024414]\n",
      "Hop: 22, state: [0.50024414 0.49975586 0.         0.         0.        ]\n",
      "Hop: 23, state: [0.         0.         0.5        0.24987793 0.25012207]\n",
      "Hop: 24, state: [0.5001221  0.49987793 0.         0.         0.        ]\n",
      "Hop: 25, state: [0.         0.         0.5        0.24993896 0.25006104]\n",
      "Hop: 26, state: [0.50006104 0.49993896 0.         0.         0.        ]\n",
      "Hop: 27, state: [0.         0.         0.5        0.24996948 0.25003052]\n",
      "Hop: 28, state: [0.5000305  0.49996948 0.         0.         0.        ]\n",
      "Hop: 29, state: [0.         0.         0.5        0.24998474 0.25001526]\n",
      "Hop: 30, state: [0.50001526 0.49998474 0.         0.         0.        ]\n",
      "Hop: 31, state: [0.         0.         0.5        0.24999237 0.25000763]\n",
      "Hop: 32, state: [0.5000076  0.49999237 0.         0.         0.        ]\n",
      "Hop: 33, state: [0.         0.         0.5        0.24999619 0.2500038 ]\n",
      "Hop: 34, state: [0.5000038 0.4999962 0.        0.        0.       ]\n",
      "Hop: 35, state: [0.        0.        0.5       0.2499981 0.2500019]\n",
      "Hop: 36, state: [0.5000019 0.4999981 0.        0.        0.       ]\n",
      "Hop: 37, state: [0.         0.         0.5        0.24999905 0.25000095]\n",
      "Hop: 38, state: [0.50000095 0.49999905 0.         0.         0.        ]\n",
      "Hop: 39, state: [0.         0.         0.5        0.24999952 0.25000048]\n",
      "Hop: 40, state: [0.5000005  0.49999952 0.         0.         0.        ]\n",
      "Hop: 41, state: [0.         0.         0.5        0.24999976 0.25000024]\n",
      "Hop: 42, state: [0.50000024 0.49999976 0.         0.         0.        ]\n",
      "Hop: 43, state: [0.         0.         0.5        0.24999988 0.25000012]\n",
      "Hop: 44, state: [0.5000001  0.49999988 0.         0.         0.        ]\n",
      "Hop: 45, state: [0.         0.         0.5        0.24999994 0.25000006]\n",
      "Hop: 46, state: [0.50000006 0.49999994 0.         0.         0.        ]\n",
      "Hop: 47, state: [0.         0.         0.5        0.24999997 0.25000003]\n",
      "Hop: 48, state: [0.5        0.49999997 0.         0.         0.        ]\n",
      "Hop: 49, state: [0.         0.         0.5        0.24999999 0.25      ]\n",
      "Hop: 50, state: [0.5 0.5 0.  0.  0. ]\n"
     ]
    },
    {
     "data": {
      "text/plain": [
       "array([0.5, 0.5, 0. , 0. , 0. ], dtype=float32)"
      ]
     },
     "execution_count": 12,
     "metadata": {},
     "output_type": "execute_result"
    }
   ],
   "source": [
    "transition(g=a, n0=0, hops=50)"
   ]
  },
  {
   "cell_type": "markdown",
   "metadata": {},
   "source": [
    "### $P^3$, $P^3_\\alpha$, $RP^3_\\beta$"
   ]
  },
  {
   "cell_type": "code",
   "execution_count": 13,
   "metadata": {},
   "outputs": [
    {
     "name": "stdout",
     "output_type": "stream",
     "text": [
      "Movielens10M: Verifying data consistency...\n",
      "Movielens10M: Verifying data consistency... Passed!\n",
      "DataReader: current dataset is: Movielens10M\n",
      "\tNumber of items: 10681\n",
      "\tNumber of users: 69878\n",
      "\tNumber of interactions in URM_all: 10000054\n",
      "\tValue range in URM_all: 0.50-5.00\n",
      "\tInteraction density: 1.34E-02\n",
      "\tInteractions per user:\n",
      "\t\t Min: 2.00E+01\n",
      "\t\t Avg: 1.43E+02\n",
      "\t\t Max: 7.36E+03\n",
      "\tInteractions per item:\n",
      "\t\t Min: 0.00E+00\n",
      "\t\t Avg: 9.36E+02\n",
      "\t\t Max: 3.49E+04\n",
      "\tGini Index: 0.57\n",
      "\n",
      "\tICM name: ICM_tags, Value range: 1.00 / 69.00, Num features: 10106, feature occurrences: 106820, density 9.90E-04\n",
      "\tICM name: ICM_genres, Value range: 1.00 / 1.00, Num features: 20, feature occurrences: 21564, density 1.01E-01\n",
      "\tICM name: ICM_all, Value range: 1.00 / 69.00, Num features: 10126, feature occurrences: 128384, density 1.19E-03\n",
      "\tICM name: ICM_year, Value range: 1.92E+03 / 2.01E+03, Num features: 1, feature occurrences: 10681, density 1.00E+00\n",
      "\n",
      "\n",
      "Warning: 77 (0.11 %) of 69878 users have no sampled items\n"
     ]
    }
   ],
   "source": [
    "from Data_manager.split_functions.split_train_validation_random_holdout import split_train_in_two_percentage_global_sample\n",
    "from Data_manager.Movielens.Movielens10MReader import Movielens10MReader\n",
    "\n",
    "data_reader = Movielens10MReader()\n",
    "data_loaded = data_reader.load_data()\n",
    "\n",
    "URM_all = data_loaded.get_URM_all()\n",
    "\n",
    "URM_train, URM_test = split_train_in_two_percentage_global_sample(URM_all, train_percentage = 0.8)"
   ]
  },
  {
   "cell_type": "markdown",
   "metadata": {},
   "source": [
    "Spiegone di come segmentare la URM in $P_{ui}$ e $P_{iu}$ e di cosa sono a livello pratico questi due segmenti (= URM normalizzata per righe, URM normalizzata per colonne e trasposta)"
   ]
  },
  {
   "cell_type": "code",
   "execution_count": 14,
   "metadata": {},
   "outputs": [],
   "source": [
    "def transition_matrix(g : np.ndarray, hops : int):\n",
    "    # initial state\n",
    "    state = np.diag(np.ones(g.shape))\n",
    "\n",
    "    # compute transition probability matrix (can be done once)\n",
    "    transition_probability_matrix = np.array([x / x.sum().astype(np.float32) for x in g], dtype=np.float32) # -> this is equivalent to a column-wise l1 normalization\n",
    "    # print(transition_probability_matrix)\n",
    "\n",
    "    j = 0\n",
    "    print(\"Hop: 0, state: {}\".format(state))\n",
    "    while j != hops:\n",
    "        state = state.dot(transition_probability_matrix)\n",
    "        print(\"Hop: {}, state: {}\".format(j+1, state))\n",
    "        j += 1\n",
    "    return state"
   ]
  },
  {
   "cell_type": "code",
   "execution_count": 15,
   "metadata": {},
   "outputs": [],
   "source": [
    "import scipy.sparse as sps\n",
    "\n",
    "class Incremental_Similarity_Builder:\n",
    "    \n",
    "    def __init__(self, matrix_size_0, matrix_size_1, initial_data_block = 10000000, additional_data_block = 10000000, dtype = np.float32):\n",
    "\n",
    "        self._matrix_size = [matrix_size_0, matrix_size_1]\n",
    "        self._initial_data_block = initial_data_block\n",
    "        self._additional_data_block = additional_data_block\n",
    "        self._next_cell_pointer = 0\n",
    "\n",
    "        self._dtype_data = dtype\n",
    "        self._dtype_coordinates = np.uint32\n",
    "        self._max_value_of_coordinate_dtype = np.iinfo(self._dtype_coordinates).max\n",
    "\n",
    "        self._row_array = np.zeros(self._initial_data_block, dtype=self._dtype_coordinates)\n",
    "        self._col_array = np.zeros(self._initial_data_block, dtype=self._dtype_coordinates)\n",
    "        self._data_array = np.zeros(self._initial_data_block, dtype=self._dtype_data)\n",
    "\n",
    "\n",
    "    def add_data_lists(self, row_list_to_add, col_list_to_add, data_list_to_add):\n",
    "\n",
    "        for data_point_index in range(len(row_list_to_add)):\n",
    "\n",
    "            if self._next_cell_pointer == len(self._row_array):\n",
    "                self._row_array = np.concatenate((self._row_array, np.zeros(self._additional_data_block, dtype=self._dtype_coordinates)))\n",
    "                self._col_array = np.concatenate((self._col_array, np.zeros(self._additional_data_block, dtype=self._dtype_coordinates)))\n",
    "                self._data_array = np.concatenate((self._data_array, np.zeros(self._additional_data_block, dtype=self._dtype_data)))\n",
    "\n",
    "            self._row_array[self._next_cell_pointer] = row_list_to_add[data_point_index]\n",
    "            self._col_array[self._next_cell_pointer] = col_list_to_add[data_point_index]\n",
    "            self._data_array[self._next_cell_pointer] = data_list_to_add[data_point_index]\n",
    "\n",
    "            self._next_cell_pointer += 1\n",
    "\n",
    "    def get_SparseMatrix(self):\n",
    "\n",
    "        shape = (self._matrix_size[0], self._matrix_size[1])\n",
    "\n",
    "        sparseMatrix = sps.csr_matrix((self._data_array[:self._next_cell_pointer],\n",
    "                                       (self._row_array[:self._next_cell_pointer], self._col_array[:self._next_cell_pointer])),\n",
    "                                      shape=shape,\n",
    "                                      dtype=self._dtype_data)\n",
    "\n",
    "        sparseMatrix.eliminate_zeros()\n",
    "\n",
    "        return sparseMatrix"
   ]
  },
  {
   "cell_type": "code",
   "execution_count": 28,
   "metadata": {},
   "outputs": [],
   "source": [
    "from Recommenders.Recommender_utils import similarityMatrixTopK\n",
    "from sklearn.preprocessing import normalize\n",
    "\n",
    "def block_mul(matrix_1, matrix_2, block_dim : int = 200, topK = 100, normalize_sim : bool = False):\n",
    "\n",
    "    # only builds SQUARE matrices!! ziopera, need to rebuild\n",
    "    similarity_builder = Incremental_Similarity_Builder(matrix_1.shape[0], matrix_2.shape[1], initial_data_block=matrix_2.shape[1]*topK, dtype = np.float32)\n",
    "\n",
    "    for current_block_start_row in range(0, matrix_1.shape[0], block_dim):\n",
    "\n",
    "        if current_block_start_row + block_dim > matrix_2.shape[1]:\n",
    "            block_dim = matrix_2.shape[1] - current_block_start_row\n",
    "\n",
    "        similarity_block = matrix_1[current_block_start_row:current_block_start_row + block_dim, :] * matrix_2\n",
    "        similarity_block = similarity_block.toarray()\n",
    "\n",
    "        for row_in_block in range(block_dim):\n",
    "            row_data = similarity_block[row_in_block, :]\n",
    "            row_data[current_block_start_row + row_in_block] = 0 # <-- elements on diagonal are set to 0, prevent obvious solution\n",
    "\n",
    "            relevant_items_partition = np.argpartition(-row_data, topK-1, axis=0)[:topK]\n",
    "            row_data = row_data[relevant_items_partition]\n",
    "\n",
    "            # Incrementally build sparse matrix, do not add zeros\n",
    "            if np.any(row_data == 0.0):\n",
    "                non_zero_mask = row_data != 0.0\n",
    "                relevant_items_partition = relevant_items_partition[non_zero_mask]\n",
    "                row_data = row_data[non_zero_mask]\n",
    "\n",
    "            similarity_builder.add_data_lists(row_list_to_add=np.ones(len(row_data), dtype = np.int32) * (current_block_start_row + row_in_block),\n",
    "                                            col_list_to_add=relevant_items_partition,\n",
    "                                            data_list_to_add=row_data)\n",
    "\n",
    "    W_sparse = similarity_builder.get_SparseMatrix()\n",
    "\n",
    "    if normalize_sim:\n",
    "        W_sparse = normalize(W_sparse, norm='l1', axis=1)\n",
    "\n",
    "    if topK and W_sparse.get_shape()[0] == W_sparse.get_shape()[1]:\n",
    "        W_sparse = similarityMatrixTopK(W_sparse, k=topK)\n",
    "\n",
    "    return W_sparse"
   ]
  },
  {
   "cell_type": "code",
   "execution_count": null,
   "metadata": {},
   "outputs": [],
   "source": [
    "# We don't need to compute the full matrix, we just need Pui and Piu which we can compute from the URM\n",
    "def transition_matrix_blocks(URM, hops : int, alpha : float = 1., beta : float = 1., extract_similarity : bool = False):\n",
    "\n",
    "    # compute Pui (column-wise l1 norm)\n",
    "    P_ui = normalize(URM, norm='l1', axis=1)\n",
    "\n",
    "    # compute Piu (column-wise l1 norm over TRANSPOSED URM)\n",
    "    t_URM = URM.transpose(copy=True)\n",
    "    t_URM.data = np.ones(t_URM.data.size, np.float32) # <- we binarize: weights, if present, are already in P_ui\n",
    "\n",
    "    if beta != 1. : # RP3beta\n",
    "\n",
    "        t_URM_sum = np.array(t_URM.sum(axis=1)).ravel()\n",
    "        degree = np.zeros(URM.shape[1])\n",
    "\n",
    "        non_zero_mask = (t_URM_sum!=0.0)\n",
    "        degree[non_zero_mask] = np.power(t_URM_sum[non_zero_mask], -beta)\n",
    "\n",
    "    P_iu = normalize(t_URM, norm='l1', axis=1) # <- axis is still 1, because transposition was performed beforehand\n",
    "    del(t_URM) # <- save memory\n",
    "\n",
    "    if alpha != 1. : # P3alpha\n",
    "        P_ui = P_ui.power(alpha)\n",
    "        P_iu = P_iu.power(alpha)\n",
    "\n",
    "    j = 0\n",
    "    state = P_ui # <- doesn't work for hops < 1, but hops < 1 makes no sense \n",
    "\n",
    "    # equivalence to similarity item-based model: extracting sim matrix could be useful for hybrids\n",
    "    sim_matrix = P_iu if extract_similarity else None\n",
    "    \n",
    "    while j != hops:\n",
    "        if not j % 2:\n",
    "            state = block_mul(state, P_iu) # state * P_iu\n",
    "            if extract_similarity and (j > 1 and j < hops - 1) :\n",
    "                sim_matrix = block_mul(sim_matrix, P_iu) # sim_matrix * P_iu\n",
    "        else:\n",
    "            state = block_mul(state, P_ui) # state * P_ui\n",
    "            if extract_similarity and (j >= 1 and j < hops - 1) :\n",
    "                sim_matrix = block_mul(sim_matrix, P_ui) # sim_matrix * P_ui\n",
    "        j += 1\n",
    "    \n",
    "    if beta != 1.:\n",
    "        state = state * degree\n",
    "\n",
    "    return state, sim_matrix"
   ]
  },
  {
   "cell_type": "code",
   "execution_count": 24,
   "metadata": {},
   "outputs": [],
   "source": [
    "from typing import Optional\n",
    "class P3Recommender:\n",
    "    def __init__(self, URM):\n",
    "        self.URM = URM\n",
    "\n",
    "    def fit(self):\n",
    "        self.three_step_walk, _ = transition_matrix_blocks(self.URM, 3, extract_similarity=False)\n",
    "\n",
    "    def recommend(self, user_id, remove_seen : bool = True, at : Optional[int] = None):\n",
    "        Pi_0 = np.zeros(self.URM.shape[0] + self.URM.shape[1], dtype=np.int32)\n",
    "        Pi_0[user_id] = 1\n",
    "\n",
    "        ranking = self.three_step_walk.dot(Pi_0)\n",
    "\n",
    "        if remove_seen:\n",
    "            user_profile_start = self.URM.indptr[user_id]\n",
    "            user_profile_end = self.URM.indptr[user_id+1]\n",
    "            \n",
    "            seen_items = self.URM.indices[user_profile_start:user_profile_end]\n",
    "            \n",
    "            ranking[seen_items] = -np.inf\n",
    "            \n",
    "        ranking = np.flip(np.argsort(ranking))\n",
    "        return ranking[:at]"
   ]
  },
  {
   "cell_type": "code",
   "execution_count": 25,
   "metadata": {},
   "outputs": [],
   "source": [
    "class P3alphaRecommender:\n",
    "    def __init__(self, URM, alpha, extract_similarity=False):\n",
    "        self.URM = URM\n",
    "        self.alpha = alpha\n",
    "        self.extract_similarity = extract_similarity\n",
    "\n",
    "    def fit(self):\n",
    "        self.three_step_walk, self.sim_matrix = transition_matrix_blocks(self.URM, 3, self.alpha, extract_similarity=self.extract_similarity) # <- only change wrt P3 is the alpha exponent\n",
    "\n",
    "    def recommend(self, user_id, remove_seen : bool = True, at : Optional[int] = None):\n",
    "        Pi_0 = np.zeros(self.URM.shape[0] + self.URM.shape[1], dtype=np.int32)\n",
    "        Pi_0[user_id] = 1\n",
    "\n",
    "        ranking = self.three_step_walk.dot(Pi_0)\n",
    "\n",
    "        if remove_seen:\n",
    "            user_profile_start = self.URM.indptr[user_id]\n",
    "            user_profile_end = self.URM.indptr[user_id+1]\n",
    "            \n",
    "            seen_items = self.URM.indices[user_profile_start:user_profile_end]\n",
    "            \n",
    "            ranking[seen_items] = -np.inf\n",
    "            \n",
    "        ranking = np.flip(np.argsort(ranking))\n",
    "        return ranking[:at]"
   ]
  },
  {
   "cell_type": "code",
   "execution_count": 26,
   "metadata": {},
   "outputs": [],
   "source": [
    "class RP3betaRecommender:\n",
    "    def __init__(self, URM, alpha, beta):\n",
    "        self.URM = URM\n",
    "        self.alpha = alpha\n",
    "        self.beta = beta\n",
    "\n",
    "    def fit(self):\n",
    "        self.three_step_walk, _ = transition_matrix_blocks(self.URM, 3, self.alpha, self.beta, extract_similarity=False) # <- only change wrt P3alpha is beta\n",
    "\n",
    "    def recommend(self, user_id, remove_seen : bool = True, at : Optional[int] = None):\n",
    "        Pi_0 = np.zeros(self.URM.shape[0] + self.URM.shape[1], dtype=np.int32)\n",
    "        Pi_0[user_id] = 1\n",
    "\n",
    "        ranking = self.three_step_walk.dot(Pi_0)\n",
    "\n",
    "        if remove_seen:\n",
    "            user_profile_start = self.URM.indptr[user_id]\n",
    "            user_profile_end = self.URM.indptr[user_id+1]\n",
    "            \n",
    "            seen_items = self.URM.indices[user_profile_start:user_profile_end]\n",
    "            \n",
    "            ranking[seen_items] = -np.inf\n",
    "            \n",
    "        ranking = np.flip(np.argsort(ranking))\n",
    "        return ranking[:at]"
   ]
  },
  {
   "cell_type": "code",
   "execution_count": null,
   "metadata": {},
   "outputs": [],
   "source": [
    "# Esecuzione su dataset\n",
    "models = {\n",
    "    'P3' : P3Recommender(URM_train),\n",
    "    'P3alpha' : P3alphaRecommender(URM_train, alpha=0.5, extract_similarity=True),\n",
    "    'RP3beta' : RP3betaRecommender(URM_train, alpha=0.5, beta=0.3)\n",
    "}\n",
    "\n",
    "for model_name, model_obj in models.items():\n",
    "    model_obj.fit()\n",
    "    #TODO test"
   ]
  },
  {
   "cell_type": "code",
   "execution_count": null,
   "metadata": {},
   "outputs": [],
   "source": [
    "# P5/P7 e come cambiano le raccomandazioni/similarity density (se la RAM regge) --> se non regge, applicare KNN come da framework (similarityMatrixTopK)\n",
    "class PXRecommender:\n",
    "    def __init__(self, URM, hops : int):\n",
    "        self.URM = URM\n",
    "        self.hops = hops\n",
    "        if not hops % 2:\n",
    "            raise ValueError(\"Number of hops must be odd.\")\n",
    "\n",
    "    def fit(self):\n",
    "        self.three_step_walk, _ = transition_matrix_blocks(self.URM, self.hops, extract_similarity=False)\n",
    "\n",
    "    def recommend(self, user_id, remove_seen : bool = True, at : Optional[int] = None):\n",
    "        Pi_0 = np.zeros(self.URM.shape[0] + self.URM.shape[1], dtype=np.int32)\n",
    "        Pi_0[user_id] = 1\n",
    "\n",
    "        ranking = self.three_step_walk.dot(Pi_0)\n",
    "\n",
    "        if remove_seen:\n",
    "            user_profile_start = self.URM.indptr[user_id]\n",
    "            user_profile_end = self.URM.indptr[user_id+1]\n",
    "            \n",
    "            seen_items = self.URM.indices[user_profile_start:user_profile_end]\n",
    "            \n",
    "            ranking[seen_items] = -np.inf\n",
    "            \n",
    "        ranking = np.flip(np.argsort(ranking))\n",
    "        return ranking[:at]"
   ]
  },
  {
   "cell_type": "code",
   "execution_count": null,
   "metadata": {},
   "outputs": [],
   "source": [
    "# Compute recommendations on test set with P3, P5 and P7\n",
    "# Visualizzazione su come scende il valore metriche vs. numero di hop\n",
    "# Popularity plot, più P è alto più si vedrà short head-long tail"
   ]
  },
  {
   "cell_type": "markdown",
   "metadata": {},
   "source": [
    "Possibile ibridare modelli con hops diversi PRIO"
   ]
  },
  {
   "cell_type": "code",
   "execution_count": null,
   "metadata": {},
   "outputs": [],
   "source": [
    "from sklearn.preprocessing import normalize\n",
    "\n",
    "class P3Recommender:\n",
    "    \n",
    "    def __init__(self, URM_train):    \n",
    "        self.URM_train = URM_train\n",
    "    \n",
    "    def fit(self, topK, min_rating, implicit):\n",
    "        self.topK = topK\n",
    "        self.min_rating = min_rating\n",
    "        self.implicit = implicit\n",
    "\n",
    "        if self.min_rating > 0:\n",
    "            self.URM_train.data[self.URM_train.data < self.min_rating] = 0\n",
    "            self.URM_train.eliminate_zeros()\n",
    "            if self.implicit:\n",
    "                self.URM_train.data = np.ones(self.URM_train.data.size, dtype=np.float32)\n",
    "\n",
    "        #Pui is the row-normalized urm\n",
    "        Pui = normalize(self.URM_train, norm='l1', axis=1)\n",
    "\n",
    "        #Piu is the column-normalized, \"boolean\" urm transposed\n",
    "        X_bool = self.URM_train.transpose(copy=True)\n",
    "        X_bool.data = np.ones(X_bool.data.size, np.float32)\n",
    "        #ATTENTION: axis is still 1 because i transposed before the normalization\n",
    "        Piu = normalize(X_bool, norm='l1', axis=1)\n",
    "        del(X_bool)\n",
    "\n",
    "        self.W_sparse = Pui * Piu * Pui #sketch"
   ]
  },
  {
   "cell_type": "markdown",
   "metadata": {},
   "source": [
    "Il codice di cui sopra è giusto \"idealmente\", ma non utilizzabile a livello di complessità (spazio: troppi dati da caricare in memoria). Spiego come risolvere?"
   ]
  },
  {
   "cell_type": "markdown",
   "metadata": {},
   "source": [
    "Equivalenza con Item-item collaborative filtering: similarity matrix risulta uguale nelle dimensioni, possibile fare ibridi"
   ]
  },
  {
   "cell_type": "code",
   "execution_count": null,
   "metadata": {},
   "outputs": [],
   "source": [
    "from Recommenders import P3alphaRecommender\n",
    "\n",
    "# Fit and evaluate P3alpha (maybe change alpha a couple times to show how results change)"
   ]
  },
  {
   "cell_type": "markdown",
   "metadata": {},
   "source": [
    "#### Difference between $P^3_\\alpha$ and $RP^3_\\beta$\n",
    "\n",
    "... Rispiegone"
   ]
  },
  {
   "cell_type": "code",
   "execution_count": null,
   "metadata": {},
   "outputs": [],
   "source": [
    "from Recommenders import RP3betaRecommender\n",
    "\n",
    "# Fit and evaluate RP3beta"
   ]
  },
  {
   "cell_type": "markdown",
   "metadata": {},
   "source": [
    "### Adding Content Metadata to the Mix\n",
    "\n",
    "*Tripartite graph*: users, items, metadata\n",
    "\n",
    "#### How do Random Walks change?\n",
    "\n",
    "Spiegone"
   ]
  },
  {
   "cell_type": "markdown",
   "metadata": {},
   "source": [
    "#### Illustrative Example\n",
    "\n",
    "Let's restart from our little graph from before, adding 4 metadata \"tags\":$$\\begin{bmatrix}0 & 0 & 1 & 0 & 1 & 0 & 1 & 0 & 0\\\\ 0 & 0 & 1 & 1 & 0 & 1 & 0 & 0 & 0 \\\\ 1 & 1 & 0 & 0 & 0 & 0 & 0 & 1 & 1 \\\\ 0 & 1 & 0 & 0 & 0 & 0 & 0 & 1 & 0 \\\\ 1 & 0 & 0 & 0 & 0 & 0 & 0 & 0 & 1 \\\\ 0 & 1 & 0 & 0 & 0 & 0 & 0 & 0 & 0 \\\\ 1 & 0 & 0 & 0 & 0 & 0 & 0 & 0 & 0 \\\\ 0 & 0 & 0 & 1 & 0 & 0 & 0 & 0 & 0 \\\\ 0 & 0 & 1 & 0 & 1 & 0 & 0 & 0& 0\\end{bmatrix}.$$\n",
    "\n",
    "[image] <- NO: mostra come attaccare la ICM nella matrice di adiacenza e usare i modelli del framework direttamente"
   ]
  },
  {
   "cell_type": "code",
   "execution_count": null,
   "metadata": {},
   "outputs": [],
   "source": [
    "# Segui quello visto prima"
   ]
  },
  {
   "cell_type": "markdown",
   "metadata": {},
   "source": [
    "È possibile attaccare i metadati col framework? Nel caso, mostragli come."
   ]
  },
  {
   "cell_type": "markdown",
   "metadata": {},
   "source": [
    "- Part 1: generic structure of a graph\n",
    "    - Nodes\n",
    "    - Edges\n",
    "    - (E.g. : Gif of my knowledge graph on Obsidian)\n",
    "    - Notation: chart OR adjacency matrix OR adjacency lists\n",
    "        - Adjacency matrices: node2node OR node2edge\n",
    "            - For our purpose, we use node2node adjacency matrices\n",
    "- Part 2: graphs in recommendation\n",
    "    - Nodes: users, items\n",
    "    - Edges: interactions\n",
    "    - Bipartite graph: we can distinguish 2 classes of nodes, with edges only connecting nodes of class 1 to nodes of class 2 and vice-versa. No inter-class connections\n",
    "        - Adjacency matrix of a graph of interactions: URM!\n",
    "            - `G = [[[0][URM]], [[URM*], [0]]]`\n",
    "    - Path: sequence of connected nodes that starts with node A and ends with node B\n",
    "        - Recommendation idea: we can use paths as collaborative signals\n",
    "- Part 3: random walks\n",
    "    - Recap on mathematics (from textbook)\n",
    "    - Illustrative example (from slides)\n",
    "- Part 4: $P^3$, $P^3_\\alpha$, $RP^3_\\beta$\n",
    "    - $P^3$: 3-step random walks\n",
    "        - Theory recap (from textbook, don't explain)\n",
    "        - Illustrative example (from slides)\n",
    "    - $P^3_\\alpha$: add an exponent\n",
    "        - Theory recap (from textbook, don't explain)\n",
    "        - Illustrative example (from slides)\n",
    "    - $RP^3_\\beta$: ...\n",
    "        - Theory recap (from textbook, don't explain)\n",
    "        - How to use (from framework), strong baseline! Good for hybrids\n",
    "- Part 5: Adding item metadata, tripartite graph\n",
    "    - Theory recap (from slides)\n",
    "    - Illustrative example with $P^3$"
   ]
  }
 ],
 "metadata": {
  "kernelspec": {
   "display_name": "RSFramework",
   "language": "python",
   "name": "python3"
  },
  "language_info": {
   "codemirror_mode": {
    "name": "ipython",
    "version": 3
   },
   "file_extension": ".py",
   "mimetype": "text/x-python",
   "name": "python",
   "nbconvert_exporter": "python",
   "pygments_lexer": "ipython3",
   "version": "3.9.7"
  }
 },
 "nbformat": 4,
 "nbformat_minor": 2
}
