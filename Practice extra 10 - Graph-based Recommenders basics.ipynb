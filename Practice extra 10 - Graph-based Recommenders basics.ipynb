{
 "cells": [
  {
   "cell_type": "markdown",
   "metadata": {},
   "source": [
    "# Recommender Systems 2024/25"
   ]
  },
  {
   "cell_type": "markdown",
   "metadata": {},
   "source": [
    "### Practice 7 – Graph-based Models"
   ]
  },
  {
   "cell_type": "markdown",
   "metadata": {
    "vscode": {
     "languageId": "plaintext"
    }
   },
   "source": [
    "## Graph-based Recommenders"
   ]
  },
  {
   "cell_type": "markdown",
   "metadata": {},
   "source": [
    "### What is a Graph?\n",
    "\n",
    "In layman terms, a graph is a set of **interconnected entities**. Each entity is represented by a *node*, while the connections are called *edges*. Thus, mathematically speaking, a graph $G \\in \\mathbb{R}^{n\\times n}$ can be represented as two sets, $N$ (nodes) and $E$ (edges).$$G = (N,E) \\\\ N = \\{x_i | i \\in [1, |N|]_{\\mathbb{N}}\\} \\\\ E = \\{\\{x_i, x_j\\} | x_i,x_j \\in N\\}$$"
   ]
  },
  {
   "cell_type": "markdown",
   "metadata": {},
   "source": [
    "### Graph Notation\n",
    "\n",
    "#### Graph Chart\n",
    "\n",
    "Nodes are usually represented graphically as circles, with lines (=edges) connecting one another"
   ]
  },
  {
   "cell_type": "code",
   "execution_count": 1,
   "metadata": {},
   "outputs": [
    {
     "name": "stdout",
     "output_type": "stream",
     "text": [
      "Requirement already satisfied: plotly in /opt/homebrew/Caskroom/miniconda/base/envs/RSFramework/lib/python3.9/site-packages (5.22.0)\n",
      "Requirement already satisfied: tenacity>=6.2.0 in /opt/homebrew/Caskroom/miniconda/base/envs/RSFramework/lib/python3.9/site-packages (from plotly) (8.2.2)\n",
      "Requirement already satisfied: packaging in /opt/homebrew/Caskroom/miniconda/base/envs/RSFramework/lib/python3.9/site-packages (from plotly) (23.2)\n"
     ]
    }
   ],
   "source": [
    "!pip install plotly"
   ]
  },
  {
   "cell_type": "code",
   "execution_count": 2,
   "metadata": {},
   "outputs": [
    {
     "data": {
      "image/png": "[encoded data removed]",
      "text/plain": [
       "<Figure size 640x480 with 1 Axes>"
      ]
     },
     "metadata": {},
     "output_type": "display_data"
    }
   ],
   "source": [
    "import networkx as nx\n",
    "import plotly.graph_objects as go\n",
    "\n",
    "G = nx.Graph()\n",
    "G.add_nodes_from([1,2,3,4,5])\n",
    "G.add_edges_from([(1,2),(1,3),(1,5),(2,4),(3,5)])\n",
    "\n",
    "nx.draw(G, with_labels=True, node_color=\"green\")"
   ]
  },
  {
   "cell_type": "code",
   "execution_count": 3,
   "metadata": {},
   "outputs": [
    {
     "data": {
      "application/vnd.plotly.v1+json": {
       "config": {
        "plotlyServerURL": "https://plot.ly"
       },
       "data": [
        {
         "hoverinfo": "none",
         "line": {
          "color": "gray",
          "width": 1
         },
         "mode": "lines",
         "type": "scatter",
         "x": [
          0.17129915988684402,
          -0.4600147570083163,
          null,
          0.17129915988684402,
          0.7126739385227961,
          null,
          0.17129915988684402,
          0.5760416585986763,
          null,
          -0.4600147570083163,
          -1,
          null,
          0.7126739385227961,
          0.5760416585986763,
          null
         ],
         "y": [
          -0.05866976716840156,
          0.15760472232298955,
          null,
          -0.05866976716840156,
          -0.02136923001237474,
          null,
          -0.05866976716840156,
          -0.42013323964399235,
          null,
          0.15760472232298955,
          0.34256751450177897,
          null,
          -0.02136923001237474,
          -0.42013323964399235,
          null
         ]
        },
        {
         "marker": {
          "color": "blue",
          "size": 25
         },
         "mode": "markers+text",
         "text": [
          "1",
          "2",
          "3",
          "4",
          "5"
         ],
         "textposition": "top center",
         "type": "scatter",
         "x": [
          0.17129915988684402,
          -0.4600147570083163,
          0.7126739385227961,
          -1,
          0.5760416585986763
         ],
         "y": [
          -0.05866976716840156,
          0.15760472232298955,
          -0.02136923001237474,
          0.34256751450177897,
          -0.42013323964399235
         ]
        }
       ],
       "layout": {
        "hovermode": "closest",
        "showlegend": false,
        "template": {
         "data": {
          "bar": [
           {
            "error_x": {
             "color": "#2a3f5f"
            },
            "error_y": {
             "color": "#2a3f5f"
            },
            "marker": {
             "line": {
              "color": "#E5ECF6",
              "width": 0.5
             },
             "pattern": {
              "fillmode": "overlay",
              "size": 10,
              "solidity": 0.2
             }
            },
            "type": "bar"
           }
          ],
          "barpolar": [
           {
            "marker": {
             "line": {
              "color": "#E5ECF6",
              "width": 0.5
             },
             "pattern": {
              "fillmode": "overlay",
              "size": 10,
              "solidity": 0.2
             }
            },
            "type": "barpolar"
           }
          ],
          "carpet": [
           {
            "aaxis": {
             "endlinecolor": "#2a3f5f",
             "gridcolor": "white",
             "linecolor": "white",
             "minorgridcolor": "white",
             "startlinecolor": "#2a3f5f"
            },
            "baxis": {
             "endlinecolor": "#2a3f5f",
             "gridcolor": "white",
             "linecolor": "white",
             "minorgridcolor": "white",
             "startlinecolor": "#2a3f5f"
            },
            "type": "carpet"
           }
          ],
          "choropleth": [
           {
            "colorbar": {
             "outlinewidth": 0,
             "ticks": ""
            },
            "type": "choropleth"
           }
          ],
          "contour": [
           {
            "colorbar": {
             "outlinewidth": 0,
             "ticks": ""
            },
            "colorscale": [
             [
              0,
              "#0d0887"
             ],
             [
              0.1111111111111111,
              "#46039f"
             ],
             [
              0.2222222222222222,
              "#7201a8"
             ],
             [
              0.3333333333333333,
              "#9c179e"
             ],
             [
              0.4444444444444444,
              "#bd3786"
             ],
             [
              0.5555555555555556,
              "#d8576b"
             ],
             [
              0.6666666666666666,
              "#ed7953"
             ],
             [
              0.7777777777777778,
              "#fb9f3a"
             ],
             [
              0.8888888888888888,
              "#fdca26"
             ],
             [
              1,
              "#f0f921"
             ]
            ],
            "type": "contour"
           }
          ],
          "contourcarpet": [
           {
            "colorbar": {
             "outlinewidth": 0,
             "ticks": ""
            },
            "type": "contourcarpet"
           }
          ],
          "heatmap": [
           {
            "colorbar": {
             "outlinewidth": 0,
             "ticks": ""
            },
            "colorscale": [
             [
              0,
              "#0d0887"
             ],
             [
              0.1111111111111111,
              "#46039f"
             ],
             [
              0.2222222222222222,
              "#7201a8"
             ],
             [
              0.3333333333333333,
              "#9c179e"
             ],
             [
              0.4444444444444444,
              "#bd3786"
             ],
             [
              0.5555555555555556,
              "#d8576b"
             ],
             [
              0.6666666666666666,
              "#ed7953"
             ],
             [
              0.7777777777777778,
              "#fb9f3a"
             ],
             [
              0.8888888888888888,
              "#fdca26"
             ],
             [
              1,
              "#f0f921"
             ]
            ],
            "type": "heatmap"
           }
          ],
          "heatmapgl": [
           {
            "colorbar": {
             "outlinewidth": 0,
             "ticks": ""
            },
            "colorscale": [
             [
              0,
              "#0d0887"
             ],
             [
              0.1111111111111111,
              "#46039f"
             ],
             [
              0.2222222222222222,
              "#7201a8"
             ],
             [
              0.3333333333333333,
              "#9c179e"
             ],
             [
              0.4444444444444444,
              "#bd3786"
             ],
             [
              0.5555555555555556,
              "#d8576b"
             ],
             [
              0.6666666666666666,
              "#ed7953"
             ],
             [
              0.7777777777777778,
              "#fb9f3a"
             ],
             [
              0.8888888888888888,
              "#fdca26"
             ],
             [
              1,
              "#f0f921"
             ]
            ],
            "type": "heatmapgl"
           }
          ],
          "histogram": [
           {
            "marker": {
             "pattern": {
              "fillmode": "overlay",
              "size": 10,
              "solidity": 0.2
             }
            },
            "type": "histogram"
           }
          ],
          "histogram2d": [
           {
            "colorbar": {
             "outlinewidth": 0,
             "ticks": ""
            },
            "colorscale": [
             [
              0,
              "#0d0887"
             ],
             [
              0.1111111111111111,
              "#46039f"
             ],
             [
              0.2222222222222222,
              "#7201a8"
             ],
             [
              0.3333333333333333,
              "#9c179e"
             ],
             [
              0.4444444444444444,
              "#bd3786"
             ],
             [
              0.5555555555555556,
              "#d8576b"
             ],
             [
              0.6666666666666666,
              "#ed7953"
             ],
             [
              0.7777777777777778,
              "#fb9f3a"
             ],
             [
              0.8888888888888888,
              "#fdca26"
             ],
             [
              1,
              "#f0f921"
             ]
            ],
            "type": "histogram2d"
           }
          ],
          "histogram2dcontour": [
           {
            "colorbar": {
             "outlinewidth": 0,
             "ticks": ""
            },
            "colorscale": [
             [
              0,
              "#0d0887"
             ],
             [
              0.1111111111111111,
              "#46039f"
             ],
             [
              0.2222222222222222,
              "#7201a8"
             ],
             [
              0.3333333333333333,
              "#9c179e"
             ],
             [
              0.4444444444444444,
              "#bd3786"
             ],
             [
              0.5555555555555556,
              "#d8576b"
             ],
             [
              0.6666666666666666,
              "#ed7953"
             ],
             [
              0.7777777777777778,
              "#fb9f3a"
             ],
             [
              0.8888888888888888,
              "#fdca26"
             ],
             [
              1,
              "#f0f921"
             ]
            ],
            "type": "histogram2dcontour"
           }
          ],
          "mesh3d": [
           {
            "colorbar": {
             "outlinewidth": 0,
             "ticks": ""
            },
            "type": "mesh3d"
           }
          ],
          "parcoords": [
           {
            "line": {
             "colorbar": {
              "outlinewidth": 0,
              "ticks": ""
             }
            },
            "type": "parcoords"
           }
          ],
          "pie": [
           {
            "automargin": true,
            "type": "pie"
           }
          ],
          "scatter": [
           {
            "fillpattern": {
             "fillmode": "overlay",
             "size": 10,
             "solidity": 0.2
            },
            "type": "scatter"
           }
          ],
          "scatter3d": [
           {
            "line": {
             "colorbar": {
              "outlinewidth": 0,
              "ticks": ""
             }
            },
            "marker": {
             "colorbar": {
              "outlinewidth": 0,
              "ticks": ""
             }
            },
            "type": "scatter3d"
           }
          ],
          "scattercarpet": [
           {
            "marker": {
             "colorbar": {
              "outlinewidth": 0,
              "ticks": ""
             }
            },
            "type": "scattercarpet"
           }
          ],
          "scattergeo": [
           {
            "marker": {
             "colorbar": {
              "outlinewidth": 0,
              "ticks": ""
             }
            },
            "type": "scattergeo"
           }
          ],
          "scattergl": [
           {
            "marker": {
             "colorbar": {
              "outlinewidth": 0,
              "ticks": ""
             }
            },
            "type": "scattergl"
           }
          ],
          "scattermapbox": [
           {
            "marker": {
             "colorbar": {
              "outlinewidth": 0,
              "ticks": ""
             }
            },
            "type": "scattermapbox"
           }
          ],
          "scatterpolar": [
           {
            "marker": {
             "colorbar": {
              "outlinewidth": 0,
              "ticks": ""
             }
            },
            "type": "scatterpolar"
           }
          ],
          "scatterpolargl": [
           {
            "marker": {
             "colorbar": {
              "outlinewidth": 0,
              "ticks": ""
             }
            },
            "type": "scatterpolargl"
           }
          ],
          "scatterternary": [
           {
            "marker": {
             "colorbar": {
              "outlinewidth": 0,
              "ticks": ""
             }
            },
            "type": "scatterternary"
           }
          ],
          "surface": [
           {
            "colorbar": {
             "outlinewidth": 0,
             "ticks": ""
            },
            "colorscale": [
             [
              0,
              "#0d0887"
             ],
             [
              0.1111111111111111,
              "#46039f"
             ],
             [
              0.2222222222222222,
              "#7201a8"
             ],
             [
              0.3333333333333333,
              "#9c179e"
             ],
             [
              0.4444444444444444,
              "#bd3786"
             ],
             [
              0.5555555555555556,
              "#d8576b"
             ],
             [
              0.6666666666666666,
              "#ed7953"
             ],
             [
              0.7777777777777778,
              "#fb9f3a"
             ],
             [
              0.8888888888888888,
              "#fdca26"
             ],
             [
              1,
              "#f0f921"
             ]
            ],
            "type": "surface"
           }
          ],
          "table": [
           {
            "cells": {
             "fill": {
              "color": "#EBF0F8"
             },
             "line": {
              "color": "white"
             }
            },
            "header": {
             "fill": {
              "color": "#C8D4E3"
             },
             "line": {
              "color": "white"
             }
            },
            "type": "table"
           }
          ]
         },
         "layout": {
          "annotationdefaults": {
           "arrowcolor": "#2a3f5f",
           "arrowhead": 0,
           "arrowwidth": 1
          },
          "autotypenumbers": "strict",
          "coloraxis": {
           "colorbar": {
            "outlinewidth": 0,
            "ticks": ""
           }
          },
          "colorscale": {
           "diverging": [
            [
             0,
             "#8e0152"
            ],
            [
             0.1,
             "#c51b7d"
            ],
            [
             0.2,
             "#de77ae"
            ],
            [
             0.3,
             "#f1b6da"
            ],
            [
             0.4,
             "#fde0ef"
            ],
            [
             0.5,
             "#f7f7f7"
            ],
            [
             0.6,
             "#e6f5d0"
            ],
            [
             0.7,
             "#b8e186"
            ],
            [
             0.8,
             "#7fbc41"
            ],
            [
             0.9,
             "#4d9221"
            ],
            [
             1,
             "#276419"
            ]
           ],
           "sequential": [
            [
             0,
             "#0d0887"
            ],
            [
             0.1111111111111111,
             "#46039f"
            ],
            [
             0.2222222222222222,
             "#7201a8"
            ],
            [
             0.3333333333333333,
             "#9c179e"
            ],
            [
             0.4444444444444444,
             "#bd3786"
            ],
            [
             0.5555555555555556,
             "#d8576b"
            ],
            [
             0.6666666666666666,
             "#ed7953"
            ],
            [
             0.7777777777777778,
             "#fb9f3a"
            ],
            [
             0.8888888888888888,
             "#fdca26"
            ],
            [
             1,
             "#f0f921"
            ]
           ],
           "sequentialminus": [
            [
             0,
             "#0d0887"
            ],
            [
             0.1111111111111111,
             "#46039f"
            ],
            [
             0.2222222222222222,
             "#7201a8"
            ],
            [
             0.3333333333333333,
             "#9c179e"
            ],
            [
             0.4444444444444444,
             "#bd3786"
            ],
            [
             0.5555555555555556,
             "#d8576b"
            ],
            [
             0.6666666666666666,
             "#ed7953"
            ],
            [
             0.7777777777777778,
             "#fb9f3a"
            ],
            [
             0.8888888888888888,
             "#fdca26"
            ],
            [
             1,
             "#f0f921"
            ]
           ]
          },
          "colorway": [
           "#636efa",
           "#EF553B",
           "#00cc96",
           "#ab63fa",
           "#FFA15A",
           "#19d3f3",
           "#FF6692",
           "#B6E880",
           "#FF97FF",
           "#FECB52"
          ],
          "font": {
           "color": "#2a3f5f"
          },
          "geo": {
           "bgcolor": "white",
           "lakecolor": "white",
           "landcolor": "#E5ECF6",
           "showlakes": true,
           "showland": true,
           "subunitcolor": "white"
          },
          "hoverlabel": {
           "align": "left"
          },
          "hovermode": "closest",
          "mapbox": {
           "style": "light"
          },
          "paper_bgcolor": "white",
          "plot_bgcolor": "#E5ECF6",
          "polar": {
           "angularaxis": {
            "gridcolor": "white",
            "linecolor": "white",
            "ticks": ""
           },
           "bgcolor": "#E5ECF6",
           "radialaxis": {
            "gridcolor": "white",
            "linecolor": "white",
            "ticks": ""
           }
          },
          "scene": {
           "xaxis": {
            "backgroundcolor": "#E5ECF6",
            "gridcolor": "white",
            "gridwidth": 2,
            "linecolor": "white",
            "showbackground": true,
            "ticks": "",
            "zerolinecolor": "white"
           },
           "yaxis": {
            "backgroundcolor": "#E5ECF6",
            "gridcolor": "white",
            "gridwidth": 2,
            "linecolor": "white",
            "showbackground": true,
            "ticks": "",
            "zerolinecolor": "white"
           },
           "zaxis": {
            "backgroundcolor": "#E5ECF6",
            "gridcolor": "white",
            "gridwidth": 2,
            "linecolor": "white",
            "showbackground": true,
            "ticks": "",
            "zerolinecolor": "white"
           }
          },
          "shapedefaults": {
           "line": {
            "color": "#2a3f5f"
           }
          },
          "ternary": {
           "aaxis": {
            "gridcolor": "white",
            "linecolor": "white",
            "ticks": ""
           },
           "baxis": {
            "gridcolor": "white",
            "linecolor": "white",
            "ticks": ""
           },
           "bgcolor": "#E5ECF6",
           "caxis": {
            "gridcolor": "white",
            "linecolor": "white",
            "ticks": ""
           }
          },
          "title": {
           "x": 0.05
          },
          "xaxis": {
           "automargin": true,
           "gridcolor": "white",
           "linecolor": "white",
           "ticks": "",
           "title": {
            "standoff": 15
           },
           "zerolinecolor": "white",
           "zerolinewidth": 2
          },
          "yaxis": {
           "automargin": true,
           "gridcolor": "white",
           "linecolor": "white",
           "ticks": "",
           "title": {
            "standoff": 15
           },
           "zerolinecolor": "white",
           "zerolinewidth": 2
          }
         }
        },
        "title": {
         "text": "Example Graph"
        }
       }
      }
     },
     "metadata": {},
     "output_type": "display_data"
    }
   ],
   "source": [
    "# Draw a more beautiful, interactive graph\n",
    "\n",
    "def setup_plotly_graph(G : nx.Graph):\n",
    "    pos = nx.spring_layout(G)\n",
    "    edge_x, edge_y = [], []\n",
    "    for edge in G.edges():\n",
    "        x0, y0 = pos[edge[0]]\n",
    "        x1, y1 = pos[edge[1]]\n",
    "        edge_x += [x0, x1, None]\n",
    "        edge_y += [y0, y1, None]\n",
    "\n",
    "    node_x, node_y = zip(*pos.values())\n",
    "\n",
    "    return edge_x, edge_y, node_x, node_y\n",
    "\n",
    "def draw_plotly(G : nx.Graph):\n",
    "    edge_x, edge_y, node_x, node_y = setup_plotly_graph(G)\n",
    "\n",
    "    edge_trace = go.Scatter(x=edge_x, y=edge_y,\n",
    "                            line=dict(width=1, color='gray'),\n",
    "                            hoverinfo='none',\n",
    "                            mode='lines')\n",
    "    node_trace = go.Scatter(x=node_x, y=node_y,\n",
    "                            mode='markers+text',\n",
    "                            marker=dict(size=25, color='blue'),\n",
    "                            text=list(G.nodes),\n",
    "                            textposition=\"top center\")\n",
    "\n",
    "    fig = go.Figure(data=[edge_trace, node_trace],\n",
    "                    layout=go.Layout(title=\"Example Graph\",\n",
    "                                    showlegend=False,\n",
    "                                    hovermode='closest'))\n",
    "    \n",
    "    return fig\n",
    "\n",
    "fig = draw_plotly(G)\n",
    "fig.show()"
   ]
  },
  {
   "cell_type": "markdown",
   "metadata": {},
   "source": [
    "\n",
    "#### Adjacency Lists\n",
    "\n",
    "For each node in the graph, its adjacency list contains all nodes it is connected to. Pros: easily readable, cons: redundant"
   ]
  },
  {
   "cell_type": "code",
   "execution_count": 4,
   "metadata": {},
   "outputs": [
    {
     "name": "stdout",
     "output_type": "stream",
     "text": [
      "1: [2, 3, 5]\n",
      "2: [1, 4]\n",
      "3: [1, 5]\n",
      "4: [2]\n",
      "5: [1, 3]\n"
     ]
    }
   ],
   "source": [
    "for k,v in G.adj.items():\n",
    "    print(\"{}: {}\".format(k, list(v.keys())))"
   ]
  },
  {
   "cell_type": "markdown",
   "metadata": {},
   "source": [
    "#### Adjacency Matrices\n",
    "\n",
    "##### Node-2-Edge"
   ]
  },
  {
   "cell_type": "code",
   "execution_count": 5,
   "metadata": {},
   "outputs": [
    {
     "data": {
      "text/plain": [
       "array([[1, 1, 1, 0, 0],\n",
       "       [1, 0, 0, 1, 0],\n",
       "       [0, 1, 0, 0, 1],\n",
       "       [0, 0, 0, 1, 0],\n",
       "       [0, 0, 1, 0, 1]], dtype=int32)"
      ]
     },
     "execution_count": 5,
     "metadata": {},
     "output_type": "execute_result"
    }
   ],
   "source": [
    "import numpy as np\n",
    "\n",
    "def node_to_edge_adjacency_matrix(G : nx.Graph):\n",
    "    # Get the list of nodes and edges\n",
    "    nodes = list(G.nodes)\n",
    "    edges = [(x[0] - 1,x[1] - 1) for x in list(G.edges)]\n",
    "\n",
    "    # Initialize the node-to-edge adjacency matrix\n",
    "    n = len(nodes)\n",
    "    m = len(edges)\n",
    "    matrix = np.zeros((n, m), dtype=np.int32)\n",
    "\n",
    "    # Populate the matrix\n",
    "    for edge_index, (u, v) in enumerate(edges):\n",
    "        matrix[u, edge_index] = 1\n",
    "        matrix[v, edge_index] = 1\n",
    "\n",
    "    return matrix\n",
    "\n",
    "node_to_edge_adjacency_matrix(G)"
   ]
  },
  {
   "cell_type": "markdown",
   "metadata": {},
   "source": [
    "##### Node-2-Node"
   ]
  },
  {
   "cell_type": "code",
   "execution_count": 6,
   "metadata": {},
   "outputs": [
    {
     "data": {
      "text/plain": [
       "array([[0, 1, 1, 0, 1],\n",
       "       [1, 0, 0, 1, 0],\n",
       "       [1, 0, 0, 0, 1],\n",
       "       [0, 1, 0, 0, 0],\n",
       "       [1, 0, 1, 0, 0]], dtype=int32)"
      ]
     },
     "execution_count": 6,
     "metadata": {},
     "output_type": "execute_result"
    }
   ],
   "source": [
    "a = nx.to_numpy_array(G, dtype=np.int32)\n",
    "a"
   ]
  },
  {
   "cell_type": "markdown",
   "metadata": {},
   "source": [
    "### For our purposes, the most convenient form of graph representation are n2n adjacency matrices."
   ]
  },
  {
   "cell_type": "markdown",
   "metadata": {},
   "source": [
    "### Graphs in Recommendation\n",
    "- Nodes: users, items\n",
    "- Edges: interactions\n",
    "\n",
    "The graph representation of a recommendation scenario is inherently *bipartite*.\n",
    "\n",
    "> **Bipartite Graph**: a graph $G$ is bipartite if its set of nodes $N$ can be divided into two **disjoint** sets of nodes, $N_1$ and $N_2$, such that for every edge $e$ in $G$, $e$ connects a node belonging to $N_1$ to a node in $N_2$ or vice versa, thus there is no inter-set connections among nodes within $N_1$ nor $N_2$.\n",
    "\n",
    "In our case, class $N_1$ is defined by the *user nodes*, and class $N_2$ by *item nodes*, since the edges define user-item interactions.\n",
    "\n",
    "Consequently, the graph's adjacency matrix will **contain the URM**.\n",
    "\n",
    "[image]\n",
    "\n",
    "> **Path**: a sequence of $m + 1$ nodes $n_0 \\rightarrow n_1 \\rightarrow n_2 \\rightarrow ... \\rightarrow n_m$ such that $\\forall i = 1, ..., m, (n_{i-1}, n_{i}) \\in E$.\n",
    "\n",
    "I.e., a *path* is a sequence of connected nodes within a graph. A path will have a starting node $A$ and a destination node $B$. In the context of recommendation, we can think of paths as **collaborative signals**!"
   ]
  },
  {
   "cell_type": "markdown",
   "metadata": {},
   "source": [
    "### Random Walks"
   ]
  },
  {
   "cell_type": "code",
   "execution_count": 7,
   "metadata": {},
   "outputs": [],
   "source": [
    "import time\n",
    "import numpy as np\n",
    "import scipy.sparse as sps\n",
    "from sklearn.preprocessing import normalize"
   ]
  },
  {
   "cell_type": "markdown",
   "metadata": {},
   "source": [
    "#### Illustrative Example\n",
    "Let's create a graph $G$ with 2 users, 3 items and the following adjacency matrix: $$\\begin{bmatrix}0 & 0 & 1 & 0 & 1 \\\\ 0 & 0 & 1 & 1 & 0 \\\\ 1 & 1 & 0 & 0 & 0 \\\\ 0 & 1 & 0 & 0 & 0 \\\\ 1 & 0 & 0 & 0 & 0\\end{bmatrix}.$$\n",
    "\n",
    "It corresponds to the following schema:"
   ]
  },
  {
   "cell_type": "code",
   "execution_count": 8,
   "metadata": {},
   "outputs": [
    {
     "data": {
      "application/vnd.plotly.v1+json": {
       "config": {
        "plotlyServerURL": "https://plot.ly"
       },
       "data": [
        {
         "hoverinfo": "none",
         "line": {
          "color": "gray",
          "width": 1
         },
         "mode": "lines",
         "type": "scatter",
         "x": [
          0.032634091825278704,
          -0.00025077683089942985,
          null,
          0.032634091825278704,
          0.06162099637212115,
          null,
          -0.03278545276561198,
          -0.00025077683089942985,
          null,
          -0.03278545276561198,
          -0.061218858600888666,
          null
         ],
         "y": [
          0.532520529945512,
          -0.00003306027611002073,
          null,
          0.532520529945512,
          1,
          null,
          -0.5325904872800548,
          -0.00003306027611002073,
          null,
          -0.5325904872800548,
          -0.999896982389347,
          null
         ]
        },
        {
         "marker": {
          "color": "blue",
          "size": 25
         },
         "mode": "markers+text",
         "text": [
          "0",
          "1",
          "2",
          "3",
          "4"
         ],
         "textposition": "top center",
         "type": "scatter",
         "x": [
          0.032634091825278704,
          -0.03278545276561198,
          -0.00025077683089942985,
          -0.061218858600888666,
          0.06162099637212115
         ],
         "y": [
          0.532520529945512,
          -0.5325904872800548,
          -0.00003306027611002073,
          -0.999896982389347,
          1
         ]
        }
       ],
       "layout": {
        "hovermode": "closest",
        "showlegend": false,
        "template": {
         "data": {
          "bar": [
           {
            "error_x": {
             "color": "#2a3f5f"
            },
            "error_y": {
             "color": "#2a3f5f"
            },
            "marker": {
             "line": {
              "color": "#E5ECF6",
              "width": 0.5
             },
             "pattern": {
              "fillmode": "overlay",
              "size": 10,
              "solidity": 0.2
             }
            },
            "type": "bar"
           }
          ],
          "barpolar": [
           {
            "marker": {
             "line": {
              "color": "#E5ECF6",
              "width": 0.5
             },
             "pattern": {
              "fillmode": "overlay",
              "size": 10,
              "solidity": 0.2
             }
            },
            "type": "barpolar"
           }
          ],
          "carpet": [
           {
            "aaxis": {
             "endlinecolor": "#2a3f5f",
             "gridcolor": "white",
             "linecolor": "white",
             "minorgridcolor": "white",
             "startlinecolor": "#2a3f5f"
            },
            "baxis": {
             "endlinecolor": "#2a3f5f",
             "gridcolor": "white",
             "linecolor": "white",
             "minorgridcolor": "white",
             "startlinecolor": "#2a3f5f"
            },
            "type": "carpet"
           }
          ],
          "choropleth": [
           {
            "colorbar": {
             "outlinewidth": 0,
             "ticks": ""
            },
            "type": "choropleth"
           }
          ],
          "contour": [
           {
            "colorbar": {
             "outlinewidth": 0,
             "ticks": ""
            },
            "colorscale": [
             [
              0,
              "#0d0887"
             ],
             [
              0.1111111111111111,
              "#46039f"
             ],
             [
              0.2222222222222222,
              "#7201a8"
             ],
             [
              0.3333333333333333,
              "#9c179e"
             ],
             [
              0.4444444444444444,
              "#bd3786"
             ],
             [
              0.5555555555555556,
              "#d8576b"
             ],
             [
              0.6666666666666666,
              "#ed7953"
             ],
             [
              0.7777777777777778,
              "#fb9f3a"
             ],
             [
              0.8888888888888888,
              "#fdca26"
             ],
             [
              1,
              "#f0f921"
             ]
            ],
            "type": "contour"
           }
          ],
          "contourcarpet": [
           {
            "colorbar": {
             "outlinewidth": 0,
             "ticks": ""
            },
            "type": "contourcarpet"
           }
          ],
          "heatmap": [
           {
            "colorbar": {
             "outlinewidth": 0,
             "ticks": ""
            },
            "colorscale": [
             [
              0,
              "#0d0887"
             ],
             [
              0.1111111111111111,
              "#46039f"
             ],
             [
              0.2222222222222222,
              "#7201a8"
             ],
             [
              0.3333333333333333,
              "#9c179e"
             ],
             [
              0.4444444444444444,
              "#bd3786"
             ],
             [
              0.5555555555555556,
              "#d8576b"
             ],
             [
              0.6666666666666666,
              "#ed7953"
             ],
             [
              0.7777777777777778,
              "#fb9f3a"
             ],
             [
              0.8888888888888888,
              "#fdca26"
             ],
             [
              1,
              "#f0f921"
             ]
            ],
            "type": "heatmap"
           }
          ],
          "heatmapgl": [
           {
            "colorbar": {
             "outlinewidth": 0,
             "ticks": ""
            },
            "colorscale": [
             [
              0,
              "#0d0887"
             ],
             [
              0.1111111111111111,
              "#46039f"
             ],
             [
              0.2222222222222222,
              "#7201a8"
             ],
             [
              0.3333333333333333,
              "#9c179e"
             ],
             [
              0.4444444444444444,
              "#bd3786"
             ],
             [
              0.5555555555555556,
              "#d8576b"
             ],
             [
              0.6666666666666666,
              "#ed7953"
             ],
             [
              0.7777777777777778,
              "#fb9f3a"
             ],
             [
              0.8888888888888888,
              "#fdca26"
             ],
             [
              1,
              "#f0f921"
             ]
            ],
            "type": "heatmapgl"
           }
          ],
          "histogram": [
           {
            "marker": {
             "pattern": {
              "fillmode": "overlay",
              "size": 10,
              "solidity": 0.2
             }
            },
            "type": "histogram"
           }
          ],
          "histogram2d": [
           {
            "colorbar": {
             "outlinewidth": 0,
             "ticks": ""
            },
            "colorscale": [
             [
              0,
              "#0d0887"
             ],
             [
              0.1111111111111111,
              "#46039f"
             ],
             [
              0.2222222222222222,
              "#7201a8"
             ],
             [
              0.3333333333333333,
              "#9c179e"
             ],
             [
              0.4444444444444444,
              "#bd3786"
             ],
             [
              0.5555555555555556,
              "#d8576b"
             ],
             [
              0.6666666666666666,
              "#ed7953"
             ],
             [
              0.7777777777777778,
              "#fb9f3a"
             ],
             [
              0.8888888888888888,
              "#fdca26"
             ],
             [
              1,
              "#f0f921"
             ]
            ],
            "type": "histogram2d"
           }
          ],
          "histogram2dcontour": [
           {
            "colorbar": {
             "outlinewidth": 0,
             "ticks": ""
            },
            "colorscale": [
             [
              0,
              "#0d0887"
             ],
             [
              0.1111111111111111,
              "#46039f"
             ],
             [
              0.2222222222222222,
              "#7201a8"
             ],
             [
              0.3333333333333333,
              "#9c179e"
             ],
             [
              0.4444444444444444,
              "#bd3786"
             ],
             [
              0.5555555555555556,
              "#d8576b"
             ],
             [
              0.6666666666666666,
              "#ed7953"
             ],
             [
              0.7777777777777778,
              "#fb9f3a"
             ],
             [
              0.8888888888888888,
              "#fdca26"
             ],
             [
              1,
              "#f0f921"
             ]
            ],
            "type": "histogram2dcontour"
           }
          ],
          "mesh3d": [
           {
            "colorbar": {
             "outlinewidth": 0,
             "ticks": ""
            },
            "type": "mesh3d"
           }
          ],
          "parcoords": [
           {
            "line": {
             "colorbar": {
              "outlinewidth": 0,
              "ticks": ""
             }
            },
            "type": "parcoords"
           }
          ],
          "pie": [
           {
            "automargin": true,
            "type": "pie"
           }
          ],
          "scatter": [
           {
            "fillpattern": {
             "fillmode": "overlay",
             "size": 10,
             "solidity": 0.2
            },
            "type": "scatter"
           }
          ],
          "scatter3d": [
           {
            "line": {
             "colorbar": {
              "outlinewidth": 0,
              "ticks": ""
             }
            },
            "marker": {
             "colorbar": {
              "outlinewidth": 0,
              "ticks": ""
             }
            },
            "type": "scatter3d"
           }
          ],
          "scattercarpet": [
           {
            "marker": {
             "colorbar": {
              "outlinewidth": 0,
              "ticks": ""
             }
            },
            "type": "scattercarpet"
           }
          ],
          "scattergeo": [
           {
            "marker": {
             "colorbar": {
              "outlinewidth": 0,
              "ticks": ""
             }
            },
            "type": "scattergeo"
           }
          ],
          "scattergl": [
           {
            "marker": {
             "colorbar": {
              "outlinewidth": 0,
              "ticks": ""
             }
            },
            "type": "scattergl"
           }
          ],
          "scattermapbox": [
           {
            "marker": {
             "colorbar": {
              "outlinewidth": 0,
              "ticks": ""
             }
            },
            "type": "scattermapbox"
           }
          ],
          "scatterpolar": [
           {
            "marker": {
             "colorbar": {
              "outlinewidth": 0,
              "ticks": ""
             }
            },
            "type": "scatterpolar"
           }
          ],
          "scatterpolargl": [
           {
            "marker": {
             "colorbar": {
              "outlinewidth": 0,
              "ticks": ""
             }
            },
            "type": "scatterpolargl"
           }
          ],
          "scatterternary": [
           {
            "marker": {
             "colorbar": {
              "outlinewidth": 0,
              "ticks": ""
             }
            },
            "type": "scatterternary"
           }
          ],
          "surface": [
           {
            "colorbar": {
             "outlinewidth": 0,
             "ticks": ""
            },
            "colorscale": [
             [
              0,
              "#0d0887"
             ],
             [
              0.1111111111111111,
              "#46039f"
             ],
             [
              0.2222222222222222,
              "#7201a8"
             ],
             [
              0.3333333333333333,
              "#9c179e"
             ],
             [
              0.4444444444444444,
              "#bd3786"
             ],
             [
              0.5555555555555556,
              "#d8576b"
             ],
             [
              0.6666666666666666,
              "#ed7953"
             ],
             [
              0.7777777777777778,
              "#fb9f3a"
             ],
             [
              0.8888888888888888,
              "#fdca26"
             ],
             [
              1,
              "#f0f921"
             ]
            ],
            "type": "surface"
           }
          ],
          "table": [
           {
            "cells": {
             "fill": {
              "color": "#EBF0F8"
             },
             "line": {
              "color": "white"
             }
            },
            "header": {
             "fill": {
              "color": "#C8D4E3"
             },
             "line": {
              "color": "white"
             }
            },
            "type": "table"
           }
          ]
         },
         "layout": {
          "annotationdefaults": {
           "arrowcolor": "#2a3f5f",
           "arrowhead": 0,
           "arrowwidth": 1
          },
          "autotypenumbers": "strict",
          "coloraxis": {
           "colorbar": {
            "outlinewidth": 0,
            "ticks": ""
           }
          },
          "colorscale": {
           "diverging": [
            [
             0,
             "#8e0152"
            ],
            [
             0.1,
             "#c51b7d"
            ],
            [
             0.2,
             "#de77ae"
            ],
            [
             0.3,
             "#f1b6da"
            ],
            [
             0.4,
             "#fde0ef"
            ],
            [
             0.5,
             "#f7f7f7"
            ],
            [
             0.6,
             "#e6f5d0"
            ],
            [
             0.7,
             "#b8e186"
            ],
            [
             0.8,
             "#7fbc41"
            ],
            [
             0.9,
             "#4d9221"
            ],
            [
             1,
             "#276419"
            ]
           ],
           "sequential": [
            [
             0,
             "#0d0887"
            ],
            [
             0.1111111111111111,
             "#46039f"
            ],
            [
             0.2222222222222222,
             "#7201a8"
            ],
            [
             0.3333333333333333,
             "#9c179e"
            ],
            [
             0.4444444444444444,
             "#bd3786"
            ],
            [
             0.5555555555555556,
             "#d8576b"
            ],
            [
             0.6666666666666666,
             "#ed7953"
            ],
            [
             0.7777777777777778,
             "#fb9f3a"
            ],
            [
             0.8888888888888888,
             "#fdca26"
            ],
            [
             1,
             "#f0f921"
            ]
           ],
           "sequentialminus": [
            [
             0,
             "#0d0887"
            ],
            [
             0.1111111111111111,
             "#46039f"
            ],
            [
             0.2222222222222222,
             "#7201a8"
            ],
            [
             0.3333333333333333,
             "#9c179e"
            ],
            [
             0.4444444444444444,
             "#bd3786"
            ],
            [
             0.5555555555555556,
             "#d8576b"
            ],
            [
             0.6666666666666666,
             "#ed7953"
            ],
            [
             0.7777777777777778,
             "#fb9f3a"
            ],
            [
             0.8888888888888888,
             "#fdca26"
            ],
            [
             1,
             "#f0f921"
            ]
           ]
          },
          "colorway": [
           "#636efa",
           "#EF553B",
           "#00cc96",
           "#ab63fa",
           "#FFA15A",
           "#19d3f3",
           "#FF6692",
           "#B6E880",
           "#FF97FF",
           "#FECB52"
          ],
          "font": {
           "color": "#2a3f5f"
          },
          "geo": {
           "bgcolor": "white",
           "lakecolor": "white",
           "landcolor": "#E5ECF6",
           "showlakes": true,
           "showland": true,
           "subunitcolor": "white"
          },
          "hoverlabel": {
           "align": "left"
          },
          "hovermode": "closest",
          "mapbox": {
           "style": "light"
          },
          "paper_bgcolor": "white",
          "plot_bgcolor": "#E5ECF6",
          "polar": {
           "angularaxis": {
            "gridcolor": "white",
            "linecolor": "white",
            "ticks": ""
           },
           "bgcolor": "#E5ECF6",
           "radialaxis": {
            "gridcolor": "white",
            "linecolor": "white",
            "ticks": ""
           }
          },
          "scene": {
           "xaxis": {
            "backgroundcolor": "#E5ECF6",
            "gridcolor": "white",
            "gridwidth": 2,
            "linecolor": "white",
            "showbackground": true,
            "ticks": "",
            "zerolinecolor": "white"
           },
           "yaxis": {
            "backgroundcolor": "#E5ECF6",
            "gridcolor": "white",
            "gridwidth": 2,
            "linecolor": "white",
            "showbackground": true,
            "ticks": "",
            "zerolinecolor": "white"
           },
           "zaxis": {
            "backgroundcolor": "#E5ECF6",
            "gridcolor": "white",
            "gridwidth": 2,
            "linecolor": "white",
            "showbackground": true,
            "ticks": "",
            "zerolinecolor": "white"
           }
          },
          "shapedefaults": {
           "line": {
            "color": "#2a3f5f"
           }
          },
          "ternary": {
           "aaxis": {
            "gridcolor": "white",
            "linecolor": "white",
            "ticks": ""
           },
           "baxis": {
            "gridcolor": "white",
            "linecolor": "white",
            "ticks": ""
           },
           "bgcolor": "#E5ECF6",
           "caxis": {
            "gridcolor": "white",
            "linecolor": "white",
            "ticks": ""
           }
          },
          "title": {
           "x": 0.05
          },
          "xaxis": {
           "automargin": true,
           "gridcolor": "white",
           "linecolor": "white",
           "ticks": "",
           "title": {
            "standoff": 15
           },
           "zerolinecolor": "white",
           "zerolinewidth": 2
          },
          "yaxis": {
           "automargin": true,
           "gridcolor": "white",
           "linecolor": "white",
           "ticks": "",
           "title": {
            "standoff": 15
           },
           "zerolinecolor": "white",
           "zerolinewidth": 2
          }
         }
        },
        "title": {
         "text": "Example Graph"
        }
       }
      }
     },
     "metadata": {},
     "output_type": "display_data"
    }
   ],
   "source": [
    "G = nx.from_dict_of_dicts({\n",
    "    0 : {2 : {}, 4 : {}},\n",
    "    1 : {2 : {}, 3 : {}},\n",
    "    2 : {0 : {}, 1 : {}},\n",
    "    3 : {1 : {}},\n",
    "    4 : {0 : {}}\n",
    "})\n",
    "\n",
    "draw_plotly(G)"
   ]
  },
  {
   "cell_type": "code",
   "execution_count": 9,
   "metadata": {},
   "outputs": [
    {
     "data": {
      "text/plain": [
       "array([[0, 0, 1, 0, 1],\n",
       "       [0, 0, 1, 1, 0],\n",
       "       [1, 1, 0, 0, 0],\n",
       "       [0, 1, 0, 0, 0],\n",
       "       [1, 0, 0, 0, 0]], dtype=int32)"
      ]
     },
     "execution_count": 9,
     "metadata": {},
     "output_type": "execute_result"
    }
   ],
   "source": [
    "a = nx.to_numpy_array(G, dtype=np.int32)\n",
    "a"
   ]
  },
  {
   "cell_type": "code",
   "execution_count": 10,
   "metadata": {},
   "outputs": [],
   "source": [
    "# Transition probability function\n",
    "def transition(g : np.ndarray, n0 : int, hops : int):\n",
    "    # initial state\n",
    "    state = np.zeros(g.shape[1], dtype=np.float32)\n",
    "    state[n0] = 1\n",
    "\n",
    "    # compute transition probability matrix (can be done once)\n",
    "    transition_probability_matrix = np.array([x / x.sum().astype(np.float32) for x in g], dtype=np.float32)\n",
    "    # print(transition_probability_matrix)\n",
    "\n",
    "    j = 0\n",
    "    print(\"Hop: 0, state: {}\".format(state))\n",
    "    while j != hops:\n",
    "        state = state.dot(transition_probability_matrix)\n",
    "        print(\"Hop: {}, state: {}\".format(j+1, state))\n",
    "        j += 1\n",
    "    return state"
   ]
  },
  {
   "cell_type": "code",
   "execution_count": 11,
   "metadata": {},
   "outputs": [
    {
     "name": "stdout",
     "output_type": "stream",
     "text": [
      "Hop: 0, state: [1. 0. 0. 0. 0.]\n",
      "Hop: 1, state: [0.  0.  0.5 0.  0.5]\n",
      "Hop: 2, state: [0.75 0.25 0.   0.   0.  ]\n",
      "Hop: 3, state: [0.    0.    0.5   0.125 0.375]\n"
     ]
    },
    {
     "data": {
      "text/plain": [
       "array([0.   , 0.   , 0.5  , 0.125, 0.375], dtype=float32)"
      ]
     },
     "execution_count": 11,
     "metadata": {},
     "output_type": "execute_result"
    }
   ],
   "source": [
    "transition(g=a, n0=0, hops=3)"
   ]
  },
  {
   "cell_type": "markdown",
   "metadata": {},
   "source": [
    "#### Steady State"
   ]
  },
  {
   "cell_type": "code",
   "execution_count": 12,
   "metadata": {},
   "outputs": [
    {
     "name": "stdout",
     "output_type": "stream",
     "text": [
      "Hop: 0, state: [1. 0. 0. 0. 0.]\n",
      "Hop: 1, state: [0.  0.  0.5 0.  0.5]\n",
      "Hop: 2, state: [0.75 0.25 0.   0.   0.  ]\n",
      "Hop: 3, state: [0.    0.    0.5   0.125 0.375]\n",
      "Hop: 4, state: [0.625 0.375 0.    0.    0.   ]\n",
      "Hop: 5, state: [0.     0.     0.5    0.1875 0.3125]\n",
      "Hop: 6, state: [0.5625 0.4375 0.     0.     0.    ]\n",
      "Hop: 7, state: [0.      0.      0.5     0.21875 0.28125]\n",
      "Hop: 8, state: [0.53125 0.46875 0.      0.      0.     ]\n",
      "Hop: 9, state: [0.       0.       0.5      0.234375 0.265625]\n",
      "Hop: 10, state: [0.515625 0.484375 0.       0.       0.      ]\n",
      "Hop: 11, state: [0.        0.        0.5       0.2421875 0.2578125]\n",
      "Hop: 12, state: [0.5078125 0.4921875 0.        0.        0.       ]\n",
      "Hop: 13, state: [0.         0.         0.5        0.24609375 0.25390625]\n",
      "Hop: 14, state: [0.50390625 0.49609375 0.         0.         0.        ]\n",
      "Hop: 15, state: [0.         0.         0.5        0.24804688 0.25195312]\n",
      "Hop: 16, state: [0.5019531  0.49804688 0.         0.         0.        ]\n",
      "Hop: 17, state: [0.         0.         0.5        0.24902344 0.25097656]\n",
      "Hop: 18, state: [0.50097656 0.49902344 0.         0.         0.        ]\n",
      "Hop: 19, state: [0.         0.         0.5        0.24951172 0.25048828]\n",
      "Hop: 20, state: [0.5004883  0.49951172 0.         0.         0.        ]\n",
      "Hop: 21, state: [0.         0.         0.5        0.24975586 0.25024414]\n",
      "Hop: 22, state: [0.50024414 0.49975586 0.         0.         0.        ]\n",
      "Hop: 23, state: [0.         0.         0.5        0.24987793 0.25012207]\n",
      "Hop: 24, state: [0.5001221  0.49987793 0.         0.         0.        ]\n",
      "Hop: 25, state: [0.         0.         0.5        0.24993896 0.25006104]\n",
      "Hop: 26, state: [0.50006104 0.49993896 0.         0.         0.        ]\n",
      "Hop: 27, state: [0.         0.         0.5        0.24996948 0.25003052]\n",
      "Hop: 28, state: [0.5000305  0.49996948 0.         0.         0.        ]\n",
      "Hop: 29, state: [0.         0.         0.5        0.24998474 0.25001526]\n",
      "Hop: 30, state: [0.50001526 0.49998474 0.         0.         0.        ]\n",
      "Hop: 31, state: [0.         0.         0.5        0.24999237 0.25000763]\n",
      "Hop: 32, state: [0.5000076  0.49999237 0.         0.         0.        ]\n",
      "Hop: 33, state: [0.         0.         0.5        0.24999619 0.2500038 ]\n",
      "Hop: 34, state: [0.5000038 0.4999962 0.        0.        0.       ]\n",
      "Hop: 35, state: [0.        0.        0.5       0.2499981 0.2500019]\n",
      "Hop: 36, state: [0.5000019 0.4999981 0.        0.        0.       ]\n",
      "Hop: 37, state: [0.         0.         0.5        0.24999905 0.25000095]\n",
      "Hop: 38, state: [0.50000095 0.49999905 0.         0.         0.        ]\n",
      "Hop: 39, state: [0.         0.         0.5        0.24999952 0.25000048]\n",
      "Hop: 40, state: [0.5000005  0.49999952 0.         0.         0.        ]\n",
      "Hop: 41, state: [0.         0.         0.5        0.24999976 0.25000024]\n",
      "Hop: 42, state: [0.50000024 0.49999976 0.         0.         0.        ]\n",
      "Hop: 43, state: [0.         0.         0.5        0.24999988 0.25000012]\n",
      "Hop: 44, state: [0.5000001  0.49999988 0.         0.         0.        ]\n",
      "Hop: 45, state: [0.         0.         0.5        0.24999994 0.25000006]\n",
      "Hop: 46, state: [0.50000006 0.49999994 0.         0.         0.        ]\n",
      "Hop: 47, state: [0.         0.         0.5        0.24999997 0.25000003]\n",
      "Hop: 48, state: [0.5        0.49999997 0.         0.         0.        ]\n",
      "Hop: 49, state: [0.         0.         0.5        0.24999999 0.25      ]\n",
      "Hop: 50, state: [0.5 0.5 0.  0.  0. ]\n"
     ]
    },
    {
     "data": {
      "text/plain": [
       "array([0.5, 0.5, 0. , 0. , 0. ], dtype=float32)"
      ]
     },
     "execution_count": 12,
     "metadata": {},
     "output_type": "execute_result"
    }
   ],
   "source": [
    "transition(g=a, n0=0, hops=50)"
   ]
  },
  {
   "cell_type": "markdown",
   "metadata": {},
   "source": [
    "### $P^3$, $P^3_\\alpha$, $RP^3_\\beta$"
   ]
  },
  {
   "cell_type": "code",
   "execution_count": 13,
   "metadata": {},
   "outputs": [
    {
     "name": "stdout",
     "output_type": "stream",
     "text": [
      "Movielens10M: Verifying data consistency...\n",
      "Movielens10M: Verifying data consistency... Passed!\n",
      "DataReader: current dataset is: Movielens10M\n",
      "\tNumber of items: 10681\n",
      "\tNumber of users: 69878\n",
      "\tNumber of interactions in URM_all: 10000054\n",
      "\tValue range in URM_all: 0.50-5.00\n",
      "\tInteraction density: 1.34E-02\n",
      "\tInteractions per user:\n",
      "\t\t Min: 2.00E+01\n",
      "\t\t Avg: 1.43E+02\n",
      "\t\t Max: 7.36E+03\n",
      "\tInteractions per item:\n",
      "\t\t Min: 0.00E+00\n",
      "\t\t Avg: 9.36E+02\n",
      "\t\t Max: 3.49E+04\n",
      "\tGini Index: 0.57\n",
      "\n",
      "\tICM name: ICM_tags, Value range: 1.00 / 69.00, Num features: 10106, feature occurrences: 106820, density 9.90E-04\n",
      "\tICM name: ICM_genres, Value range: 1.00 / 1.00, Num features: 20, feature occurrences: 21564, density 1.01E-01\n",
      "\tICM name: ICM_all, Value range: 1.00 / 69.00, Num features: 10126, feature occurrences: 128384, density 1.19E-03\n",
      "\tICM name: ICM_year, Value range: 1.92E+03 / 2.01E+03, Num features: 1, feature occurrences: 10681, density 1.00E+00\n",
      "\n",
      "\n",
      "Warning: 87 (0.12 %) of 69878 users have no sampled items\n",
      "Warning: 216 (0.31 %) of 69878 users have no sampled items\n"
     ]
    }
   ],
   "source": [
    "from Data_manager.split_functions.split_train_validation_random_holdout import split_train_in_two_percentage_global_sample\n",
    "from Data_manager.Movielens.Movielens10MReader import Movielens10MReader\n",
    "\n",
    "data_reader = Movielens10MReader()\n",
    "data_loaded = data_reader.load_data()\n",
    "\n",
    "URM_all = data_loaded.get_URM_all()\n",
    "\n",
    "URM_train_val, URM_test = split_train_in_two_percentage_global_sample(URM_all, 0.8)\n",
    "URM_train, URM_val = split_train_in_two_percentage_global_sample(URM_train_val, 0.8)"
   ]
  },
  {
   "cell_type": "markdown",
   "metadata": {},
   "source": [
    "Spiegone di come segmentare la URM in $P_{ui}$ e $P_{iu}$ e di cosa sono a livello pratico questi due segmenti (= URM normalizzata per righe, URM normalizzata per colonne e trasposta)"
   ]
  },
  {
   "cell_type": "code",
   "execution_count": 14,
   "metadata": {},
   "outputs": [],
   "source": [
    "def transition_matrix(g : np.ndarray, hops : int):\n",
    "    # initial state\n",
    "    state = np.diag(np.ones(g.shape))\n",
    "\n",
    "    # compute transition probability matrix (can be done once)\n",
    "    transition_probability_matrix = np.array([x / x.sum().astype(np.float32) for x in g], dtype=np.float32) # -> this is equivalent to a column-wise l1 normalization\n",
    "    # print(transition_probability_matrix)\n",
    "\n",
    "    j = 0\n",
    "    print(\"Hop: 0, state: {}\".format(state))\n",
    "    while j != hops:\n",
    "        state = state.dot(transition_probability_matrix)\n",
    "        print(\"Hop: {}, state: {}\".format(j+1, state))\n",
    "        j += 1\n",
    "    return state"
   ]
  },
  {
   "cell_type": "code",
   "execution_count": 15,
   "metadata": {},
   "outputs": [],
   "source": [
    "class Incremental_Similarity_Builder:\n",
    "    \n",
    "    def __init__(self, matrix_size_0, matrix_size_1, initial_data_block = 10000000, additional_data_block = 10000000, dtype = np.float32):\n",
    "\n",
    "        self._matrix_size = [matrix_size_0, matrix_size_1]\n",
    "        self._initial_data_block = initial_data_block\n",
    "        self._additional_data_block = additional_data_block\n",
    "        self._next_cell_pointer = 0\n",
    "\n",
    "        self._dtype_data = dtype\n",
    "        self._dtype_coordinates = np.uint32\n",
    "        self._max_value_of_coordinate_dtype = np.iinfo(self._dtype_coordinates).max\n",
    "\n",
    "        self._row_array = np.zeros(self._initial_data_block, dtype=self._dtype_coordinates)\n",
    "        self._col_array = np.zeros(self._initial_data_block, dtype=self._dtype_coordinates)\n",
    "        self._data_array = np.zeros(self._initial_data_block, dtype=self._dtype_data)\n",
    "\n",
    "\n",
    "    def add_data_lists(self, row_list_to_add, col_list_to_add, data_list_to_add):\n",
    "\n",
    "        for data_point_index in range(len(row_list_to_add)):\n",
    "\n",
    "            if self._next_cell_pointer == len(self._row_array):\n",
    "                self._row_array = np.concatenate((self._row_array, np.zeros(self._additional_data_block, dtype=self._dtype_coordinates)))\n",
    "                self._col_array = np.concatenate((self._col_array, np.zeros(self._additional_data_block, dtype=self._dtype_coordinates)))\n",
    "                self._data_array = np.concatenate((self._data_array, np.zeros(self._additional_data_block, dtype=self._dtype_data)))\n",
    "\n",
    "            self._row_array[self._next_cell_pointer] = row_list_to_add[data_point_index]\n",
    "            self._col_array[self._next_cell_pointer] = col_list_to_add[data_point_index]\n",
    "            self._data_array[self._next_cell_pointer] = data_list_to_add[data_point_index]\n",
    "\n",
    "            self._next_cell_pointer += 1\n",
    "\n",
    "    def get_SparseMatrix(self):\n",
    "\n",
    "        shape = (self._matrix_size[0], self._matrix_size[1])\n",
    "\n",
    "        sparseMatrix = sps.csr_matrix((self._data_array[:self._next_cell_pointer],\n",
    "                                       (self._row_array[:self._next_cell_pointer], self._col_array[:self._next_cell_pointer])),\n",
    "                                      shape=shape,\n",
    "                                      dtype=self._dtype_data)\n",
    "\n",
    "        sparseMatrix.eliminate_zeros()\n",
    "\n",
    "        return sparseMatrix"
   ]
  },
  {
   "cell_type": "code",
   "execution_count": 29,
   "metadata": {},
   "outputs": [],
   "source": [
    "from Recommenders.Recommender_utils import similarityMatrixTopK\n",
    "\n",
    "def block_mul(matrix_1, matrix_2, block_dim : int = 200, topK = 100, normalize_sim : bool = False, degree = None):\n",
    "\n",
    "    similarity_builder = Incremental_Similarity_Builder(matrix_1.shape[0], matrix_2.shape[1], initial_data_block=matrix_2.shape[1]*topK, dtype = np.float32)\n",
    "\n",
    "    for current_block_start_row in range(0, matrix_1.shape[0], block_dim):\n",
    "\n",
    "        if current_block_start_row + block_dim > matrix_1.shape[0]:\n",
    "            block_dim = matrix_1.shape[0] - current_block_start_row\n",
    "\n",
    "        similarity_block = matrix_1[current_block_start_row:current_block_start_row + block_dim, :] * matrix_2\n",
    "        similarity_block = similarity_block.toarray()\n",
    "\n",
    "        for row_in_block in range(block_dim):\n",
    "            row_data = similarity_block[row_in_block, :]\n",
    "            if degree is not None : row_data = np.multiply(row_data, degree)\n",
    "            if current_block_start_row + row_in_block < matrix_2.shape[1]:\n",
    "                row_data[current_block_start_row + row_in_block] = 0 # <-- elements on diagonal are set to 0, prevent obvious solution\n",
    "\n",
    "            relevant_items_partition = np.argpartition(-row_data, topK-1, axis=0)[:topK]\n",
    "            row_data = row_data[relevant_items_partition]\n",
    "\n",
    "            # Incrementally build sparse matrix, do not add zeros\n",
    "            if np.any(row_data == 0.0):\n",
    "                non_zero_mask = row_data != 0.0\n",
    "                relevant_items_partition = relevant_items_partition[non_zero_mask]\n",
    "                row_data = row_data[non_zero_mask]\n",
    "\n",
    "            similarity_builder.add_data_lists(row_list_to_add=np.ones(len(row_data), dtype = np.int32) * (current_block_start_row + row_in_block),\n",
    "                                            col_list_to_add=relevant_items_partition,\n",
    "                                            data_list_to_add=row_data)\n",
    "\n",
    "    W_sparse = similarity_builder.get_SparseMatrix()\n",
    "\n",
    "    if normalize_sim:\n",
    "        W_sparse = normalize(W_sparse, norm='l1', axis=1)\n",
    "\n",
    "    if topK and W_sparse.get_shape()[0] == W_sparse.get_shape()[1]:\n",
    "        W_sparse = similarityMatrixTopK(W_sparse, k=topK)\n",
    "\n",
    "    return W_sparse"
   ]
  },
  {
   "cell_type": "code",
   "execution_count": 17,
   "metadata": {},
   "outputs": [],
   "source": [
    "# We don't need to compute the full matrix, we just need Pui and Piu which we can compute from the URM\n",
    "def transition_matrix_blocks(URM, hops : int, alpha : float = 1., beta : float = 1., topK : int = 100, extract_similarity : bool = False, normalize_sim : bool = False):\n",
    "\n",
    "    # compute Pui (column-wise l1 norm)\n",
    "    P_ui = normalize(URM, norm='l1', axis=1)\n",
    "\n",
    "    # compute Piu (column-wise l1 norm over TRANSPOSED URM)\n",
    "    t_URM = URM.transpose(copy=True)\n",
    "    t_URM.data = np.ones(t_URM.data.size, np.float32) # <- we binarize: weights, if present, are already in P_ui\n",
    "\n",
    "    if beta != 1. : # RP3beta\n",
    "\n",
    "        t_URM_sum = np.array(t_URM.sum(axis=1)).ravel()\n",
    "        degree = np.zeros(URM.shape[1])\n",
    "\n",
    "        non_zero_mask = (t_URM_sum!=0.0)\n",
    "        degree[non_zero_mask] = np.power(t_URM_sum[non_zero_mask], -beta)\n",
    "    else : degree = None\n",
    "\n",
    "    P_iu = normalize(t_URM, norm='l1', axis=1) # <- axis is still 1, because transposition was performed beforehand\n",
    "    del(t_URM) # <- save memory\n",
    "\n",
    "    if alpha != 1. : # P3alpha\n",
    "        P_ui = P_ui.power(alpha)\n",
    "        P_iu = P_iu.power(alpha)\n",
    "\n",
    "    j = 1\n",
    "    state = P_ui # <- doesn't work for hops < 1, but hops < 1 makes no sense \n",
    "    deg = None\n",
    "\n",
    "    # equivalence to similarity item-based model: extracting sim matrix could be useful for hybrids\n",
    "    sim_matrix = P_iu if extract_similarity else None\n",
    "    \n",
    "    while j < hops:\n",
    "        if j == hops - 1: deg = degree\n",
    "        if j % 2 != 0:\n",
    "            state = block_mul(state, P_iu, topK=topK, normalize_sim=normalize_sim, degree=deg) # state * P_iu\n",
    "            if extract_similarity and (j > 1 and j < hops - 1) :\n",
    "                sim_matrix = block_mul(sim_matrix, P_iu, topK=topK, normalize_sim=normalize_sim, degree=deg) # sim_matrix * P_iu\n",
    "        else:\n",
    "            state = block_mul(state, P_ui, topK=topK, normalize_sim=normalize_sim, degree=deg) # state * P_ui\n",
    "            if extract_similarity and (j >= 1 and j < hops - 1) :\n",
    "                sim_matrix = block_mul(sim_matrix, P_ui, topK=topK, normalize_sim=normalize_sim, degree=deg) # sim_matrix * P_ui\n",
    "        j += 1\n",
    "\n",
    "    return state, sim_matrix"
   ]
  },
  {
   "cell_type": "code",
   "execution_count": 22,
   "metadata": {},
   "outputs": [],
   "source": [
    "from typing import Optional\n",
    "from Recommenders.BaseRecommender import BaseRecommender\n",
    "\n",
    "class P3Recommender(BaseRecommender):\n",
    "    def __init__(self, URM, topK : int = 100, normalize_sim : bool = False):\n",
    "        super().__init__(URM)\n",
    "        self.topK = topK\n",
    "        self.normalize_sim = normalize_sim\n",
    "\n",
    "    def fit(self):\n",
    "        self.three_step_walk, _ = transition_matrix_blocks(self.URM_train,\n",
    "                                                           3,\n",
    "                                                           topK=self.topK,\n",
    "                                                           normalize_sim=self.normalize_sim,\n",
    "                                                           extract_similarity=False)\n",
    "\n",
    "    def recommend(self, user_id, remove_seen : bool = True, at : Optional[int] = None):\n",
    "        Pi_0 = np.zeros(self.URM_train.shape[0], dtype=np.int32)\n",
    "        Pi_0[user_id] = 1\n",
    "        Pi_0 = sps.csr_matrix(Pi_0)\n",
    "\n",
    "        ranking = Pi_0.dot(self.three_step_walk).toarray().ravel()\n",
    "\n",
    "        if remove_seen:\n",
    "            user_profile_start = self.URM_train.indptr[user_id]\n",
    "            user_profile_end = self.URM_train.indptr[user_id+1]\n",
    "            \n",
    "            seen_items = self.URM_train.indices[user_profile_start:user_profile_end]\n",
    "            \n",
    "            ranking[seen_items] = -np.inf\n",
    "            \n",
    "        ranking = np.flip(np.argsort(ranking))\n",
    "        return ranking[:at]"
   ]
  },
  {
   "cell_type": "code",
   "execution_count": 19,
   "metadata": {},
   "outputs": [],
   "source": [
    "class P3alphaRecommender(BaseRecommender):\n",
    "    def __init__(self, URM, alpha, topK : int = 100, normalize_sim : bool = False, extract_similarity=False):\n",
    "        super().__init__(URM)\n",
    "        self.alpha = alpha\n",
    "        self.topK = topK\n",
    "        self.normalize_sim = normalize_sim\n",
    "        self.extract_similarity = extract_similarity\n",
    "\n",
    "    def fit(self):\n",
    "        self.three_step_walk, self.sim_matrix = transition_matrix_blocks(self.URM_train,\n",
    "                                                                         3,\n",
    "                                                                         self.alpha,\n",
    "                                                                         topK=self.topK,\n",
    "                                                                         extract_similarity=self.extract_similarity,\n",
    "                                                                         normalize_sim=self.normalize_sim) # <- only change wrt P3 is the alpha exponent\n",
    "\n",
    "    def recommend(self, user_id, remove_seen : bool = True, at : Optional[int] = None):\n",
    "        Pi_0 = np.zeros(self.URM_train.shape[0], dtype=np.int32)\n",
    "        Pi_0[user_id] = 1\n",
    "        Pi_0 = sps.csr_matrix(Pi_0)\n",
    "\n",
    "        ranking = Pi_0.dot(self.three_step_walk).toarray().ravel()\n",
    "\n",
    "        if remove_seen:\n",
    "            user_profile_start = self.URM_train.indptr[user_id]\n",
    "            user_profile_end = self.URM_train.indptr[user_id+1]\n",
    "            \n",
    "            seen_items = self.URM_train.indices[user_profile_start:user_profile_end]\n",
    "            \n",
    "            ranking[seen_items] = -np.inf\n",
    "            \n",
    "        ranking = np.flip(np.argsort(ranking))\n",
    "        return ranking[:at]"
   ]
  },
  {
   "cell_type": "code",
   "execution_count": 20,
   "metadata": {},
   "outputs": [],
   "source": [
    "class RP3betaRecommender(BaseRecommender):\n",
    "    def __init__(self, URM, alpha, beta, topK : int = 100, normalize_sim : bool = False):\n",
    "        super().__init__(URM)\n",
    "        self.alpha = alpha\n",
    "        self.beta = beta\n",
    "        self.topK = topK\n",
    "        self.normalize_sim = normalize_sim\n",
    "\n",
    "    def fit(self):\n",
    "        self.three_step_walk, _ = transition_matrix_blocks(self.URM_train,\n",
    "                                                           3,\n",
    "                                                           self.alpha,\n",
    "                                                           self.beta,\n",
    "                                                           topK=self.topK,\n",
    "                                                           normalize_sim=self.normalize_sim,\n",
    "                                                           extract_similarity=False) # <- only change wrt P3alpha is beta\n",
    "\n",
    "    def recommend(self, user_id, remove_seen : bool = True, at : Optional[int] = None):\n",
    "        Pi_0 = np.zeros(self.URM_train.shape[0], dtype=np.int32)\n",
    "        Pi_0[user_id] = 1\n",
    "        Pi_0 = sps.csr_matrix(Pi_0)\n",
    "\n",
    "        ranking = Pi_0.dot(self.three_step_walk).toarray().ravel()\n",
    "\n",
    "        if remove_seen:\n",
    "            user_profile_start = self.URM_train.indptr[user_id]\n",
    "            user_profile_end = self.URM_train.indptr[user_id+1]\n",
    "            \n",
    "            seen_items = self.URM_train.indices[user_profile_start:user_profile_end]\n",
    "            \n",
    "            ranking[seen_items] = -np.inf\n",
    "            \n",
    "        ranking = np.flip(np.argsort(ranking))\n",
    "        return ranking[:at]"
   ]
  },
  {
   "cell_type": "code",
   "execution_count": 21,
   "metadata": {},
   "outputs": [],
   "source": [
    "def precision(recommended_items, relevant_items):\n",
    "    \n",
    "    is_relevant = np.in1d(recommended_items, relevant_items, assume_unique=True)\n",
    "    \n",
    "    precision_score = np.sum(is_relevant, dtype=np.float32) / len(is_relevant)\n",
    "    \n",
    "    return precision_score\n",
    "\n",
    "def recall(recommended_items, relevant_items):\n",
    "    \n",
    "    is_relevant = np.in1d(recommended_items, relevant_items, assume_unique=True)\n",
    "    \n",
    "    recall_score = np.sum(is_relevant, dtype=np.float32) / relevant_items.shape[0]\n",
    "    \n",
    "    return recall_score\n",
    "\n",
    "def AP(recommended_items, relevant_items):\n",
    "   \n",
    "    is_relevant = np.in1d(recommended_items, relevant_items, assume_unique=True)\n",
    "    \n",
    "    # Cumulative sum: precision at 1, at 2, at 3 ...\n",
    "    p_at_k = is_relevant * np.cumsum(is_relevant, dtype=np.float32) / (1 + np.arange(is_relevant.shape[0]))\n",
    "    \n",
    "    ap_score = np.sum(p_at_k) / np.min([relevant_items.shape[0], is_relevant.shape[0]])\n",
    "\n",
    "    return ap_score\n",
    "\n",
    "def evaluate_recommender(URM_test : sps.csr_matrix, recommender : BaseRecommender, cutoff : int = 10):\n",
    "    \n",
    "    cumulative_precision = 0.0\n",
    "    cumulative_recall = 0.0\n",
    "    cumulative_AP = 0.0\n",
    "    \n",
    "    num_eval = 0\n",
    "\n",
    "    for user_id in range(URM_test.shape[0]):\n",
    "\n",
    "        relevant_items = URM_test.indices[URM_test.indptr[user_id]:URM_test.indptr[user_id+1]]\n",
    "        \n",
    "        if len(relevant_items)>0:\n",
    "            \n",
    "            recommended_items = recommender.recommend(user_id, at=cutoff)\n",
    "            num_eval+=1\n",
    "\n",
    "            cumulative_precision += precision(recommended_items, relevant_items)\n",
    "            cumulative_recall += recall(recommended_items, relevant_items)\n",
    "            cumulative_AP += AP(recommended_items, relevant_items)\n",
    "            \n",
    "    cumulative_precision /= num_eval\n",
    "    cumulative_recall /= num_eval\n",
    "    MAP = cumulative_AP / num_eval\n",
    "    \n",
    "    print(\"Recommender results are: Precision = {:.4f}, Recall = {:.4f}, MAP = {:.4f}\".format(\n",
    "        cumulative_precision, cumulative_recall, MAP)) \n",
    "    \n",
    "    return MAP"
   ]
  },
  {
   "cell_type": "code",
   "execution_count": 30,
   "metadata": {},
   "outputs": [
    {
     "name": "stdout",
     "output_type": "stream",
     "text": [
      "Recommender_Base_Class: URM Detected 30 ( 0.3%) items with no interactions.\n",
      "Recommender_Base_Class: URM Detected 30 ( 0.3%) items with no interactions.\n",
      "Recommender_Base_Class: URM Detected 30 ( 0.3%) items with no interactions.\n",
      "Recommender results are: Precision = 0.1476, Recall = 0.1232, MAP = 0.0988\n",
      "P3 trained in 2.76 min\n",
      "Recommender results are: Precision = 0.1893, Recall = 0.1295, MAP = 0.1283\n",
      "P3alpha trained in 2.79 min\n",
      "Recommender results are: Precision = 0.0716, Recall = 0.0655, MAP = 0.0410\n",
      "RP3beta trained in 2.80 min\n"
     ]
    }
   ],
   "source": [
    "# PRAXIS WHEN USING THE COURSE'S FRAMEWORK: USE EvaluatorHoldout FOR EVALUATIONS\n",
    "# from Evaluation.Evaluator import EvaluatorHoldout\n",
    "# evaluator_test = EvaluatorHoldout(URM_test, cutoff_list=[10])\n",
    "from Utils.seconds_to_biggest_unit import seconds_to_biggest_unit\n",
    "\n",
    "models = {\n",
    "    'P3' : P3Recommender(URM_train_val),\n",
    "    'P3alpha' : P3alphaRecommender(URM_train_val, alpha=0.5, extract_similarity=True),\n",
    "    'RP3beta' : RP3betaRecommender(URM_train_val, alpha=0.5, beta=0.3)\n",
    "}\n",
    "\n",
    "for model_name, model_obj in models.items():\n",
    "    time_start = time.time()\n",
    "    model_obj.fit()\n",
    "    time_end_value, time_unit = seconds_to_biggest_unit(time.time() - time_start)\n",
    "    # PRAXIS WHEN USING THE COURSE'S FRAMEWORK: result_df, _ = evaluator_test.evaluateRecommender(model_obj)\n",
    "    _ = evaluate_recommender(URM_test, model_obj)\n",
    "    print(\"{} trained in {:.2f} {}\".format(model_name, time_end_value, time_unit))"
   ]
  },
  {
   "cell_type": "code",
   "execution_count": 24,
   "metadata": {},
   "outputs": [
    {
     "name": "stderr",
     "output_type": "stream",
     "text": [
      "[I 2024-12-04 20:35:47,175] A new study created in memory with name: no-name-1c586a1a-a41b-4d0c-bb46-2340bd5420ba\n",
      "[I 2024-12-04 20:35:47,176] A new study created in memory with name: no-name-f5952fa5-8ce8-414d-9e1d-db677658d0cc\n"
     ]
    }
   ],
   "source": [
    "# Create and launch optuna study for each recommender. Optimize for MAP@10.\n",
    "import pandas as pd\n",
    "\n",
    "import optuna\n",
    "\n",
    "def objective_function_P3alpha(optuna_trial):\n",
    "    recommender_instance = P3alphaRecommender(URM_train,\n",
    "                                              alpha=optuna_trial.suggest_float(\"alpha\", 0.01, 0.99),\n",
    "                                              topK=optuna_trial.suggest_int(\"topK\", 5, 150),\n",
    "                                              normalize_sim=optuna_trial.suggest_int(\"normalize_sim\", 0, 1))\n",
    "\n",
    "    recommender_instance.fit()\n",
    "\n",
    "    evaluation = evaluate_recommender(URM_val, recommender_instance)\n",
    "    return evaluation\n",
    "\n",
    "def objective_function_RP3beta(optuna_trial):\n",
    "    recommender_instance = RP3betaRecommender(URM_train,\n",
    "                                              alpha=optuna_trial.suggest_float(\"alpha\", 0.01, 0.99),\n",
    "                                              beta=optuna_trial.suggest_float(\"beta\", 0.01, 0.99),\n",
    "                                              topK=optuna_trial.suggest_int(\"topK\", 5, 150),\n",
    "                                              normalize_sim=optuna_trial.suggest_int(\"normalize_sim\", 0, 1))\n",
    "    \n",
    "    recommender_instance.fit()\n",
    "    \n",
    "    evaluation = evaluate_recommender(URM_val, recommender_instance)\n",
    "    return evaluation\n",
    "\n",
    "class SaveResults(object):\n",
    "    \n",
    "    def __init__(self):\n",
    "        self.results_df = pd.DataFrame(columns = [\"result\"])\n",
    "    \n",
    "    def __call__(self, optuna_study, optuna_trial):\n",
    "        hyperparam_dict = optuna_trial.params.copy()\n",
    "        hyperparam_dict[\"result\"] = optuna_trial.values[0]\n",
    "        \n",
    "        self.results_df = pd.concat([self.results_df, pd.DataFrame([hyperparam_dict])], ignore_index=True)\n",
    "\n",
    "optuna_study_P3alpha = optuna.create_study(direction=\"maximize\")\n",
    "optuna_study_RP3beta = optuna.create_study(direction=\"maximize\")\n",
    "save_results_P3alpha = SaveResults()\n",
    "save_results_RP3beta = SaveResults()"
   ]
  },
  {
   "cell_type": "code",
   "execution_count": null,
   "metadata": {},
   "outputs": [
    {
     "name": "stdout",
     "output_type": "stream",
     "text": [
      "Recommender_Base_Class: URM Detected 72 ( 0.7%) items with no interactions.\n"
     ]
    },
    {
     "name": "stderr",
     "output_type": "stream",
     "text": [
      "[I 2024-12-04 20:38:45,228] Trial 0 finished with value: 0.006694260740213139 and parameters: {'alpha': 0.5899194477180066, 'topK': 37, 'normalize_sim': 0}. Best is trial 0 with value: 0.006694260740213139.\n"
     ]
    },
    {
     "name": "stdout",
     "output_type": "stream",
     "text": [
      "Recommender results are: Precision = 0.0117, Recall = 0.0115, MAP = 0.0067\n",
      "Recommender_Base_Class: URM Detected 72 ( 0.7%) items with no interactions.\n"
     ]
    },
    {
     "name": "stderr",
     "output_type": "stream",
     "text": [
      "/var/folders/pp/q0kl1bl507q_7gsf1tczbrg80000gn/T/ipykernel_27011/1586423476.py:38: FutureWarning:\n",
      "\n",
      "The behavior of DataFrame concatenation with empty or all-NA entries is deprecated. In a future version, this will no longer exclude empty or all-NA columns when determining the result dtypes. To retain the old behavior, exclude the relevant entries before the concat operation.\n",
      "\n",
      "[I 2024-12-04 20:41:23,768] Trial 1 finished with value: 0.0008956223793501028 and parameters: {'alpha': 0.7714878927849269, 'topK': 6, 'normalize_sim': 1}. Best is trial 0 with value: 0.006694260740213139.\n"
     ]
    },
    {
     "name": "stdout",
     "output_type": "stream",
     "text": [
      "Recommender results are: Precision = 0.0015, Recall = 0.0013, MAP = 0.0009\n",
      "Recommender_Base_Class: URM Detected 72 ( 0.7%) items with no interactions.\n"
     ]
    },
    {
     "name": "stderr",
     "output_type": "stream",
     "text": [
      "[I 2024-12-04 20:44:04,028] Trial 2 finished with value: 0.001726481309040288 and parameters: {'alpha': 0.216046814298171, 'topK': 14, 'normalize_sim': 1}. Best is trial 0 with value: 0.006694260740213139.\n"
     ]
    },
    {
     "name": "stdout",
     "output_type": "stream",
     "text": [
      "Recommender results are: Precision = 0.0028, Recall = 0.0034, MAP = 0.0017\n",
      "Recommender_Base_Class: URM Detected 72 ( 0.7%) items with no interactions.\n"
     ]
    },
    {
     "name": "stderr",
     "output_type": "stream",
     "text": [
      "[I 2024-12-04 20:47:15,512] Trial 3 finished with value: 0.010524751320367044 and parameters: {'alpha': 0.5800063379424116, 'topK': 85, 'normalize_sim': 0}. Best is trial 3 with value: 0.010524751320367044.\n"
     ]
    },
    {
     "name": "stdout",
     "output_type": "stream",
     "text": [
      "Recommender results are: Precision = 0.0182, Recall = 0.0164, MAP = 0.0105\n",
      "Recommender_Base_Class: URM Detected 72 ( 0.7%) items with no interactions.\n"
     ]
    },
    {
     "name": "stderr",
     "output_type": "stream",
     "text": [
      "[I 2024-12-04 20:50:19,278] Trial 4 finished with value: 0.009202902238789489 and parameters: {'alpha': 0.2549736805878891, 'topK': 69, 'normalize_sim': 0}. Best is trial 3 with value: 0.010524751320367044.\n"
     ]
    },
    {
     "name": "stdout",
     "output_type": "stream",
     "text": [
      "Recommender results are: Precision = 0.0161, Recall = 0.0143, MAP = 0.0092\n",
      "Recommender_Base_Class: URM Detected 31 ( 0.3%) items with no interactions.\n",
      "Recommender results are: Precision = 0.0267, Recall = 0.0186, MAP = 0.0174\n"
     ]
    }
   ],
   "source": [
    "optuna_study_P3alpha.optimize(objective_function_P3alpha,\n",
    "                              callbacks=[save_results_P3alpha],\n",
    "                              n_trials=10)\n",
    "\n",
    "P3alpha_optimal = P3alphaRecommender(URM_train_val,\n",
    "                                     alpha=optuna_study_P3alpha.best_trial.params['alpha'],\n",
    "                                     topK=optuna_study_P3alpha.best_trial.params['topK'],\n",
    "                                     normalize_sim=optuna_study_P3alpha.best_trial.params['normalize_sim'])\n",
    "P3alpha_optimal.fit()\n",
    "_ = evaluate_recommender(URM_test, P3alpha_optimal)"
   ]
  },
  {
   "cell_type": "code",
   "execution_count": null,
   "metadata": {},
   "outputs": [
    {
     "name": "stdout",
     "output_type": "stream",
     "text": [
      "Recommender_Base_Class: URM Detected 72 ( 0.7%) items with no interactions.\n"
     ]
    },
    {
     "name": "stderr",
     "output_type": "stream",
     "text": [
      "[I 2024-12-04 20:57:02,678] Trial 0 finished with value: 0.0002730776178356295 and parameters: {'alpha': 0.2544338328123648, 'beta': 0.8904674609231894, 'topK': 123, 'normalize_sim': 0}. Best is trial 0 with value: 0.0002730776178356295.\n"
     ]
    },
    {
     "name": "stdout",
     "output_type": "stream",
     "text": [
      "Recommender results are: Precision = 0.0010, Recall = 0.0005, MAP = 0.0003\n",
      "Recommender_Base_Class: URM Detected 72 ( 0.7%) items with no interactions.\n"
     ]
    },
    {
     "name": "stderr",
     "output_type": "stream",
     "text": [
      "/var/folders/pp/q0kl1bl507q_7gsf1tczbrg80000gn/T/ipykernel_27011/1586423476.py:38: FutureWarning:\n",
      "\n",
      "The behavior of DataFrame concatenation with empty or all-NA entries is deprecated. In a future version, this will no longer exclude empty or all-NA columns when determining the result dtypes. To retain the old behavior, exclude the relevant entries before the concat operation.\n",
      "\n",
      "[I 2024-12-04 20:59:41,792] Trial 1 finished with value: 0.00061846358461049 and parameters: {'alpha': 0.7084689139911232, 'beta': 0.35012782035220247, 'topK': 13, 'normalize_sim': 1}. Best is trial 1 with value: 0.00061846358461049.\n"
     ]
    },
    {
     "name": "stdout",
     "output_type": "stream",
     "text": [
      "Recommender results are: Precision = 0.0014, Recall = 0.0011, MAP = 0.0006\n",
      "Recommender_Base_Class: URM Detected 72 ( 0.7%) items with no interactions.\n"
     ]
    },
    {
     "name": "stderr",
     "output_type": "stream",
     "text": [
      "[I 2024-12-04 21:02:34,918] Trial 2 finished with value: 0.005149190403053552 and parameters: {'alpha': 0.9860659413133749, 'beta': 0.2737152607122167, 'topK': 112, 'normalize_sim': 1}. Best is trial 2 with value: 0.005149190403053552.\n"
     ]
    },
    {
     "name": "stdout",
     "output_type": "stream",
     "text": [
      "Recommender results are: Precision = 0.0092, Recall = 0.0114, MAP = 0.0051\n",
      "Recommender_Base_Class: URM Detected 72 ( 0.7%) items with no interactions.\n"
     ]
    },
    {
     "name": "stderr",
     "output_type": "stream",
     "text": [
      "[I 2024-12-04 21:05:31,073] Trial 3 finished with value: 0.002486947250127668 and parameters: {'alpha': 0.12408556401058285, 'beta': 0.3856286009246712, 'topK': 138, 'normalize_sim': 1}. Best is trial 2 with value: 0.005149190403053552.\n"
     ]
    },
    {
     "name": "stdout",
     "output_type": "stream",
     "text": [
      "Recommender results are: Precision = 0.0044, Recall = 0.0061, MAP = 0.0025\n",
      "Recommender_Base_Class: URM Detected 72 ( 0.7%) items with no interactions.\n"
     ]
    },
    {
     "name": "stderr",
     "output_type": "stream",
     "text": [
      "[I 2024-12-04 21:08:13,595] Trial 4 finished with value: 0.0003894052203038603 and parameters: {'alpha': 0.9134182890657323, 'beta': 0.6364300585634282, 'topK': 10, 'normalize_sim': 0}. Best is trial 2 with value: 0.005149190403053552.\n"
     ]
    },
    {
     "name": "stdout",
     "output_type": "stream",
     "text": [
      "Recommender results are: Precision = 0.0012, Recall = 0.0007, MAP = 0.0004\n",
      "Recommender_Base_Class: URM Detected 72 ( 0.7%) items with no interactions.\n"
     ]
    },
    {
     "name": "stderr",
     "output_type": "stream",
     "text": [
      "[I 2024-12-04 21:10:59,057] Trial 5 finished with value: 0.0021019845929534315 and parameters: {'alpha': 0.5182343422760697, 'beta': 0.20326885748738052, 'topK': 25, 'normalize_sim': 0}. Best is trial 2 with value: 0.005149190403053552.\n"
     ]
    },
    {
     "name": "stdout",
     "output_type": "stream",
     "text": [
      "Recommender results are: Precision = 0.0041, Recall = 0.0048, MAP = 0.0021\n",
      "Recommender_Base_Class: URM Detected 72 ( 0.7%) items with no interactions.\n"
     ]
    },
    {
     "name": "stderr",
     "output_type": "stream",
     "text": [
      "[W 2024-12-04 21:12:07,894] Trial 6 failed with parameters: {'alpha': 0.976956400954016, 'beta': 0.02293845882419864, 'topK': 138, 'normalize_sim': 1} because of the following error: KeyboardInterrupt().\n",
      "Traceback (most recent call last):\n",
      "  File \"/opt/homebrew/Caskroom/miniconda/base/envs/RSFramework/lib/python3.9/site-packages/optuna/study/_optimize.py\", line 197, in _run_trial\n",
      "    value_or_values = func(trial)\n",
      "  File \"/var/folders/pp/q0kl1bl507q_7gsf1tczbrg80000gn/T/ipykernel_27011/1586423476.py\", line 24, in objective_function_RP3beta\n",
      "    recommender_instance.fit()\n",
      "  File \"/var/folders/pp/q0kl1bl507q_7gsf1tczbrg80000gn/T/ipykernel_27011/3151860532.py\", line 10, in fit\n",
      "    self.three_step_walk, _ = transition_matrix_blocks(self.URM_train,\n",
      "  File \"/var/folders/pp/q0kl1bl507q_7gsf1tczbrg80000gn/T/ipykernel_27011/1979058723.py\", line 37, in transition_matrix_blocks\n",
      "    state = block_mul(state, P_iu, topK=topK, normalize_sim=normalize_sim, degree=deg) # state * P_iu\n",
      "  File \"/var/folders/pp/q0kl1bl507q_7gsf1tczbrg80000gn/T/ipykernel_27011/782356244.py\", line 14, in block_mul\n",
      "    similarity_block = matrix_1[current_block_start_row:current_block_start_row + block_dim, :] * matrix_2\n",
      "  File \"/opt/homebrew/Caskroom/miniconda/base/envs/RSFramework/lib/python3.9/site-packages/scipy/sparse/_matrix.py\", line 44, in __mul__\n",
      "    return self._matmul_dispatch(other)\n",
      "  File \"/opt/homebrew/Caskroom/miniconda/base/envs/RSFramework/lib/python3.9/site-packages/scipy/sparse/_base.py\", line 606, in _matmul_dispatch\n",
      "    return self._matmul_sparse(other)\n",
      "  File \"/opt/homebrew/Caskroom/miniconda/base/envs/RSFramework/lib/python3.9/site-packages/scipy/sparse/_compressed.py\", line 520, in _matmul_sparse\n",
      "    nnz = fn(M, N,\n",
      "KeyboardInterrupt\n",
      "[W 2024-12-04 21:12:07,899] Trial 6 failed with value None.\n"
     ]
    },
    {
     "ename": "KeyboardInterrupt",
     "evalue": "",
     "output_type": "error",
     "traceback": [
      "\u001b[0;31m---------------------------------------------------------------------------\u001b[0m",
      "\u001b[0;31mKeyboardInterrupt\u001b[0m                         Traceback (most recent call last)",
      "Cell \u001b[0;32mIn[26], line 1\u001b[0m\n\u001b[0;32m----> 1\u001b[0m \u001b[43moptuna_study_RP3beta\u001b[49m\u001b[38;5;241;43m.\u001b[39;49m\u001b[43moptimize\u001b[49m\u001b[43m(\u001b[49m\u001b[43mobjective_function_RP3beta\u001b[49m\u001b[43m,\u001b[49m\n\u001b[1;32m      2\u001b[0m \u001b[43m                              \u001b[49m\u001b[43mcallbacks\u001b[49m\u001b[38;5;241;43m=\u001b[39;49m\u001b[43m[\u001b[49m\u001b[43msave_results_RP3beta\u001b[49m\u001b[43m]\u001b[49m\u001b[43m,\u001b[49m\n\u001b[1;32m      3\u001b[0m \u001b[43m                              \u001b[49m\u001b[43mn_trials\u001b[49m\u001b[38;5;241;43m=\u001b[39;49m\u001b[38;5;241;43m50\u001b[39;49m\u001b[43m)\u001b[49m\n\u001b[1;32m      5\u001b[0m RP3beta_optimal \u001b[38;5;241m=\u001b[39m RP3betaRecommender(URM_train_val,\n\u001b[1;32m      6\u001b[0m                                      alpha\u001b[38;5;241m=\u001b[39moptuna_study_RP3beta\u001b[38;5;241m.\u001b[39mbest_trial\u001b[38;5;241m.\u001b[39mparams[\u001b[38;5;124m'\u001b[39m\u001b[38;5;124malpha\u001b[39m\u001b[38;5;124m'\u001b[39m],\n\u001b[1;32m      7\u001b[0m                                      beta\u001b[38;5;241m=\u001b[39moptuna_study_RP3beta\u001b[38;5;241m.\u001b[39mbest_trial\u001b[38;5;241m.\u001b[39mparams[\u001b[38;5;124m'\u001b[39m\u001b[38;5;124mbeta\u001b[39m\u001b[38;5;124m'\u001b[39m],\n\u001b[1;32m      8\u001b[0m                                      topK\u001b[38;5;241m=\u001b[39moptuna_study_RP3beta\u001b[38;5;241m.\u001b[39mbest_trial\u001b[38;5;241m.\u001b[39mparams[\u001b[38;5;124m'\u001b[39m\u001b[38;5;124mtopK\u001b[39m\u001b[38;5;124m'\u001b[39m],\n\u001b[1;32m      9\u001b[0m                                      normalize_sim\u001b[38;5;241m=\u001b[39moptuna_study_RP3beta\u001b[38;5;241m.\u001b[39mbest_trial\u001b[38;5;241m.\u001b[39mparams[\u001b[38;5;124m'\u001b[39m\u001b[38;5;124mnormalize_sim\u001b[39m\u001b[38;5;124m'\u001b[39m])\n\u001b[1;32m     11\u001b[0m RP3beta_optimal\u001b[38;5;241m.\u001b[39mfit()\n",
      "File \u001b[0;32m/opt/homebrew/Caskroom/miniconda/base/envs/RSFramework/lib/python3.9/site-packages/optuna/study/study.py:475\u001b[0m, in \u001b[0;36mStudy.optimize\u001b[0;34m(self, func, n_trials, timeout, n_jobs, catch, callbacks, gc_after_trial, show_progress_bar)\u001b[0m\n\u001b[1;32m    373\u001b[0m \u001b[38;5;28;01mdef\u001b[39;00m \u001b[38;5;21moptimize\u001b[39m(\n\u001b[1;32m    374\u001b[0m     \u001b[38;5;28mself\u001b[39m,\n\u001b[1;32m    375\u001b[0m     func: ObjectiveFuncType,\n\u001b[0;32m   (...)\u001b[0m\n\u001b[1;32m    382\u001b[0m     show_progress_bar: \u001b[38;5;28mbool\u001b[39m \u001b[38;5;241m=\u001b[39m \u001b[38;5;28;01mFalse\u001b[39;00m,\n\u001b[1;32m    383\u001b[0m ) \u001b[38;5;241m-\u001b[39m\u001b[38;5;241m>\u001b[39m \u001b[38;5;28;01mNone\u001b[39;00m:\n\u001b[1;32m    384\u001b[0m \u001b[38;5;250m    \u001b[39m\u001b[38;5;124;03m\"\"\"Optimize an objective function.\u001b[39;00m\n\u001b[1;32m    385\u001b[0m \n\u001b[1;32m    386\u001b[0m \u001b[38;5;124;03m    Optimization is done by choosing a suitable set of hyperparameter values from a given\u001b[39;00m\n\u001b[0;32m   (...)\u001b[0m\n\u001b[1;32m    473\u001b[0m \u001b[38;5;124;03m            If nested invocation of this method occurs.\u001b[39;00m\n\u001b[1;32m    474\u001b[0m \u001b[38;5;124;03m    \"\"\"\u001b[39;00m\n\u001b[0;32m--> 475\u001b[0m     \u001b[43m_optimize\u001b[49m\u001b[43m(\u001b[49m\n\u001b[1;32m    476\u001b[0m \u001b[43m        \u001b[49m\u001b[43mstudy\u001b[49m\u001b[38;5;241;43m=\u001b[39;49m\u001b[38;5;28;43mself\u001b[39;49m\u001b[43m,\u001b[49m\n\u001b[1;32m    477\u001b[0m \u001b[43m        \u001b[49m\u001b[43mfunc\u001b[49m\u001b[38;5;241;43m=\u001b[39;49m\u001b[43mfunc\u001b[49m\u001b[43m,\u001b[49m\n\u001b[1;32m    478\u001b[0m \u001b[43m        \u001b[49m\u001b[43mn_trials\u001b[49m\u001b[38;5;241;43m=\u001b[39;49m\u001b[43mn_trials\u001b[49m\u001b[43m,\u001b[49m\n\u001b[1;32m    479\u001b[0m \u001b[43m        \u001b[49m\u001b[43mtimeout\u001b[49m\u001b[38;5;241;43m=\u001b[39;49m\u001b[43mtimeout\u001b[49m\u001b[43m,\u001b[49m\n\u001b[1;32m    480\u001b[0m \u001b[43m        \u001b[49m\u001b[43mn_jobs\u001b[49m\u001b[38;5;241;43m=\u001b[39;49m\u001b[43mn_jobs\u001b[49m\u001b[43m,\u001b[49m\n\u001b[1;32m    481\u001b[0m \u001b[43m        \u001b[49m\u001b[43mcatch\u001b[49m\u001b[38;5;241;43m=\u001b[39;49m\u001b[38;5;28;43mtuple\u001b[39;49m\u001b[43m(\u001b[49m\u001b[43mcatch\u001b[49m\u001b[43m)\u001b[49m\u001b[43m \u001b[49m\u001b[38;5;28;43;01mif\u001b[39;49;00m\u001b[43m \u001b[49m\u001b[38;5;28;43misinstance\u001b[39;49m\u001b[43m(\u001b[49m\u001b[43mcatch\u001b[49m\u001b[43m,\u001b[49m\u001b[43m \u001b[49m\u001b[43mIterable\u001b[49m\u001b[43m)\u001b[49m\u001b[43m \u001b[49m\u001b[38;5;28;43;01melse\u001b[39;49;00m\u001b[43m \u001b[49m\u001b[43m(\u001b[49m\u001b[43mcatch\u001b[49m\u001b[43m,\u001b[49m\u001b[43m)\u001b[49m\u001b[43m,\u001b[49m\n\u001b[1;32m    482\u001b[0m \u001b[43m        \u001b[49m\u001b[43mcallbacks\u001b[49m\u001b[38;5;241;43m=\u001b[39;49m\u001b[43mcallbacks\u001b[49m\u001b[43m,\u001b[49m\n\u001b[1;32m    483\u001b[0m \u001b[43m        \u001b[49m\u001b[43mgc_after_trial\u001b[49m\u001b[38;5;241;43m=\u001b[39;49m\u001b[43mgc_after_trial\u001b[49m\u001b[43m,\u001b[49m\n\u001b[1;32m    484\u001b[0m \u001b[43m        \u001b[49m\u001b[43mshow_progress_bar\u001b[49m\u001b[38;5;241;43m=\u001b[39;49m\u001b[43mshow_progress_bar\u001b[49m\u001b[43m,\u001b[49m\n\u001b[1;32m    485\u001b[0m \u001b[43m    \u001b[49m\u001b[43m)\u001b[49m\n",
      "File \u001b[0;32m/opt/homebrew/Caskroom/miniconda/base/envs/RSFramework/lib/python3.9/site-packages/optuna/study/_optimize.py:63\u001b[0m, in \u001b[0;36m_optimize\u001b[0;34m(study, func, n_trials, timeout, n_jobs, catch, callbacks, gc_after_trial, show_progress_bar)\u001b[0m\n\u001b[1;32m     61\u001b[0m \u001b[38;5;28;01mtry\u001b[39;00m:\n\u001b[1;32m     62\u001b[0m     \u001b[38;5;28;01mif\u001b[39;00m n_jobs \u001b[38;5;241m==\u001b[39m \u001b[38;5;241m1\u001b[39m:\n\u001b[0;32m---> 63\u001b[0m         \u001b[43m_optimize_sequential\u001b[49m\u001b[43m(\u001b[49m\n\u001b[1;32m     64\u001b[0m \u001b[43m            \u001b[49m\u001b[43mstudy\u001b[49m\u001b[43m,\u001b[49m\n\u001b[1;32m     65\u001b[0m \u001b[43m            \u001b[49m\u001b[43mfunc\u001b[49m\u001b[43m,\u001b[49m\n\u001b[1;32m     66\u001b[0m \u001b[43m            \u001b[49m\u001b[43mn_trials\u001b[49m\u001b[43m,\u001b[49m\n\u001b[1;32m     67\u001b[0m \u001b[43m            \u001b[49m\u001b[43mtimeout\u001b[49m\u001b[43m,\u001b[49m\n\u001b[1;32m     68\u001b[0m \u001b[43m            \u001b[49m\u001b[43mcatch\u001b[49m\u001b[43m,\u001b[49m\n\u001b[1;32m     69\u001b[0m \u001b[43m            \u001b[49m\u001b[43mcallbacks\u001b[49m\u001b[43m,\u001b[49m\n\u001b[1;32m     70\u001b[0m \u001b[43m            \u001b[49m\u001b[43mgc_after_trial\u001b[49m\u001b[43m,\u001b[49m\n\u001b[1;32m     71\u001b[0m \u001b[43m            \u001b[49m\u001b[43mreseed_sampler_rng\u001b[49m\u001b[38;5;241;43m=\u001b[39;49m\u001b[38;5;28;43;01mFalse\u001b[39;49;00m\u001b[43m,\u001b[49m\n\u001b[1;32m     72\u001b[0m \u001b[43m            \u001b[49m\u001b[43mtime_start\u001b[49m\u001b[38;5;241;43m=\u001b[39;49m\u001b[38;5;28;43;01mNone\u001b[39;49;00m\u001b[43m,\u001b[49m\n\u001b[1;32m     73\u001b[0m \u001b[43m            \u001b[49m\u001b[43mprogress_bar\u001b[49m\u001b[38;5;241;43m=\u001b[39;49m\u001b[43mprogress_bar\u001b[49m\u001b[43m,\u001b[49m\n\u001b[1;32m     74\u001b[0m \u001b[43m        \u001b[49m\u001b[43m)\u001b[49m\n\u001b[1;32m     75\u001b[0m     \u001b[38;5;28;01melse\u001b[39;00m:\n\u001b[1;32m     76\u001b[0m         \u001b[38;5;28;01mif\u001b[39;00m n_jobs \u001b[38;5;241m==\u001b[39m \u001b[38;5;241m-\u001b[39m\u001b[38;5;241m1\u001b[39m:\n",
      "File \u001b[0;32m/opt/homebrew/Caskroom/miniconda/base/envs/RSFramework/lib/python3.9/site-packages/optuna/study/_optimize.py:160\u001b[0m, in \u001b[0;36m_optimize_sequential\u001b[0;34m(study, func, n_trials, timeout, catch, callbacks, gc_after_trial, reseed_sampler_rng, time_start, progress_bar)\u001b[0m\n\u001b[1;32m    157\u001b[0m         \u001b[38;5;28;01mbreak\u001b[39;00m\n\u001b[1;32m    159\u001b[0m \u001b[38;5;28;01mtry\u001b[39;00m:\n\u001b[0;32m--> 160\u001b[0m     frozen_trial \u001b[38;5;241m=\u001b[39m \u001b[43m_run_trial\u001b[49m\u001b[43m(\u001b[49m\u001b[43mstudy\u001b[49m\u001b[43m,\u001b[49m\u001b[43m \u001b[49m\u001b[43mfunc\u001b[49m\u001b[43m,\u001b[49m\u001b[43m \u001b[49m\u001b[43mcatch\u001b[49m\u001b[43m)\u001b[49m\n\u001b[1;32m    161\u001b[0m \u001b[38;5;28;01mfinally\u001b[39;00m:\n\u001b[1;32m    162\u001b[0m     \u001b[38;5;66;03m# The following line mitigates memory problems that can be occurred in some\u001b[39;00m\n\u001b[1;32m    163\u001b[0m     \u001b[38;5;66;03m# environments (e.g., services that use computing containers such as GitHub Actions).\u001b[39;00m\n\u001b[1;32m    164\u001b[0m     \u001b[38;5;66;03m# Please refer to the following PR for further details:\u001b[39;00m\n\u001b[1;32m    165\u001b[0m     \u001b[38;5;66;03m# https://github.com/optuna/optuna/pull/325.\u001b[39;00m\n\u001b[1;32m    166\u001b[0m     \u001b[38;5;28;01mif\u001b[39;00m gc_after_trial:\n",
      "File \u001b[0;32m/opt/homebrew/Caskroom/miniconda/base/envs/RSFramework/lib/python3.9/site-packages/optuna/study/_optimize.py:248\u001b[0m, in \u001b[0;36m_run_trial\u001b[0;34m(study, func, catch)\u001b[0m\n\u001b[1;32m    241\u001b[0m         \u001b[38;5;28;01massert\u001b[39;00m \u001b[38;5;28;01mFalse\u001b[39;00m, \u001b[38;5;124m\"\u001b[39m\u001b[38;5;124mShould not reach.\u001b[39m\u001b[38;5;124m\"\u001b[39m\n\u001b[1;32m    243\u001b[0m \u001b[38;5;28;01mif\u001b[39;00m (\n\u001b[1;32m    244\u001b[0m     frozen_trial\u001b[38;5;241m.\u001b[39mstate \u001b[38;5;241m==\u001b[39m TrialState\u001b[38;5;241m.\u001b[39mFAIL\n\u001b[1;32m    245\u001b[0m     \u001b[38;5;129;01mand\u001b[39;00m func_err \u001b[38;5;129;01mis\u001b[39;00m \u001b[38;5;129;01mnot\u001b[39;00m \u001b[38;5;28;01mNone\u001b[39;00m\n\u001b[1;32m    246\u001b[0m     \u001b[38;5;129;01mand\u001b[39;00m \u001b[38;5;129;01mnot\u001b[39;00m \u001b[38;5;28misinstance\u001b[39m(func_err, catch)\n\u001b[1;32m    247\u001b[0m ):\n\u001b[0;32m--> 248\u001b[0m     \u001b[38;5;28;01mraise\u001b[39;00m func_err\n\u001b[1;32m    249\u001b[0m \u001b[38;5;28;01mreturn\u001b[39;00m frozen_trial\n",
      "File \u001b[0;32m/opt/homebrew/Caskroom/miniconda/base/envs/RSFramework/lib/python3.9/site-packages/optuna/study/_optimize.py:197\u001b[0m, in \u001b[0;36m_run_trial\u001b[0;34m(study, func, catch)\u001b[0m\n\u001b[1;32m    195\u001b[0m \u001b[38;5;28;01mwith\u001b[39;00m get_heartbeat_thread(trial\u001b[38;5;241m.\u001b[39m_trial_id, study\u001b[38;5;241m.\u001b[39m_storage):\n\u001b[1;32m    196\u001b[0m     \u001b[38;5;28;01mtry\u001b[39;00m:\n\u001b[0;32m--> 197\u001b[0m         value_or_values \u001b[38;5;241m=\u001b[39m \u001b[43mfunc\u001b[49m\u001b[43m(\u001b[49m\u001b[43mtrial\u001b[49m\u001b[43m)\u001b[49m\n\u001b[1;32m    198\u001b[0m     \u001b[38;5;28;01mexcept\u001b[39;00m exceptions\u001b[38;5;241m.\u001b[39mTrialPruned \u001b[38;5;28;01mas\u001b[39;00m e:\n\u001b[1;32m    199\u001b[0m         \u001b[38;5;66;03m# TODO(mamu): Handle multi-objective cases.\u001b[39;00m\n\u001b[1;32m    200\u001b[0m         state \u001b[38;5;241m=\u001b[39m TrialState\u001b[38;5;241m.\u001b[39mPRUNED\n",
      "Cell \u001b[0;32mIn[24], line 24\u001b[0m, in \u001b[0;36mobjective_function_RP3beta\u001b[0;34m(optuna_trial)\u001b[0m\n\u001b[1;32m     17\u001b[0m \u001b[38;5;28;01mdef\u001b[39;00m \u001b[38;5;21mobjective_function_RP3beta\u001b[39m(optuna_trial):\n\u001b[1;32m     18\u001b[0m     recommender_instance \u001b[38;5;241m=\u001b[39m RP3betaRecommender(URM_train,\n\u001b[1;32m     19\u001b[0m                                               alpha\u001b[38;5;241m=\u001b[39moptuna_trial\u001b[38;5;241m.\u001b[39msuggest_float(\u001b[38;5;124m\"\u001b[39m\u001b[38;5;124malpha\u001b[39m\u001b[38;5;124m\"\u001b[39m, \u001b[38;5;241m0.01\u001b[39m, \u001b[38;5;241m0.99\u001b[39m),\n\u001b[1;32m     20\u001b[0m                                               beta\u001b[38;5;241m=\u001b[39moptuna_trial\u001b[38;5;241m.\u001b[39msuggest_float(\u001b[38;5;124m\"\u001b[39m\u001b[38;5;124mbeta\u001b[39m\u001b[38;5;124m\"\u001b[39m, \u001b[38;5;241m0.01\u001b[39m, \u001b[38;5;241m0.99\u001b[39m),\n\u001b[1;32m     21\u001b[0m                                               topK\u001b[38;5;241m=\u001b[39moptuna_trial\u001b[38;5;241m.\u001b[39msuggest_int(\u001b[38;5;124m\"\u001b[39m\u001b[38;5;124mtopK\u001b[39m\u001b[38;5;124m\"\u001b[39m, \u001b[38;5;241m5\u001b[39m, \u001b[38;5;241m150\u001b[39m),\n\u001b[1;32m     22\u001b[0m                                               normalize_sim\u001b[38;5;241m=\u001b[39moptuna_trial\u001b[38;5;241m.\u001b[39msuggest_int(\u001b[38;5;124m\"\u001b[39m\u001b[38;5;124mnormalize_sim\u001b[39m\u001b[38;5;124m\"\u001b[39m, \u001b[38;5;241m0\u001b[39m, \u001b[38;5;241m1\u001b[39m))\n\u001b[0;32m---> 24\u001b[0m     \u001b[43mrecommender_instance\u001b[49m\u001b[38;5;241;43m.\u001b[39;49m\u001b[43mfit\u001b[49m\u001b[43m(\u001b[49m\u001b[43m)\u001b[49m\n\u001b[1;32m     26\u001b[0m     evaluation \u001b[38;5;241m=\u001b[39m evaluate_recommender(URM_val, recommender_instance)\n\u001b[1;32m     27\u001b[0m     \u001b[38;5;28;01mreturn\u001b[39;00m evaluation\n",
      "Cell \u001b[0;32mIn[21], line 10\u001b[0m, in \u001b[0;36mRP3betaRecommender.fit\u001b[0;34m(self)\u001b[0m\n\u001b[1;32m      9\u001b[0m \u001b[38;5;28;01mdef\u001b[39;00m \u001b[38;5;21mfit\u001b[39m(\u001b[38;5;28mself\u001b[39m):\n\u001b[0;32m---> 10\u001b[0m     \u001b[38;5;28mself\u001b[39m\u001b[38;5;241m.\u001b[39mthree_step_walk, _ \u001b[38;5;241m=\u001b[39m \u001b[43mtransition_matrix_blocks\u001b[49m\u001b[43m(\u001b[49m\u001b[38;5;28;43mself\u001b[39;49m\u001b[38;5;241;43m.\u001b[39;49m\u001b[43mURM_train\u001b[49m\u001b[43m,\u001b[49m\n\u001b[1;32m     11\u001b[0m \u001b[43m                                                       \u001b[49m\u001b[38;5;241;43m3\u001b[39;49m\u001b[43m,\u001b[49m\n\u001b[1;32m     12\u001b[0m \u001b[43m                                                       \u001b[49m\u001b[38;5;28;43mself\u001b[39;49m\u001b[38;5;241;43m.\u001b[39;49m\u001b[43malpha\u001b[49m\u001b[43m,\u001b[49m\n\u001b[1;32m     13\u001b[0m \u001b[43m                                                       \u001b[49m\u001b[38;5;28;43mself\u001b[39;49m\u001b[38;5;241;43m.\u001b[39;49m\u001b[43mbeta\u001b[49m\u001b[43m,\u001b[49m\n\u001b[1;32m     14\u001b[0m \u001b[43m                                                       \u001b[49m\u001b[43mtopK\u001b[49m\u001b[38;5;241;43m=\u001b[39;49m\u001b[38;5;28;43mself\u001b[39;49m\u001b[38;5;241;43m.\u001b[39;49m\u001b[43mtopK\u001b[49m\u001b[43m,\u001b[49m\n\u001b[1;32m     15\u001b[0m \u001b[43m                                                       \u001b[49m\u001b[43mnormalize_sim\u001b[49m\u001b[38;5;241;43m=\u001b[39;49m\u001b[38;5;28;43mself\u001b[39;49m\u001b[38;5;241;43m.\u001b[39;49m\u001b[43mnormalize_sim\u001b[49m\u001b[43m,\u001b[49m\n\u001b[1;32m     16\u001b[0m \u001b[43m                                                       \u001b[49m\u001b[43mextract_similarity\u001b[49m\u001b[38;5;241;43m=\u001b[39;49m\u001b[38;5;28;43;01mFalse\u001b[39;49;00m\u001b[43m)\u001b[49m\n",
      "Cell \u001b[0;32mIn[18], line 37\u001b[0m, in \u001b[0;36mtransition_matrix_blocks\u001b[0;34m(URM, hops, alpha, beta, topK, extract_similarity, normalize_sim)\u001b[0m\n\u001b[1;32m     35\u001b[0m \u001b[38;5;28;01mif\u001b[39;00m j \u001b[38;5;241m==\u001b[39m hops \u001b[38;5;241m-\u001b[39m \u001b[38;5;241m1\u001b[39m: deg \u001b[38;5;241m=\u001b[39m degree\n\u001b[1;32m     36\u001b[0m \u001b[38;5;28;01mif\u001b[39;00m j \u001b[38;5;241m%\u001b[39m \u001b[38;5;241m2\u001b[39m \u001b[38;5;241m!=\u001b[39m \u001b[38;5;241m0\u001b[39m:\n\u001b[0;32m---> 37\u001b[0m     state \u001b[38;5;241m=\u001b[39m \u001b[43mblock_mul\u001b[49m\u001b[43m(\u001b[49m\u001b[43mstate\u001b[49m\u001b[43m,\u001b[49m\u001b[43m \u001b[49m\u001b[43mP_iu\u001b[49m\u001b[43m,\u001b[49m\u001b[43m \u001b[49m\u001b[43mtopK\u001b[49m\u001b[38;5;241;43m=\u001b[39;49m\u001b[43mtopK\u001b[49m\u001b[43m,\u001b[49m\u001b[43m \u001b[49m\u001b[43mnormalize_sim\u001b[49m\u001b[38;5;241;43m=\u001b[39;49m\u001b[43mnormalize_sim\u001b[49m\u001b[43m,\u001b[49m\u001b[43m \u001b[49m\u001b[43mdegree\u001b[49m\u001b[38;5;241;43m=\u001b[39;49m\u001b[43mdeg\u001b[49m\u001b[43m)\u001b[49m \u001b[38;5;66;03m# state * P_iu\u001b[39;00m\n\u001b[1;32m     38\u001b[0m     \u001b[38;5;28;01mif\u001b[39;00m extract_similarity \u001b[38;5;129;01mand\u001b[39;00m (j \u001b[38;5;241m>\u001b[39m \u001b[38;5;241m1\u001b[39m \u001b[38;5;129;01mand\u001b[39;00m j \u001b[38;5;241m<\u001b[39m hops \u001b[38;5;241m-\u001b[39m \u001b[38;5;241m1\u001b[39m) :\n\u001b[1;32m     39\u001b[0m         sim_matrix \u001b[38;5;241m=\u001b[39m block_mul(sim_matrix, P_iu, topK\u001b[38;5;241m=\u001b[39mtopK, normalize_sim\u001b[38;5;241m=\u001b[39mnormalize_sim, degree\u001b[38;5;241m=\u001b[39mdeg) \u001b[38;5;66;03m# sim_matrix * P_iu\u001b[39;00m\n",
      "Cell \u001b[0;32mIn[16], line 14\u001b[0m, in \u001b[0;36mblock_mul\u001b[0;34m(matrix_1, matrix_2, block_dim, topK, normalize_sim, degree)\u001b[0m\n\u001b[1;32m     11\u001b[0m \u001b[38;5;28;01mif\u001b[39;00m current_block_start_row \u001b[38;5;241m+\u001b[39m block_dim \u001b[38;5;241m>\u001b[39m matrix_2\u001b[38;5;241m.\u001b[39mshape[\u001b[38;5;241m1\u001b[39m]:\n\u001b[1;32m     12\u001b[0m     block_dim \u001b[38;5;241m=\u001b[39m matrix_2\u001b[38;5;241m.\u001b[39mshape[\u001b[38;5;241m1\u001b[39m] \u001b[38;5;241m-\u001b[39m current_block_start_row\n\u001b[0;32m---> 14\u001b[0m similarity_block \u001b[38;5;241m=\u001b[39m \u001b[43mmatrix_1\u001b[49m\u001b[43m[\u001b[49m\u001b[43mcurrent_block_start_row\u001b[49m\u001b[43m:\u001b[49m\u001b[43mcurrent_block_start_row\u001b[49m\u001b[43m \u001b[49m\u001b[38;5;241;43m+\u001b[39;49m\u001b[43m \u001b[49m\u001b[43mblock_dim\u001b[49m\u001b[43m,\u001b[49m\u001b[43m \u001b[49m\u001b[43m:\u001b[49m\u001b[43m]\u001b[49m\u001b[43m \u001b[49m\u001b[38;5;241;43m*\u001b[39;49m\u001b[43m \u001b[49m\u001b[43mmatrix_2\u001b[49m\n\u001b[1;32m     15\u001b[0m similarity_block \u001b[38;5;241m=\u001b[39m similarity_block\u001b[38;5;241m.\u001b[39mtoarray()\n\u001b[1;32m     17\u001b[0m \u001b[38;5;28;01mfor\u001b[39;00m row_in_block \u001b[38;5;129;01min\u001b[39;00m \u001b[38;5;28mrange\u001b[39m(block_dim):\n",
      "File \u001b[0;32m/opt/homebrew/Caskroom/miniconda/base/envs/RSFramework/lib/python3.9/site-packages/scipy/sparse/_matrix.py:44\u001b[0m, in \u001b[0;36mspmatrix.__mul__\u001b[0;34m(self, other)\u001b[0m\n\u001b[1;32m     43\u001b[0m \u001b[38;5;28;01mdef\u001b[39;00m \u001b[38;5;21m__mul__\u001b[39m(\u001b[38;5;28mself\u001b[39m, other):\n\u001b[0;32m---> 44\u001b[0m     \u001b[38;5;28;01mreturn\u001b[39;00m \u001b[38;5;28;43mself\u001b[39;49m\u001b[38;5;241;43m.\u001b[39;49m\u001b[43m_matmul_dispatch\u001b[49m\u001b[43m(\u001b[49m\u001b[43mother\u001b[49m\u001b[43m)\u001b[49m\n",
      "File \u001b[0;32m/opt/homebrew/Caskroom/miniconda/base/envs/RSFramework/lib/python3.9/site-packages/scipy/sparse/_base.py:606\u001b[0m, in \u001b[0;36m_spbase._matmul_dispatch\u001b[0;34m(self, other)\u001b[0m\n\u001b[1;32m    604\u001b[0m     \u001b[38;5;28;01mif\u001b[39;00m other\u001b[38;5;241m.\u001b[39mndim \u001b[38;5;241m==\u001b[39m \u001b[38;5;241m1\u001b[39m:\n\u001b[1;32m    605\u001b[0m         \u001b[38;5;28;01mraise\u001b[39;00m \u001b[38;5;167;01mValueError\u001b[39;00m(\u001b[38;5;124m'\u001b[39m\u001b[38;5;124mCannot yet multiply a 1d sparse array\u001b[39m\u001b[38;5;124m'\u001b[39m)\n\u001b[0;32m--> 606\u001b[0m     \u001b[38;5;28;01mreturn\u001b[39;00m \u001b[38;5;28;43mself\u001b[39;49m\u001b[38;5;241;43m.\u001b[39;49m\u001b[43m_matmul_sparse\u001b[49m\u001b[43m(\u001b[49m\u001b[43mother\u001b[49m\u001b[43m)\u001b[49m\n\u001b[1;32m    608\u001b[0m \u001b[38;5;66;03m# If it's a list or whatever, treat it like an array\u001b[39;00m\n\u001b[1;32m    609\u001b[0m other_a \u001b[38;5;241m=\u001b[39m np\u001b[38;5;241m.\u001b[39masanyarray(other)\n",
      "File \u001b[0;32m/opt/homebrew/Caskroom/miniconda/base/envs/RSFramework/lib/python3.9/site-packages/scipy/sparse/_compressed.py:520\u001b[0m, in \u001b[0;36m_cs_matrix._matmul_sparse\u001b[0;34m(self, other)\u001b[0m\n\u001b[1;32m    516\u001b[0m idx_dtype \u001b[38;5;241m=\u001b[39m \u001b[38;5;28mself\u001b[39m\u001b[38;5;241m.\u001b[39m_get_index_dtype((\u001b[38;5;28mself\u001b[39m\u001b[38;5;241m.\u001b[39mindptr, \u001b[38;5;28mself\u001b[39m\u001b[38;5;241m.\u001b[39mindices,\n\u001b[1;32m    517\u001b[0m                              other\u001b[38;5;241m.\u001b[39mindptr, other\u001b[38;5;241m.\u001b[39mindices))\n\u001b[1;32m    519\u001b[0m fn \u001b[38;5;241m=\u001b[39m \u001b[38;5;28mgetattr\u001b[39m(_sparsetools, \u001b[38;5;28mself\u001b[39m\u001b[38;5;241m.\u001b[39mformat \u001b[38;5;241m+\u001b[39m \u001b[38;5;124m'\u001b[39m\u001b[38;5;124m_matmat_maxnnz\u001b[39m\u001b[38;5;124m'\u001b[39m)\n\u001b[0;32m--> 520\u001b[0m nnz \u001b[38;5;241m=\u001b[39m \u001b[43mfn\u001b[49m\u001b[43m(\u001b[49m\u001b[43mM\u001b[49m\u001b[43m,\u001b[49m\u001b[43m \u001b[49m\u001b[43mN\u001b[49m\u001b[43m,\u001b[49m\n\u001b[1;32m    521\u001b[0m \u001b[43m         \u001b[49m\u001b[43mnp\u001b[49m\u001b[38;5;241;43m.\u001b[39;49m\u001b[43masarray\u001b[49m\u001b[43m(\u001b[49m\u001b[38;5;28;43mself\u001b[39;49m\u001b[38;5;241;43m.\u001b[39;49m\u001b[43mindptr\u001b[49m\u001b[43m,\u001b[49m\u001b[43m \u001b[49m\u001b[43mdtype\u001b[49m\u001b[38;5;241;43m=\u001b[39;49m\u001b[43midx_dtype\u001b[49m\u001b[43m)\u001b[49m\u001b[43m,\u001b[49m\n\u001b[1;32m    522\u001b[0m \u001b[43m         \u001b[49m\u001b[43mnp\u001b[49m\u001b[38;5;241;43m.\u001b[39;49m\u001b[43masarray\u001b[49m\u001b[43m(\u001b[49m\u001b[38;5;28;43mself\u001b[39;49m\u001b[38;5;241;43m.\u001b[39;49m\u001b[43mindices\u001b[49m\u001b[43m,\u001b[49m\u001b[43m \u001b[49m\u001b[43mdtype\u001b[49m\u001b[38;5;241;43m=\u001b[39;49m\u001b[43midx_dtype\u001b[49m\u001b[43m)\u001b[49m\u001b[43m,\u001b[49m\n\u001b[1;32m    523\u001b[0m \u001b[43m         \u001b[49m\u001b[43mnp\u001b[49m\u001b[38;5;241;43m.\u001b[39;49m\u001b[43masarray\u001b[49m\u001b[43m(\u001b[49m\u001b[43mother\u001b[49m\u001b[38;5;241;43m.\u001b[39;49m\u001b[43mindptr\u001b[49m\u001b[43m,\u001b[49m\u001b[43m \u001b[49m\u001b[43mdtype\u001b[49m\u001b[38;5;241;43m=\u001b[39;49m\u001b[43midx_dtype\u001b[49m\u001b[43m)\u001b[49m\u001b[43m,\u001b[49m\n\u001b[1;32m    524\u001b[0m \u001b[43m         \u001b[49m\u001b[43mnp\u001b[49m\u001b[38;5;241;43m.\u001b[39;49m\u001b[43masarray\u001b[49m\u001b[43m(\u001b[49m\u001b[43mother\u001b[49m\u001b[38;5;241;43m.\u001b[39;49m\u001b[43mindices\u001b[49m\u001b[43m,\u001b[49m\u001b[43m \u001b[49m\u001b[43mdtype\u001b[49m\u001b[38;5;241;43m=\u001b[39;49m\u001b[43midx_dtype\u001b[49m\u001b[43m)\u001b[49m\u001b[43m)\u001b[49m\n\u001b[1;32m    526\u001b[0m idx_dtype \u001b[38;5;241m=\u001b[39m \u001b[38;5;28mself\u001b[39m\u001b[38;5;241m.\u001b[39m_get_index_dtype((\u001b[38;5;28mself\u001b[39m\u001b[38;5;241m.\u001b[39mindptr, \u001b[38;5;28mself\u001b[39m\u001b[38;5;241m.\u001b[39mindices,\n\u001b[1;32m    527\u001b[0m                              other\u001b[38;5;241m.\u001b[39mindptr, other\u001b[38;5;241m.\u001b[39mindices),\n\u001b[1;32m    528\u001b[0m                             maxval\u001b[38;5;241m=\u001b[39mnnz)\n\u001b[1;32m    530\u001b[0m indptr \u001b[38;5;241m=\u001b[39m np\u001b[38;5;241m.\u001b[39mempty(major_axis \u001b[38;5;241m+\u001b[39m \u001b[38;5;241m1\u001b[39m, dtype\u001b[38;5;241m=\u001b[39midx_dtype)\n",
      "\u001b[0;31mKeyboardInterrupt\u001b[0m: "
     ]
    }
   ],
   "source": [
    "optuna_study_RP3beta.optimize(objective_function_RP3beta,\n",
    "                              callbacks=[save_results_RP3beta],\n",
    "                              n_trials=10)\n",
    "\n",
    "RP3beta_optimal = RP3betaRecommender(URM_train_val,\n",
    "                                     alpha=optuna_study_RP3beta.best_trial.params['alpha'],\n",
    "                                     beta=optuna_study_RP3beta.best_trial.params['beta'],\n",
    "                                     topK=optuna_study_RP3beta.best_trial.params['topK'],\n",
    "                                     normalize_sim=optuna_study_RP3beta.best_trial.params['normalize_sim'])\n",
    "\n",
    "RP3beta_optimal.fit()\n",
    "_ = evaluate_recommender(URM_test, RP3beta_optimal)"
   ]
  },
  {
   "cell_type": "code",
   "execution_count": null,
   "metadata": {},
   "outputs": [
    {
     "name": "stdout",
     "output_type": "stream",
     "text": [
      "RP3betaRecommender: URM Detected 31 ( 0.3%) items with no interactions.\n"
     ]
    },
    {
     "ename": "NameError",
     "evalue": "name 'RP3beta_optimal' is not defined",
     "output_type": "error",
     "traceback": [
      "\u001b[0;31m---------------------------------------------------------------------------\u001b[0m",
      "\u001b[0;31mNameError\u001b[0m                                 Traceback (most recent call last)",
      "Cell \u001b[0;32mIn[27], line 5\u001b[0m\n\u001b[1;32m      2\u001b[0m \u001b[38;5;28;01mfrom\u001b[39;00m \u001b[38;5;21;01mEvaluation\u001b[39;00m\u001b[38;5;21;01m.\u001b[39;00m\u001b[38;5;21;01mEvaluator\u001b[39;00m \u001b[38;5;28;01mimport\u001b[39;00m EvaluatorHoldout\n\u001b[1;32m      4\u001b[0m recommender_try \u001b[38;5;241m=\u001b[39m RP3betaRecommender(URM_train_val)\n\u001b[0;32m----> 5\u001b[0m recommender_try\u001b[38;5;241m.\u001b[39mfit(alpha\u001b[38;5;241m=\u001b[39m\u001b[43mRP3beta_optimal\u001b[49m\u001b[38;5;241m.\u001b[39malpha, beta\u001b[38;5;241m=\u001b[39mRP3beta_optimal\u001b[38;5;241m.\u001b[39mbeta, topK\u001b[38;5;241m=\u001b[39mRP3beta_optimal\u001b[38;5;241m.\u001b[39mtopK, normalize_similarity\u001b[38;5;241m=\u001b[39mRP3beta_optimal\u001b[38;5;241m.\u001b[39mnormalize_sim)\n\u001b[1;32m      7\u001b[0m evaluator_test \u001b[38;5;241m=\u001b[39m EvaluatorHoldout(URM_test, [\u001b[38;5;241m10\u001b[39m])\n\u001b[1;32m      9\u001b[0m \u001b[38;5;66;03m# evaluate_recommender(URM_test, recommender_try)\u001b[39;00m\n",
      "\u001b[0;31mNameError\u001b[0m: name 'RP3beta_optimal' is not defined"
     ]
    }
   ],
   "source": [
    "from Recommenders.GraphBased.RP3betaRecommender import RP3betaRecommender\n",
    "from Evaluation.Evaluator import EvaluatorHoldout\n",
    "\n",
    "recommender_fw = RP3betaRecommender(URM_train_val)\n",
    "recommender_fw.fit(alpha=RP3beta_optimal.alpha, beta=RP3beta_optimal.beta, topK=RP3beta_optimal.topK, normalize_similarity=RP3beta_optimal.normalize_sim)\n",
    "\n",
    "evaluator_test = EvaluatorHoldout(URM_test, [10])\n",
    "\n",
    "# evaluate_recommender(URM_test, recommender_try)\n",
    "result_fw_df, _ = evaluator_test.evaluateRecommender(recommender_fw)\n",
    "result_fw_df"
   ]
  },
  {
   "cell_type": "code",
   "execution_count": 22,
   "metadata": {},
   "outputs": [],
   "source": [
    "import matplotlib.pyplot as plt\n",
    "\n",
    "def plot_rec_frequencies(list_recommenders, URM_all, TopPop_order : bool = False):\n",
    "\n",
    "    x_tick = np.arange(URM_all.shape[1])\n",
    "    counters = [np.zeros(URM_all.shape[1]) for i in range(len(list_recommenders))]\n",
    "\n",
    "    for user_id in range(URM_all.shape[0]):\n",
    "\n",
    "        for i in range(len(list_recommenders)):\n",
    "            recs = list_recommenders[i].recommend(user_id, at=10)\n",
    "            counters[i][recs] += 1\n",
    "        \n",
    "    if TopPop_order:\n",
    "        item_popularity = np.ediff1d(URM_all.tocsc().indptr)\n",
    "        sorted_items = np.argsort(item_popularity)\n",
    "        sorted_items = np.flip(sorted_items, axis=0)\n",
    "    else:\n",
    "        sorted_items = np.argsort(-counters[0])\n",
    "        \n",
    "    for j in range(len(counters)):    \n",
    "        plt.plot(x_tick, counters[-j][sorted_items], label = \"Model {}\".format(j))\n",
    "    if TopPop_order : plt.plot(x_tick, item_popularity[sorted_items], label = \"TopPop\")\n",
    "\n",
    "    plt.ylabel('Number of recommendations')\n",
    "    plt.xlabel('Items')\n",
    "    plt.legend()\n",
    "    plt.show()"
   ]
  },
  {
   "cell_type": "code",
   "execution_count": 48,
   "metadata": {},
   "outputs": [
    {
     "data": {
      "image/png": "[encoded data removed]",
      "text/plain": [
       "<Figure size 640x480 with 1 Axes>"
      ]
     },
     "metadata": {},
     "output_type": "display_data"
    }
   ],
   "source": [
    "plot_rec_frequencies([models['P3'], P3alpha_optimal, RP3beta_optimal], URM_all)"
   ]
  },
  {
   "cell_type": "code",
   "execution_count": 24,
   "metadata": {},
   "outputs": [],
   "source": [
    "# P5/P7 e come cambiano le raccomandazioni/similarity density (se la RAM regge) --> se non regge, applicare KNN come da framework (similarityMatrixTopK)\n",
    "class PXRecommender(BaseRecommender):\n",
    "    def __init__(self, URM, hops : int):\n",
    "        self.URM = URM\n",
    "        self.hops = hops\n",
    "        if hops % 2 == 0:\n",
    "            raise ValueError(\"Number of hops must be odd.\")\n",
    "\n",
    "    def fit(self):\n",
    "        self.n_step_walk, _ = transition_matrix_blocks(self.URM, self.hops, extract_similarity=False)\n",
    "\n",
    "    def recommend(self, user_id, remove_seen : bool = True, at : Optional[int] = None):\n",
    "        Pi_0 = np.zeros(self.URM.shape[0], dtype=np.int32)\n",
    "        Pi_0[user_id] = 1\n",
    "        Pi_0 = sps.csr_matrix(Pi_0)\n",
    "\n",
    "        ranking = Pi_0.dot(self.n_step_walk).toarray().ravel()\n",
    "\n",
    "        if remove_seen:\n",
    "            user_profile_start = self.URM.indptr[user_id]\n",
    "            user_profile_end = self.URM.indptr[user_id+1]\n",
    "            \n",
    "            seen_items = self.URM.indices[user_profile_start:user_profile_end]\n",
    "            \n",
    "            ranking[seen_items] = -np.inf\n",
    "            \n",
    "        ranking = np.flip(np.argsort(ranking))\n",
    "        return ranking[:at]"
   ]
  },
  {
   "cell_type": "code",
   "execution_count": 50,
   "metadata": {},
   "outputs": [
    {
     "name": "stdout",
     "output_type": "stream",
     "text": [
      "Recommender results are: Precision = 0.0230, Recall = 0.0190, MAP = 0.0152\n",
      "P3 trained in 2.83 min\n",
      "Recommender results are: Precision = 0.0221, Recall = 0.0155, MAP = 0.0136\n",
      "P5 trained in 3.40 min\n",
      "Recommender results are: Precision = 0.0210, Recall = 0.0145, MAP = 0.0126\n",
      "P7 trained in 3.91 min\n"
     ]
    }
   ],
   "source": [
    "# Compute recommendations on test set with P3, P5 and P7\n",
    "models = {\n",
    "    'P3' : PXRecommender(URM_train_val, hops=3),\n",
    "    'P5' : PXRecommender(URM_train_val, hops=5),\n",
    "    'P7' : PXRecommender(URM_train_val, hops=7)\n",
    "}\n",
    "\n",
    "for model_name, model_obj in models.items():\n",
    "    time_start = time.time()\n",
    "    model_obj.fit()\n",
    "    time_end_value, time_unit = seconds_to_biggest_unit(time.time() - time_start)\n",
    "    # PRAXIS WHEN USING THE COURSE'S FRAMEWORK: result_df, _ = evaluator_test.evaluateRecommender(model_obj)\n",
    "    _ = evaluate_recommender(URM_test, model_obj)\n",
    "    print(\"{} trained in {:.2f} {}\".format(model_name, time_end_value, time_unit))"
   ]
  },
  {
   "cell_type": "code",
   "execution_count": 51,
   "metadata": {},
   "outputs": [
    {
     "data": {
      "image/png": "[encoded data removed]",
      "text/plain": [
       "<Figure size 640x480 with 1 Axes>"
      ]
     },
     "metadata": {},
     "output_type": "display_data"
    }
   ],
   "source": [
    "# Popularity plot\n",
    "plot_rec_frequencies([y for _, y in models.items()], URM_all, TopPop_order=True)"
   ]
  },
  {
   "cell_type": "markdown",
   "metadata": {},
   "source": [
    "Possibile ibridare modelli con hops diversi PRIO"
   ]
  },
  {
   "cell_type": "markdown",
   "metadata": {},
   "source": [
    "Il codice di cui sopra è giusto \"idealmente\", ma non utilizzabile a livello di complessità (spazio: troppi dati da caricare in memoria). Spiego come risolvere?"
   ]
  },
  {
   "cell_type": "markdown",
   "metadata": {},
   "source": [
    "Equivalenza con Item-item collaborative filtering: similarity matrix risulta uguale nelle dimensioni, possibile fare ibridi"
   ]
  },
  {
   "cell_type": "markdown",
   "metadata": {},
   "source": [
    "#### Difference between $P^3_\\alpha$ and $RP^3_\\beta$\n",
    "\n",
    "... Rispiegone"
   ]
  },
  {
   "cell_type": "markdown",
   "metadata": {},
   "source": [
    "### Adding Content Metadata to the Mix\n",
    "\n",
    "*Tripartite graph*: users, items, metadata\n",
    "\n",
    "#### How do Random Walks change?\n",
    "\n",
    "Spiegone"
   ]
  },
  {
   "cell_type": "markdown",
   "metadata": {},
   "source": [
    "#### Illustrative Example\n",
    "\n",
    "Let's restart from our little graph from before, adding 4 metadata \"tags\":$$\\begin{bmatrix}0 & 0 & 1 & 0 & 1 & 0 & 1 & 0 & 0\\\\ 0 & 0 & 1 & 1 & 0 & 1 & 0 & 0 & 0 \\\\ 1 & 1 & 0 & 0 & 0 & 0 & 0 & 1 & 1 \\\\ 0 & 1 & 0 & 0 & 0 & 0 & 0 & 1 & 0 \\\\ 1 & 0 & 0 & 0 & 0 & 0 & 0 & 0 & 1 \\\\ 0 & 1 & 0 & 0 & 0 & 0 & 0 & 0 & 0 \\\\ 1 & 0 & 0 & 0 & 0 & 0 & 0 & 0 & 0 \\\\ 0 & 0 & 0 & 1 & 0 & 0 & 0 & 0 & 0 \\\\ 0 & 0 & 1 & 0 & 1 & 0 & 0 & 0& 0\\end{bmatrix}.$$\n",
    "\n",
    "[image] <- NO: mostra come attaccare la ICM nella matrice di adiacenza e usare i modelli del framework direttamente"
   ]
  },
  {
   "cell_type": "code",
   "execution_count": 25,
   "metadata": {},
   "outputs": [],
   "source": [
    "ICM_genres = data_loaded.get_loaded_ICM_dict()[\"ICM_genres\"]"
   ]
  },
  {
   "cell_type": "code",
   "execution_count": 35,
   "metadata": {},
   "outputs": [
    {
     "name": "stdout",
     "output_type": "stream",
     "text": [
      "RP3betaRecommender: URM Detected 33 ( 0.3%) items with no interactions.\n",
      "RP3betaRecommender: Similarity column 10681 (100.0%), 1755.37 column/sec. Elapsed time 6.08 sec\n",
      "RP3betaRecommender: Similarity column 10681 (100.0%), 7148.91 column/sec. Elapsed time 1.49 sec\n",
      "ItemKNNCustomSimilarityRecommender: URM Detected 33 ( 0.3%) items with no interactions.\n",
      "EvaluatorHoldout: Ignoring 87 ( 0.1%) Users that have less than 1 test interactions\n",
      "EvaluatorHoldout: Processed 69791 (100.0%) in 14.91 sec. Users per second: 4681\n"
     ]
    },
    {
     "data": {
      "text/html": [
       "<div>\n",
       "<style scoped>\n",
       "    .dataframe tbody tr th:only-of-type {\n",
       "        vertical-align: middle;\n",
       "    }\n",
       "\n",
       "    .dataframe tbody tr th {\n",
       "        vertical-align: top;\n",
       "    }\n",
       "\n",
       "    .dataframe thead th {\n",
       "        text-align: right;\n",
       "    }\n",
       "</style>\n",
       "<table border=\"1\" class=\"dataframe\">\n",
       "  <thead>\n",
       "    <tr style=\"text-align: right;\">\n",
       "      <th></th>\n",
       "      <th>PRECISION</th>\n",
       "      <th>PRECISION_RECALL_MIN_DEN</th>\n",
       "      <th>RECALL</th>\n",
       "      <th>MAP</th>\n",
       "      <th>MAP_MIN_DEN</th>\n",
       "      <th>MRR</th>\n",
       "      <th>NDCG</th>\n",
       "      <th>F1</th>\n",
       "      <th>HIT_RATE</th>\n",
       "      <th>ARHR_ALL_HITS</th>\n",
       "      <th>...</th>\n",
       "      <th>COVERAGE_USER</th>\n",
       "      <th>COVERAGE_USER_HIT</th>\n",
       "      <th>USERS_IN_GT</th>\n",
       "      <th>DIVERSITY_GINI</th>\n",
       "      <th>SHANNON_ENTROPY</th>\n",
       "      <th>RATIO_DIVERSITY_HERFINDAHL</th>\n",
       "      <th>RATIO_DIVERSITY_GINI</th>\n",
       "      <th>RATIO_SHANNON_ENTROPY</th>\n",
       "      <th>RATIO_AVERAGE_POPULARITY</th>\n",
       "      <th>RATIO_NOVELTY</th>\n",
       "    </tr>\n",
       "    <tr>\n",
       "      <th>cutoff</th>\n",
       "      <th></th>\n",
       "      <th></th>\n",
       "      <th></th>\n",
       "      <th></th>\n",
       "      <th></th>\n",
       "      <th></th>\n",
       "      <th></th>\n",
       "      <th></th>\n",
       "      <th></th>\n",
       "      <th></th>\n",
       "      <th></th>\n",
       "      <th></th>\n",
       "      <th></th>\n",
       "      <th></th>\n",
       "      <th></th>\n",
       "      <th></th>\n",
       "      <th></th>\n",
       "      <th></th>\n",
       "      <th></th>\n",
       "      <th></th>\n",
       "      <th></th>\n",
       "    </tr>\n",
       "  </thead>\n",
       "  <tbody>\n",
       "    <tr>\n",
       "      <th>10</th>\n",
       "      <td>0.302068</td>\n",
       "      <td>0.345518</td>\n",
       "      <td>0.191351</td>\n",
       "      <td>0.217241</td>\n",
       "      <td>0.241384</td>\n",
       "      <td>0.604301</td>\n",
       "      <td>0.293275</td>\n",
       "      <td>0.234288</td>\n",
       "      <td>0.841584</td>\n",
       "      <td>1.096799</td>\n",
       "      <td>...</td>\n",
       "      <td>0.998755</td>\n",
       "      <td>0.840536</td>\n",
       "      <td>0.998755</td>\n",
       "      <td>0.011577</td>\n",
       "      <td>7.066748</td>\n",
       "      <td>0.986683</td>\n",
       "      <td>0.059455</td>\n",
       "      <td>0.623998</td>\n",
       "      <td>2.085273</td>\n",
       "      <td>0.070008</td>\n",
       "    </tr>\n",
       "  </tbody>\n",
       "</table>\n",
       "<p>1 rows × 27 columns</p>\n",
       "</div>"
      ],
      "text/plain": [
       "       PRECISION PRECISION_RECALL_MIN_DEN    RECALL       MAP MAP_MIN_DEN  \\\n",
       "cutoff                                                                      \n",
       "10      0.302068                 0.345518  0.191351  0.217241    0.241384   \n",
       "\n",
       "             MRR      NDCG        F1  HIT_RATE ARHR_ALL_HITS  ...  \\\n",
       "cutoff                                                        ...   \n",
       "10      0.604301  0.293275  0.234288  0.841584      1.096799  ...   \n",
       "\n",
       "       COVERAGE_USER COVERAGE_USER_HIT USERS_IN_GT DIVERSITY_GINI  \\\n",
       "cutoff                                                              \n",
       "10          0.998755          0.840536    0.998755       0.011577   \n",
       "\n",
       "       SHANNON_ENTROPY RATIO_DIVERSITY_HERFINDAHL RATIO_DIVERSITY_GINI  \\\n",
       "cutoff                                                                   \n",
       "10            7.066748                   0.986683             0.059455   \n",
       "\n",
       "       RATIO_SHANNON_ENTROPY RATIO_AVERAGE_POPULARITY RATIO_NOVELTY  \n",
       "cutoff                                                               \n",
       "10                  0.623998                 2.085273      0.070008  \n",
       "\n",
       "[1 rows x 27 columns]"
      ]
     },
     "execution_count": 35,
     "metadata": {},
     "output_type": "execute_result"
    }
   ],
   "source": [
    "from Recommenders.GraphBased.RP3betaRecommender import RP3betaRecommender\n",
    "from Recommenders.KNN.ItemKNNCustomSimilarityRecommender import ItemKNNCustomSimilarityRecommender\n",
    "from Evaluation.Evaluator import EvaluatorHoldout\n",
    "\n",
    "icm_weight = 0.5 # <- tunable hyperparameter\n",
    "\n",
    "# Train graph-based recommender\n",
    "# U -> I -> [U -> I] <-- normal RP3beta\n",
    "u_i_recommender = RP3betaRecommender(URM_train_val)\n",
    "u_i_recommender.fit(alpha=0.5, beta=0.3, implicit=True)\n",
    "\n",
    "# U -> I -> [A -> I] <-- tag-based RP3beta\n",
    "a_i_recommender = RP3betaRecommender(ICM_genres.T)\n",
    "a_i_recommender.fit(alpha=0.5, beta=0.3)\n",
    "\n",
    "custom_similarity = u_i_recommender.W_sparse + icm_weight * a_i_recommender.W_sparse # <- additionally, you could try normalizations\n",
    "\n",
    "# Hybrid similarity recommender\n",
    "recommender = ItemKNNCustomSimilarityRecommender(URM_train_val)\n",
    "recommender.fit(custom_similarity)\n",
    "\n",
    "evaluator_test = EvaluatorHoldout(URM_test, [10])\n",
    "\n",
    "result_df_hybrid, _ = evaluator_test.evaluateRecommender(recommender)\n",
    "result_df_hybrid"
   ]
  },
  {
   "cell_type": "markdown",
   "metadata": {},
   "source": [
    "È possibile attaccare i metadati col framework? Nel caso, mostragli come."
   ]
  },
  {
   "cell_type": "markdown",
   "metadata": {},
   "source": [
    "- Part 1: generic structure of a graph\n",
    "    - Nodes\n",
    "    - Edges\n",
    "    - (E.g. : Gif of my knowledge graph on Obsidian)\n",
    "    - Notation: chart OR adjacency matrix OR adjacency lists\n",
    "        - Adjacency matrices: node2node OR node2edge\n",
    "            - For our purpose, we use node2node adjacency matrices\n",
    "- Part 2: graphs in recommendation\n",
    "    - Nodes: users, items\n",
    "    - Edges: interactions\n",
    "    - Bipartite graph: we can distinguish 2 classes of nodes, with edges only connecting nodes of class 1 to nodes of class 2 and vice-versa. No inter-class connections\n",
    "        - Adjacency matrix of a graph of interactions: URM!\n",
    "            - `G = [[[0][URM]], [[URM*], [0]]]`\n",
    "    - Path: sequence of connected nodes that starts with node A and ends with node B\n",
    "        - Recommendation idea: we can use paths as collaborative signals\n",
    "- Part 3: random walks\n",
    "    - Recap on mathematics (from textbook)\n",
    "    - Illustrative example (from slides)\n",
    "- Part 4: $P^3$, $P^3_\\alpha$, $RP^3_\\beta$\n",
    "    - $P^3$: 3-step random walks\n",
    "        - Theory recap (from textbook, don't explain)\n",
    "        - Illustrative example (from slides)\n",
    "    - $P^3_\\alpha$: add an exponent\n",
    "        - Theory recap (from textbook, don't explain)\n",
    "        - Illustrative example (from slides)\n",
    "    - $RP^3_\\beta$: ...\n",
    "        - Theory recap (from textbook, don't explain)\n",
    "        - How to use (from framework), strong baseline! Good for hybrids\n",
    "- Part 5: Adding item metadata, tripartite graph\n",
    "    - Theory recap (from slides)\n",
    "    - Illustrative example with $P^3$"
   ]
  }
 ],
 "metadata": {
  "kernelspec": {
   "display_name": "RSFramework",
   "language": "python",
   "name": "python3"
  },
  "language_info": {
   "codemirror_mode": {
    "name": "ipython",
    "version": 3
   },
   "file_extension": ".py",
   "mimetype": "text/x-python",
   "name": "python",
   "nbconvert_exporter": "python",
   "pygments_lexer": "ipython3",
   "version": "3.9.7"
  }
 },
 "nbformat": 4,
 "nbformat_minor": 2
}
