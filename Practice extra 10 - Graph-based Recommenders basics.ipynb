{
 "cells": [
  {
   "cell_type": "markdown",
   "metadata": {},
   "source": [
    "# Recommender Systems 2024/25"
   ]
  },
  {
   "cell_type": "markdown",
   "metadata": {},
   "source": [
    "### Practice 7 – Graph-based Models"
   ]
  },
  {
   "cell_type": "markdown",
   "metadata": {
    "vscode": {
     "languageId": "plaintext"
    }
   },
   "source": [
    "## Graph-based Recommenders"
   ]
  },
  {
   "cell_type": "markdown",
   "metadata": {},
   "source": [
    "### What is a Graph?\n",
    "\n",
    "In layman terms, a graph is a set of **interconnected entities**. Each entity is represented by a *node*, while the connections are called *edges*. Thus, mathematically speaking, a graph $G \\in \\mathbb{R}^{n\\times n}$ can be represented as two sets, $N$ (nodes) and $E$ (edges).$$G = (N,E) \\\\ N = \\{x_i | i \\in [1, |N|]_{\\mathbb{N}}\\} \\\\ E = \\{\\{x_i, x_j\\} | x_i,x_j \\in N\\}$$"
   ]
  },
  {
   "cell_type": "markdown",
   "metadata": {},
   "source": [
    "### Graph Notation\n",
    "\n",
    "#### Graph Chart\n",
    "\n",
    "Nodes are usually represented graphically as circles, with lines (=edges) connecting one another\n",
    "\n",
    "[GIF Here]\n",
    "\n",
    "#### Adjacency Lists\n",
    "\n",
    "For each node in the graph, its adjacency list contains all nodes it is connected to. Pros: easily readable, cons: redundant\n",
    "\n",
    "```python\n",
    "G = {\n",
    "    \"n1\" : [\"n2\", \"n3\", \"n5\"],\n",
    "    \"n2\" : [\"n1\", \"n4\"],\n",
    "    \"n3\" : [\"n1\", \"n5\"],\n",
    "    \"n4\" : [\"n2\"],\n",
    "    \"n5\" : [\"n1\", \"n3\"]\n",
    "}\n",
    "```\n",
    "\n",
    "#### Adjacency Matrices\n",
    "\n",
    "##### Node-2-Edge\n",
    "\n",
    "...\n",
    "\n",
    "##### Node-2-Node\n",
    "\n",
    "..."
   ]
  },
  {
   "cell_type": "markdown",
   "metadata": {},
   "source": [
    "- Part 1: generic structure of a graph\n",
    "    - Nodes\n",
    "    - Edges\n",
    "    - (E.g. : Gif of my knowledge graph on Obsidian)\n",
    "    - Notation: chart OR adjacency matrix OR adjacency lists\n",
    "        - Adjacency matrices: node2node OR node2edge\n",
    "            - For our purpose, we use node2node adjacency matrices\n",
    "- Part 2: graphs in recommendation\n",
    "    - Nodes: users, items\n",
    "    - Edges: interactions\n",
    "    - Bipartite graph: we can distinguish 2 classes of nodes, with edges only connecting nodes of class 1 to nodes of class 2 and vice-versa. No inter-class connections\n",
    "        - Adjacency matrix of a graph of interactions: URM!\n",
    "            - `G = [[[0][URM]], [[URM*], [0]]]`\n",
    "    - Path: sequence of connected nodes that starts with node A and ends with node B\n",
    "        - Recommendation idea: we can use paths as collaborative signals\n",
    "- Part 3: random walks\n",
    "    - Recap on mathematics (from textbook)\n",
    "    - Illustrative example (from slides)\n",
    "- Part 4: $P^3$, $P^3_\\alpha$, $RP^3_\\beta$\n",
    "    - $P^3$: 3-step random walks\n",
    "        - Theory recap (from textbook, don't explain)\n",
    "        - Illustrative example (from slides)\n",
    "    - $P^3_\\alpha$: add an exponent\n",
    "        - Theory recap (from textbook, don't explain)\n",
    "        - Illustrative example (from slides)\n",
    "    - $RP^3_\\beta$: ...\n",
    "        - Theory recap (from textbook, don't explain)\n",
    "        - How to use (from framework), strong baseline! Good for hybrids\n",
    "- Part 5: Adding item metadata, tripartite graph\n",
    "    - Theory recap (from slides)\n",
    "    - Illustrative example with $P^3$"
   ]
  }
 ],
 "metadata": {
  "language_info": {
   "name": "python"
  }
 },
 "nbformat": 4,
 "nbformat_minor": 2
}
