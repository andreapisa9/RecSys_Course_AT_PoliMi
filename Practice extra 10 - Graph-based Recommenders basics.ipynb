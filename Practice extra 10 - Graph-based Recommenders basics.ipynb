{
 "cells": [
  {
   "cell_type": "markdown",
   "metadata": {},
   "source": [
    "# Recommender Systems 2024/25"
   ]
  },
  {
   "cell_type": "markdown",
   "metadata": {},
   "source": [
    "### Practice 7 – Graph-based Models"
   ]
  },
  {
   "cell_type": "markdown",
   "metadata": {
    "vscode": {
     "languageId": "plaintext"
    }
   },
   "source": [
    "## Graph-based Recommenders"
   ]
  },
  {
   "cell_type": "markdown",
   "metadata": {},
   "source": [
    "### What is a Graph?\n",
    "\n",
    "In layman terms, a graph is a set of **interconnected entities**. Each entity is represented by a *node*, while the connections are called *edges*. Thus, mathematically speaking, a graph $G \\in \\mathbb{R}^{n\\times n}$ can be represented as two sets, $N$ (nodes) and $E$ (edges).$$G = (N,E) \\\\ N = \\{x_i | i \\in [1, |N|]_{\\mathbb{N}}\\} \\\\ E = \\{\\{x_i, x_j\\} | x_i,x_j \\in N\\}$$"
   ]
  },
  {
   "cell_type": "markdown",
   "metadata": {},
   "source": [
    "### Graph Notation\n",
    "\n",
    "#### Graph Chart\n",
    "\n",
    "Nodes are usually represented graphically as circles, with lines (=edges) connecting one another"
   ]
  },
  {
   "cell_type": "code",
   "execution_count": 1,
   "metadata": {},
   "outputs": [
    {
     "name": "stdout",
     "output_type": "stream",
     "text": [
      "Requirement already satisfied: plotly in /opt/homebrew/Caskroom/miniconda/base/envs/RSFramework/lib/python3.9/site-packages (5.22.0)\n",
      "Requirement already satisfied: tenacity>=6.2.0 in /opt/homebrew/Caskroom/miniconda/base/envs/RSFramework/lib/python3.9/site-packages (from plotly) (8.2.2)\n",
      "Requirement already satisfied: packaging in /opt/homebrew/Caskroom/miniconda/base/envs/RSFramework/lib/python3.9/site-packages (from plotly) (23.2)\n"
     ]
    }
   ],
   "source": [
    "!pip install plotly"
   ]
  },
  {
   "cell_type": "code",
   "execution_count": 2,
   "metadata": {},
   "outputs": [
    {
     "data": {
      "image/png": "[encoded data removed]",
      "text/plain": [
       "<Figure size 640x480 with 1 Axes>"
      ]
     },
     "metadata": {},
     "output_type": "display_data"
    }
   ],
   "source": [
    "import networkx as nx\n",
    "import plotly.graph_objects as go\n",
    "\n",
    "G = nx.Graph()\n",
    "G.add_nodes_from([1,2,3,4,5])\n",
    "G.add_edges_from([(1,2),(1,3),(1,5),(2,4),(3,5)])\n",
    "\n",
    "nx.draw(G, with_labels=True, node_color=\"green\")"
   ]
  },
  {
   "cell_type": "code",
   "execution_count": 3,
   "metadata": {},
   "outputs": [
    {
     "data": {
      "application/vnd.plotly.v1+json": {
       "config": {
        "plotlyServerURL": "https://plot.ly"
       },
       "data": [
        {
         "hoverinfo": "none",
         "line": {
          "color": "gray",
          "width": 1
         },
         "mode": "lines",
         "type": "scatter",
         "x": [
          0.17223170892373396,
          -0.4621208880797595,
          null,
          0.17223170892373396,
          0.4815025637690908,
          null,
          0.17223170892373396,
          0.8083866153869347,
          null,
          -0.4621208880797595,
          -1,
          null,
          0.4815025637690908,
          0.8083866153869347,
          null
         ],
         "y": [
          0.14182245964404083,
          -0.3809005291150167,
          null,
          0.14182245964404083,
          0.7297644047301326,
          null,
          0.14182245964404083,
          0.33323171860673095,
          null,
          -0.3809005291150167,
          -0.8239180538658878,
          null,
          0.7297644047301326,
          0.33323171860673095,
          null
         ]
        },
        {
         "marker": {
          "color": "blue",
          "size": 25
         },
         "mode": "markers+text",
         "text": [
          "1",
          "2",
          "3",
          "4",
          "5"
         ],
         "textposition": "top center",
         "type": "scatter",
         "x": [
          0.17223170892373396,
          -0.4621208880797595,
          0.4815025637690908,
          -1,
          0.8083866153869347
         ],
         "y": [
          0.14182245964404083,
          -0.3809005291150167,
          0.7297644047301326,
          -0.8239180538658878,
          0.33323171860673095
         ]
        }
       ],
       "layout": {
        "hovermode": "closest",
        "showlegend": false,
        "template": {
         "data": {
          "bar": [
           {
            "error_x": {
             "color": "#2a3f5f"
            },
            "error_y": {
             "color": "#2a3f5f"
            },
            "marker": {
             "line": {
              "color": "#E5ECF6",
              "width": 0.5
             },
             "pattern": {
              "fillmode": "overlay",
              "size": 10,
              "solidity": 0.2
             }
            },
            "type": "bar"
           }
          ],
          "barpolar": [
           {
            "marker": {
             "line": {
              "color": "#E5ECF6",
              "width": 0.5
             },
             "pattern": {
              "fillmode": "overlay",
              "size": 10,
              "solidity": 0.2
             }
            },
            "type": "barpolar"
           }
          ],
          "carpet": [
           {
            "aaxis": {
             "endlinecolor": "#2a3f5f",
             "gridcolor": "white",
             "linecolor": "white",
             "minorgridcolor": "white",
             "startlinecolor": "#2a3f5f"
            },
            "baxis": {
             "endlinecolor": "#2a3f5f",
             "gridcolor": "white",
             "linecolor": "white",
             "minorgridcolor": "white",
             "startlinecolor": "#2a3f5f"
            },
            "type": "carpet"
           }
          ],
          "choropleth": [
           {
            "colorbar": {
             "outlinewidth": 0,
             "ticks": ""
            },
            "type": "choropleth"
           }
          ],
          "contour": [
           {
            "colorbar": {
             "outlinewidth": 0,
             "ticks": ""
            },
            "colorscale": [
             [
              0,
              "#0d0887"
             ],
             [
              0.1111111111111111,
              "#46039f"
             ],
             [
              0.2222222222222222,
              "#7201a8"
             ],
             [
              0.3333333333333333,
              "#9c179e"
             ],
             [
              0.4444444444444444,
              "#bd3786"
             ],
             [
              0.5555555555555556,
              "#d8576b"
             ],
             [
              0.6666666666666666,
              "#ed7953"
             ],
             [
              0.7777777777777778,
              "#fb9f3a"
             ],
             [
              0.8888888888888888,
              "#fdca26"
             ],
             [
              1,
              "#f0f921"
             ]
            ],
            "type": "contour"
           }
          ],
          "contourcarpet": [
           {
            "colorbar": {
             "outlinewidth": 0,
             "ticks": ""
            },
            "type": "contourcarpet"
           }
          ],
          "heatmap": [
           {
            "colorbar": {
             "outlinewidth": 0,
             "ticks": ""
            },
            "colorscale": [
             [
              0,
              "#0d0887"
             ],
             [
              0.1111111111111111,
              "#46039f"
             ],
             [
              0.2222222222222222,
              "#7201a8"
             ],
             [
              0.3333333333333333,
              "#9c179e"
             ],
             [
              0.4444444444444444,
              "#bd3786"
             ],
             [
              0.5555555555555556,
              "#d8576b"
             ],
             [
              0.6666666666666666,
              "#ed7953"
             ],
             [
              0.7777777777777778,
              "#fb9f3a"
             ],
             [
              0.8888888888888888,
              "#fdca26"
             ],
             [
              1,
              "#f0f921"
             ]
            ],
            "type": "heatmap"
           }
          ],
          "heatmapgl": [
           {
            "colorbar": {
             "outlinewidth": 0,
             "ticks": ""
            },
            "colorscale": [
             [
              0,
              "#0d0887"
             ],
             [
              0.1111111111111111,
              "#46039f"
             ],
             [
              0.2222222222222222,
              "#7201a8"
             ],
             [
              0.3333333333333333,
              "#9c179e"
             ],
             [
              0.4444444444444444,
              "#bd3786"
             ],
             [
              0.5555555555555556,
              "#d8576b"
             ],
             [
              0.6666666666666666,
              "#ed7953"
             ],
             [
              0.7777777777777778,
              "#fb9f3a"
             ],
             [
              0.8888888888888888,
              "#fdca26"
             ],
             [
              1,
              "#f0f921"
             ]
            ],
            "type": "heatmapgl"
           }
          ],
          "histogram": [
           {
            "marker": {
             "pattern": {
              "fillmode": "overlay",
              "size": 10,
              "solidity": 0.2
             }
            },
            "type": "histogram"
           }
          ],
          "histogram2d": [
           {
            "colorbar": {
             "outlinewidth": 0,
             "ticks": ""
            },
            "colorscale": [
             [
              0,
              "#0d0887"
             ],
             [
              0.1111111111111111,
              "#46039f"
             ],
             [
              0.2222222222222222,
              "#7201a8"
             ],
             [
              0.3333333333333333,
              "#9c179e"
             ],
             [
              0.4444444444444444,
              "#bd3786"
             ],
             [
              0.5555555555555556,
              "#d8576b"
             ],
             [
              0.6666666666666666,
              "#ed7953"
             ],
             [
              0.7777777777777778,
              "#fb9f3a"
             ],
             [
              0.8888888888888888,
              "#fdca26"
             ],
             [
              1,
              "#f0f921"
             ]
            ],
            "type": "histogram2d"
           }
          ],
          "histogram2dcontour": [
           {
            "colorbar": {
             "outlinewidth": 0,
             "ticks": ""
            },
            "colorscale": [
             [
              0,
              "#0d0887"
             ],
             [
              0.1111111111111111,
              "#46039f"
             ],
             [
              0.2222222222222222,
              "#7201a8"
             ],
             [
              0.3333333333333333,
              "#9c179e"
             ],
             [
              0.4444444444444444,
              "#bd3786"
             ],
             [
              0.5555555555555556,
              "#d8576b"
             ],
             [
              0.6666666666666666,
              "#ed7953"
             ],
             [
              0.7777777777777778,
              "#fb9f3a"
             ],
             [
              0.8888888888888888,
              "#fdca26"
             ],
             [
              1,
              "#f0f921"
             ]
            ],
            "type": "histogram2dcontour"
           }
          ],
          "mesh3d": [
           {
            "colorbar": {
             "outlinewidth": 0,
             "ticks": ""
            },
            "type": "mesh3d"
           }
          ],
          "parcoords": [
           {
            "line": {
             "colorbar": {
              "outlinewidth": 0,
              "ticks": ""
             }
            },
            "type": "parcoords"
           }
          ],
          "pie": [
           {
            "automargin": true,
            "type": "pie"
           }
          ],
          "scatter": [
           {
            "fillpattern": {
             "fillmode": "overlay",
             "size": 10,
             "solidity": 0.2
            },
            "type": "scatter"
           }
          ],
          "scatter3d": [
           {
            "line": {
             "colorbar": {
              "outlinewidth": 0,
              "ticks": ""
             }
            },
            "marker": {
             "colorbar": {
              "outlinewidth": 0,
              "ticks": ""
             }
            },
            "type": "scatter3d"
           }
          ],
          "scattercarpet": [
           {
            "marker": {
             "colorbar": {
              "outlinewidth": 0,
              "ticks": ""
             }
            },
            "type": "scattercarpet"
           }
          ],
          "scattergeo": [
           {
            "marker": {
             "colorbar": {
              "outlinewidth": 0,
              "ticks": ""
             }
            },
            "type": "scattergeo"
           }
          ],
          "scattergl": [
           {
            "marker": {
             "colorbar": {
              "outlinewidth": 0,
              "ticks": ""
             }
            },
            "type": "scattergl"
           }
          ],
          "scattermapbox": [
           {
            "marker": {
             "colorbar": {
              "outlinewidth": 0,
              "ticks": ""
             }
            },
            "type": "scattermapbox"
           }
          ],
          "scatterpolar": [
           {
            "marker": {
             "colorbar": {
              "outlinewidth": 0,
              "ticks": ""
             }
            },
            "type": "scatterpolar"
           }
          ],
          "scatterpolargl": [
           {
            "marker": {
             "colorbar": {
              "outlinewidth": 0,
              "ticks": ""
             }
            },
            "type": "scatterpolargl"
           }
          ],
          "scatterternary": [
           {
            "marker": {
             "colorbar": {
              "outlinewidth": 0,
              "ticks": ""
             }
            },
            "type": "scatterternary"
           }
          ],
          "surface": [
           {
            "colorbar": {
             "outlinewidth": 0,
             "ticks": ""
            },
            "colorscale": [
             [
              0,
              "#0d0887"
             ],
             [
              0.1111111111111111,
              "#46039f"
             ],
             [
              0.2222222222222222,
              "#7201a8"
             ],
             [
              0.3333333333333333,
              "#9c179e"
             ],
             [
              0.4444444444444444,
              "#bd3786"
             ],
             [
              0.5555555555555556,
              "#d8576b"
             ],
             [
              0.6666666666666666,
              "#ed7953"
             ],
             [
              0.7777777777777778,
              "#fb9f3a"
             ],
             [
              0.8888888888888888,
              "#fdca26"
             ],
             [
              1,
              "#f0f921"
             ]
            ],
            "type": "surface"
           }
          ],
          "table": [
           {
            "cells": {
             "fill": {
              "color": "#EBF0F8"
             },
             "line": {
              "color": "white"
             }
            },
            "header": {
             "fill": {
              "color": "#C8D4E3"
             },
             "line": {
              "color": "white"
             }
            },
            "type": "table"
           }
          ]
         },
         "layout": {
          "annotationdefaults": {
           "arrowcolor": "#2a3f5f",
           "arrowhead": 0,
           "arrowwidth": 1
          },
          "autotypenumbers": "strict",
          "coloraxis": {
           "colorbar": {
            "outlinewidth": 0,
            "ticks": ""
           }
          },
          "colorscale": {
           "diverging": [
            [
             0,
             "#8e0152"
            ],
            [
             0.1,
             "#c51b7d"
            ],
            [
             0.2,
             "#de77ae"
            ],
            [
             0.3,
             "#f1b6da"
            ],
            [
             0.4,
             "#fde0ef"
            ],
            [
             0.5,
             "#f7f7f7"
            ],
            [
             0.6,
             "#e6f5d0"
            ],
            [
             0.7,
             "#b8e186"
            ],
            [
             0.8,
             "#7fbc41"
            ],
            [
             0.9,
             "#4d9221"
            ],
            [
             1,
             "#276419"
            ]
           ],
           "sequential": [
            [
             0,
             "#0d0887"
            ],
            [
             0.1111111111111111,
             "#46039f"
            ],
            [
             0.2222222222222222,
             "#7201a8"
            ],
            [
             0.3333333333333333,
             "#9c179e"
            ],
            [
             0.4444444444444444,
             "#bd3786"
            ],
            [
             0.5555555555555556,
             "#d8576b"
            ],
            [
             0.6666666666666666,
             "#ed7953"
            ],
            [
             0.7777777777777778,
             "#fb9f3a"
            ],
            [
             0.8888888888888888,
             "#fdca26"
            ],
            [
             1,
             "#f0f921"
            ]
           ],
           "sequentialminus": [
            [
             0,
             "#0d0887"
            ],
            [
             0.1111111111111111,
             "#46039f"
            ],
            [
             0.2222222222222222,
             "#7201a8"
            ],
            [
             0.3333333333333333,
             "#9c179e"
            ],
            [
             0.4444444444444444,
             "#bd3786"
            ],
            [
             0.5555555555555556,
             "#d8576b"
            ],
            [
             0.6666666666666666,
             "#ed7953"
            ],
            [
             0.7777777777777778,
             "#fb9f3a"
            ],
            [
             0.8888888888888888,
             "#fdca26"
            ],
            [
             1,
             "#f0f921"
            ]
           ]
          },
          "colorway": [
           "#636efa",
           "#EF553B",
           "#00cc96",
           "#ab63fa",
           "#FFA15A",
           "#19d3f3",
           "#FF6692",
           "#B6E880",
           "#FF97FF",
           "#FECB52"
          ],
          "font": {
           "color": "#2a3f5f"
          },
          "geo": {
           "bgcolor": "white",
           "lakecolor": "white",
           "landcolor": "#E5ECF6",
           "showlakes": true,
           "showland": true,
           "subunitcolor": "white"
          },
          "hoverlabel": {
           "align": "left"
          },
          "hovermode": "closest",
          "mapbox": {
           "style": "light"
          },
          "paper_bgcolor": "white",
          "plot_bgcolor": "#E5ECF6",
          "polar": {
           "angularaxis": {
            "gridcolor": "white",
            "linecolor": "white",
            "ticks": ""
           },
           "bgcolor": "#E5ECF6",
           "radialaxis": {
            "gridcolor": "white",
            "linecolor": "white",
            "ticks": ""
           }
          },
          "scene": {
           "xaxis": {
            "backgroundcolor": "#E5ECF6",
            "gridcolor": "white",
            "gridwidth": 2,
            "linecolor": "white",
            "showbackground": true,
            "ticks": "",
            "zerolinecolor": "white"
           },
           "yaxis": {
            "backgroundcolor": "#E5ECF6",
            "gridcolor": "white",
            "gridwidth": 2,
            "linecolor": "white",
            "showbackground": true,
            "ticks": "",
            "zerolinecolor": "white"
           },
           "zaxis": {
            "backgroundcolor": "#E5ECF6",
            "gridcolor": "white",
            "gridwidth": 2,
            "linecolor": "white",
            "showbackground": true,
            "ticks": "",
            "zerolinecolor": "white"
           }
          },
          "shapedefaults": {
           "line": {
            "color": "#2a3f5f"
           }
          },
          "ternary": {
           "aaxis": {
            "gridcolor": "white",
            "linecolor": "white",
            "ticks": ""
           },
           "baxis": {
            "gridcolor": "white",
            "linecolor": "white",
            "ticks": ""
           },
           "bgcolor": "#E5ECF6",
           "caxis": {
            "gridcolor": "white",
            "linecolor": "white",
            "ticks": ""
           }
          },
          "title": {
           "x": 0.05
          },
          "xaxis": {
           "automargin": true,
           "gridcolor": "white",
           "linecolor": "white",
           "ticks": "",
           "title": {
            "standoff": 15
           },
           "zerolinecolor": "white",
           "zerolinewidth": 2
          },
          "yaxis": {
           "automargin": true,
           "gridcolor": "white",
           "linecolor": "white",
           "ticks": "",
           "title": {
            "standoff": 15
           },
           "zerolinecolor": "white",
           "zerolinewidth": 2
          }
         }
        },
        "title": {
         "text": "Example Graph"
        }
       }
      }
     },
     "metadata": {},
     "output_type": "display_data"
    }
   ],
   "source": [
    "# Draw a more beautiful, interactive graph\n",
    "\n",
    "def setup_plotly_graph(G : nx.Graph):\n",
    "    pos = nx.spring_layout(G)\n",
    "    edge_x, edge_y = [], []\n",
    "    for edge in G.edges():\n",
    "        x0, y0 = pos[edge[0]]\n",
    "        x1, y1 = pos[edge[1]]\n",
    "        edge_x += [x0, x1, None]\n",
    "        edge_y += [y0, y1, None]\n",
    "\n",
    "    node_x, node_y = zip(*pos.values())\n",
    "\n",
    "    return edge_x, edge_y, node_x, node_y\n",
    "\n",
    "def draw_plotly(G : nx.Graph):\n",
    "    edge_x, edge_y, node_x, node_y = setup_plotly_graph(G)\n",
    "\n",
    "    edge_trace = go.Scatter(x=edge_x, y=edge_y,\n",
    "                            line=dict(width=1, color='gray'),\n",
    "                            hoverinfo='none',\n",
    "                            mode='lines')\n",
    "    node_trace = go.Scatter(x=node_x, y=node_y,\n",
    "                            mode='markers+text',\n",
    "                            marker=dict(size=25, color='blue'),\n",
    "                            text=list(G.nodes),\n",
    "                            textposition=\"top center\")\n",
    "\n",
    "    fig = go.Figure(data=[edge_trace, node_trace],\n",
    "                    layout=go.Layout(title=\"Example Graph\",\n",
    "                                    showlegend=False,\n",
    "                                    hovermode='closest'))\n",
    "    \n",
    "    return fig\n",
    "\n",
    "fig = draw_plotly(G)\n",
    "fig.show()"
   ]
  },
  {
   "cell_type": "markdown",
   "metadata": {},
   "source": [
    "\n",
    "#### Adjacency Lists\n",
    "\n",
    "For each node in the graph, its adjacency list contains all nodes it is connected to. Pros: easily readable, cons: redundant"
   ]
  },
  {
   "cell_type": "code",
   "execution_count": 4,
   "metadata": {},
   "outputs": [
    {
     "name": "stdout",
     "output_type": "stream",
     "text": [
      "1: [2, 3, 5]\n",
      "2: [1, 4]\n",
      "3: [1, 5]\n",
      "4: [2]\n",
      "5: [1, 3]\n"
     ]
    }
   ],
   "source": [
    "for k,v in G.adj.items():\n",
    "    print(\"{}: {}\".format(k, list(v.keys())))"
   ]
  },
  {
   "cell_type": "markdown",
   "metadata": {},
   "source": [
    "#### Adjacency Matrices\n",
    "\n",
    "##### Node-2-Edge"
   ]
  },
  {
   "cell_type": "code",
   "execution_count": 5,
   "metadata": {},
   "outputs": [
    {
     "data": {
      "text/plain": [
       "array([[1, 1, 1, 0, 0],\n",
       "       [1, 0, 0, 1, 0],\n",
       "       [0, 1, 0, 0, 1],\n",
       "       [0, 0, 0, 1, 0],\n",
       "       [0, 0, 1, 0, 1]], dtype=int32)"
      ]
     },
     "execution_count": 5,
     "metadata": {},
     "output_type": "execute_result"
    }
   ],
   "source": [
    "import numpy as np\n",
    "\n",
    "def node_to_edge_adjacency_matrix(G : nx.Graph):\n",
    "    # Get the list of nodes and edges\n",
    "    nodes = list(G.nodes)\n",
    "    edges = [(x[0] - 1,x[1] - 1) for x in list(G.edges)]\n",
    "\n",
    "    # Initialize the node-to-edge adjacency matrix\n",
    "    n = len(nodes)\n",
    "    m = len(edges)\n",
    "    matrix = np.zeros((n, m), dtype=np.int32)\n",
    "\n",
    "    # Populate the matrix\n",
    "    for edge_index, (u, v) in enumerate(edges):\n",
    "        matrix[u, edge_index] = 1\n",
    "        matrix[v, edge_index] = 1\n",
    "\n",
    "    return matrix\n",
    "\n",
    "node_to_edge_adjacency_matrix(G)"
   ]
  },
  {
   "cell_type": "markdown",
   "metadata": {},
   "source": [
    "##### Node-2-Node"
   ]
  },
  {
   "cell_type": "code",
   "execution_count": 6,
   "metadata": {},
   "outputs": [
    {
     "data": {
      "text/plain": [
       "array([[0, 1, 1, 0, 1],\n",
       "       [1, 0, 0, 1, 0],\n",
       "       [1, 0, 0, 0, 1],\n",
       "       [0, 1, 0, 0, 0],\n",
       "       [1, 0, 1, 0, 0]], dtype=int32)"
      ]
     },
     "execution_count": 6,
     "metadata": {},
     "output_type": "execute_result"
    }
   ],
   "source": [
    "a = nx.to_numpy_array(G, dtype=np.int32)\n",
    "a"
   ]
  },
  {
   "cell_type": "markdown",
   "metadata": {},
   "source": [
    "### For our purposes, the most convenient form of graph representation are n2n adjacency matrices."
   ]
  },
  {
   "cell_type": "markdown",
   "metadata": {},
   "source": [
    "### Graphs in Recommendation\n",
    "- Nodes: users, items\n",
    "- Edges: interactions\n",
    "\n",
    "The graph representation of a recommendation scenario is inherently *bipartite*.\n",
    "\n",
    "> **Bipartite Graph**: a graph $G$ is bipartite if its set of nodes $N$ can be divided into two **disjoint** sets of nodes, $N_1$ and $N_2$, such that for every edge $e$ in $G$, $e$ connects a node belonging to $N_1$ to a node in $N_2$ or vice versa, thus there is no inter-set connections among nodes within $N_1$ nor $N_2$.\n",
    "\n",
    "In our case, class $N_1$ is defined by the *user nodes*, and class $N_2$ by *item nodes*, since the edges define user-item interactions.\n",
    "\n",
    "Consequently, the graph's adjacency matrix will **contain the URM**.\n",
    "\n",
    "[image]\n",
    "\n",
    "> **Path**: a sequence of $m + 1$ nodes $n_0 \\rightarrow n_1 \\rightarrow n_2 \\rightarrow ... \\rightarrow n_m$ such that $\\forall i = 1, ..., m, (n_{i-1}, n_{i}) \\in E$.\n",
    "\n",
    "I.e., a *path* is a sequence of connected nodes within a graph. A path will have a starting node $A$ and a destination node $B$. In the context of recommendation, we can think of paths as **collaborative signals**!"
   ]
  },
  {
   "cell_type": "markdown",
   "metadata": {},
   "source": [
    "### Random Walks"
   ]
  },
  {
   "cell_type": "code",
   "execution_count": 7,
   "metadata": {},
   "outputs": [],
   "source": [
    "import time\n",
    "import numpy as np"
   ]
  },
  {
   "cell_type": "markdown",
   "metadata": {},
   "source": [
    "#### Illustrative Example\n",
    "Let's create a graph $G$ with 2 users, 3 items and the following adjacency matrix: $$\\begin{bmatrix}0 & 0 & 1 & 0 & 1 \\\\ 0 & 0 & 1 & 1 & 0 \\\\ 1 & 1 & 0 & 0 & 0 \\\\ 0 & 1 & 0 & 0 & 0 \\\\ 1 & 0 & 0 & 0 & 0\\end{bmatrix}.$$\n",
    "\n",
    "It corresponds to the following schema:"
   ]
  },
  {
   "cell_type": "code",
   "execution_count": 8,
   "metadata": {},
   "outputs": [
    {
     "data": {
      "application/vnd.plotly.v1+json": {
       "config": {
        "plotlyServerURL": "https://plot.ly"
       },
       "data": [
        {
         "hoverinfo": "none",
         "line": {
          "color": "gray",
          "width": 1
         },
         "mode": "lines",
         "type": "scatter",
         "x": [
          0.1435081431126849,
          -0.002262212120493902,
          null,
          0.1435081431126849,
          0.27264304465713424,
          null,
          -0.14518182344920208,
          -0.002262212120493902,
          null,
          -0.14518182344920208,
          -0.26870715220012314,
          null
         ],
         "y": [
          -0.5341191238932719,
          -0.00011384269103903993,
          null,
          -0.5341191238932719,
          -0.998052074366722,
          null,
          0.532285040951033,
          -0.00011384269103903993,
          null,
          0.532285040951033,
          1,
          null
         ]
        },
        {
         "marker": {
          "color": "blue",
          "size": 25
         },
         "mode": "markers+text",
         "text": [
          "0",
          "1",
          "2",
          "3",
          "4"
         ],
         "textposition": "top center",
         "type": "scatter",
         "x": [
          0.1435081431126849,
          -0.14518182344920208,
          -0.002262212120493902,
          -0.26870715220012314,
          0.27264304465713424
         ],
         "y": [
          -0.5341191238932719,
          0.532285040951033,
          -0.00011384269103903993,
          1,
          -0.998052074366722
         ]
        }
       ],
       "layout": {
        "hovermode": "closest",
        "showlegend": false,
        "template": {
         "data": {
          "bar": [
           {
            "error_x": {
             "color": "#2a3f5f"
            },
            "error_y": {
             "color": "#2a3f5f"
            },
            "marker": {
             "line": {
              "color": "#E5ECF6",
              "width": 0.5
             },
             "pattern": {
              "fillmode": "overlay",
              "size": 10,
              "solidity": 0.2
             }
            },
            "type": "bar"
           }
          ],
          "barpolar": [
           {
            "marker": {
             "line": {
              "color": "#E5ECF6",
              "width": 0.5
             },
             "pattern": {
              "fillmode": "overlay",
              "size": 10,
              "solidity": 0.2
             }
            },
            "type": "barpolar"
           }
          ],
          "carpet": [
           {
            "aaxis": {
             "endlinecolor": "#2a3f5f",
             "gridcolor": "white",
             "linecolor": "white",
             "minorgridcolor": "white",
             "startlinecolor": "#2a3f5f"
            },
            "baxis": {
             "endlinecolor": "#2a3f5f",
             "gridcolor": "white",
             "linecolor": "white",
             "minorgridcolor": "white",
             "startlinecolor": "#2a3f5f"
            },
            "type": "carpet"
           }
          ],
          "choropleth": [
           {
            "colorbar": {
             "outlinewidth": 0,
             "ticks": ""
            },
            "type": "choropleth"
           }
          ],
          "contour": [
           {
            "colorbar": {
             "outlinewidth": 0,
             "ticks": ""
            },
            "colorscale": [
             [
              0,
              "#0d0887"
             ],
             [
              0.1111111111111111,
              "#46039f"
             ],
             [
              0.2222222222222222,
              "#7201a8"
             ],
             [
              0.3333333333333333,
              "#9c179e"
             ],
             [
              0.4444444444444444,
              "#bd3786"
             ],
             [
              0.5555555555555556,
              "#d8576b"
             ],
             [
              0.6666666666666666,
              "#ed7953"
             ],
             [
              0.7777777777777778,
              "#fb9f3a"
             ],
             [
              0.8888888888888888,
              "#fdca26"
             ],
             [
              1,
              "#f0f921"
             ]
            ],
            "type": "contour"
           }
          ],
          "contourcarpet": [
           {
            "colorbar": {
             "outlinewidth": 0,
             "ticks": ""
            },
            "type": "contourcarpet"
           }
          ],
          "heatmap": [
           {
            "colorbar": {
             "outlinewidth": 0,
             "ticks": ""
            },
            "colorscale": [
             [
              0,
              "#0d0887"
             ],
             [
              0.1111111111111111,
              "#46039f"
             ],
             [
              0.2222222222222222,
              "#7201a8"
             ],
             [
              0.3333333333333333,
              "#9c179e"
             ],
             [
              0.4444444444444444,
              "#bd3786"
             ],
             [
              0.5555555555555556,
              "#d8576b"
             ],
             [
              0.6666666666666666,
              "#ed7953"
             ],
             [
              0.7777777777777778,
              "#fb9f3a"
             ],
             [
              0.8888888888888888,
              "#fdca26"
             ],
             [
              1,
              "#f0f921"
             ]
            ],
            "type": "heatmap"
           }
          ],
          "heatmapgl": [
           {
            "colorbar": {
             "outlinewidth": 0,
             "ticks": ""
            },
            "colorscale": [
             [
              0,
              "#0d0887"
             ],
             [
              0.1111111111111111,
              "#46039f"
             ],
             [
              0.2222222222222222,
              "#7201a8"
             ],
             [
              0.3333333333333333,
              "#9c179e"
             ],
             [
              0.4444444444444444,
              "#bd3786"
             ],
             [
              0.5555555555555556,
              "#d8576b"
             ],
             [
              0.6666666666666666,
              "#ed7953"
             ],
             [
              0.7777777777777778,
              "#fb9f3a"
             ],
             [
              0.8888888888888888,
              "#fdca26"
             ],
             [
              1,
              "#f0f921"
             ]
            ],
            "type": "heatmapgl"
           }
          ],
          "histogram": [
           {
            "marker": {
             "pattern": {
              "fillmode": "overlay",
              "size": 10,
              "solidity": 0.2
             }
            },
            "type": "histogram"
           }
          ],
          "histogram2d": [
           {
            "colorbar": {
             "outlinewidth": 0,
             "ticks": ""
            },
            "colorscale": [
             [
              0,
              "#0d0887"
             ],
             [
              0.1111111111111111,
              "#46039f"
             ],
             [
              0.2222222222222222,
              "#7201a8"
             ],
             [
              0.3333333333333333,
              "#9c179e"
             ],
             [
              0.4444444444444444,
              "#bd3786"
             ],
             [
              0.5555555555555556,
              "#d8576b"
             ],
             [
              0.6666666666666666,
              "#ed7953"
             ],
             [
              0.7777777777777778,
              "#fb9f3a"
             ],
             [
              0.8888888888888888,
              "#fdca26"
             ],
             [
              1,
              "#f0f921"
             ]
            ],
            "type": "histogram2d"
           }
          ],
          "histogram2dcontour": [
           {
            "colorbar": {
             "outlinewidth": 0,
             "ticks": ""
            },
            "colorscale": [
             [
              0,
              "#0d0887"
             ],
             [
              0.1111111111111111,
              "#46039f"
             ],
             [
              0.2222222222222222,
              "#7201a8"
             ],
             [
              0.3333333333333333,
              "#9c179e"
             ],
             [
              0.4444444444444444,
              "#bd3786"
             ],
             [
              0.5555555555555556,
              "#d8576b"
             ],
             [
              0.6666666666666666,
              "#ed7953"
             ],
             [
              0.7777777777777778,
              "#fb9f3a"
             ],
             [
              0.8888888888888888,
              "#fdca26"
             ],
             [
              1,
              "#f0f921"
             ]
            ],
            "type": "histogram2dcontour"
           }
          ],
          "mesh3d": [
           {
            "colorbar": {
             "outlinewidth": 0,
             "ticks": ""
            },
            "type": "mesh3d"
           }
          ],
          "parcoords": [
           {
            "line": {
             "colorbar": {
              "outlinewidth": 0,
              "ticks": ""
             }
            },
            "type": "parcoords"
           }
          ],
          "pie": [
           {
            "automargin": true,
            "type": "pie"
           }
          ],
          "scatter": [
           {
            "fillpattern": {
             "fillmode": "overlay",
             "size": 10,
             "solidity": 0.2
            },
            "type": "scatter"
           }
          ],
          "scatter3d": [
           {
            "line": {
             "colorbar": {
              "outlinewidth": 0,
              "ticks": ""
             }
            },
            "marker": {
             "colorbar": {
              "outlinewidth": 0,
              "ticks": ""
             }
            },
            "type": "scatter3d"
           }
          ],
          "scattercarpet": [
           {
            "marker": {
             "colorbar": {
              "outlinewidth": 0,
              "ticks": ""
             }
            },
            "type": "scattercarpet"
           }
          ],
          "scattergeo": [
           {
            "marker": {
             "colorbar": {
              "outlinewidth": 0,
              "ticks": ""
             }
            },
            "type": "scattergeo"
           }
          ],
          "scattergl": [
           {
            "marker": {
             "colorbar": {
              "outlinewidth": 0,
              "ticks": ""
             }
            },
            "type": "scattergl"
           }
          ],
          "scattermapbox": [
           {
            "marker": {
             "colorbar": {
              "outlinewidth": 0,
              "ticks": ""
             }
            },
            "type": "scattermapbox"
           }
          ],
          "scatterpolar": [
           {
            "marker": {
             "colorbar": {
              "outlinewidth": 0,
              "ticks": ""
             }
            },
            "type": "scatterpolar"
           }
          ],
          "scatterpolargl": [
           {
            "marker": {
             "colorbar": {
              "outlinewidth": 0,
              "ticks": ""
             }
            },
            "type": "scatterpolargl"
           }
          ],
          "scatterternary": [
           {
            "marker": {
             "colorbar": {
              "outlinewidth": 0,
              "ticks": ""
             }
            },
            "type": "scatterternary"
           }
          ],
          "surface": [
           {
            "colorbar": {
             "outlinewidth": 0,
             "ticks": ""
            },
            "colorscale": [
             [
              0,
              "#0d0887"
             ],
             [
              0.1111111111111111,
              "#46039f"
             ],
             [
              0.2222222222222222,
              "#7201a8"
             ],
             [
              0.3333333333333333,
              "#9c179e"
             ],
             [
              0.4444444444444444,
              "#bd3786"
             ],
             [
              0.5555555555555556,
              "#d8576b"
             ],
             [
              0.6666666666666666,
              "#ed7953"
             ],
             [
              0.7777777777777778,
              "#fb9f3a"
             ],
             [
              0.8888888888888888,
              "#fdca26"
             ],
             [
              1,
              "#f0f921"
             ]
            ],
            "type": "surface"
           }
          ],
          "table": [
           {
            "cells": {
             "fill": {
              "color": "#EBF0F8"
             },
             "line": {
              "color": "white"
             }
            },
            "header": {
             "fill": {
              "color": "#C8D4E3"
             },
             "line": {
              "color": "white"
             }
            },
            "type": "table"
           }
          ]
         },
         "layout": {
          "annotationdefaults": {
           "arrowcolor": "#2a3f5f",
           "arrowhead": 0,
           "arrowwidth": 1
          },
          "autotypenumbers": "strict",
          "coloraxis": {
           "colorbar": {
            "outlinewidth": 0,
            "ticks": ""
           }
          },
          "colorscale": {
           "diverging": [
            [
             0,
             "#8e0152"
            ],
            [
             0.1,
             "#c51b7d"
            ],
            [
             0.2,
             "#de77ae"
            ],
            [
             0.3,
             "#f1b6da"
            ],
            [
             0.4,
             "#fde0ef"
            ],
            [
             0.5,
             "#f7f7f7"
            ],
            [
             0.6,
             "#e6f5d0"
            ],
            [
             0.7,
             "#b8e186"
            ],
            [
             0.8,
             "#7fbc41"
            ],
            [
             0.9,
             "#4d9221"
            ],
            [
             1,
             "#276419"
            ]
           ],
           "sequential": [
            [
             0,
             "#0d0887"
            ],
            [
             0.1111111111111111,
             "#46039f"
            ],
            [
             0.2222222222222222,
             "#7201a8"
            ],
            [
             0.3333333333333333,
             "#9c179e"
            ],
            [
             0.4444444444444444,
             "#bd3786"
            ],
            [
             0.5555555555555556,
             "#d8576b"
            ],
            [
             0.6666666666666666,
             "#ed7953"
            ],
            [
             0.7777777777777778,
             "#fb9f3a"
            ],
            [
             0.8888888888888888,
             "#fdca26"
            ],
            [
             1,
             "#f0f921"
            ]
           ],
           "sequentialminus": [
            [
             0,
             "#0d0887"
            ],
            [
             0.1111111111111111,
             "#46039f"
            ],
            [
             0.2222222222222222,
             "#7201a8"
            ],
            [
             0.3333333333333333,
             "#9c179e"
            ],
            [
             0.4444444444444444,
             "#bd3786"
            ],
            [
             0.5555555555555556,
             "#d8576b"
            ],
            [
             0.6666666666666666,
             "#ed7953"
            ],
            [
             0.7777777777777778,
             "#fb9f3a"
            ],
            [
             0.8888888888888888,
             "#fdca26"
            ],
            [
             1,
             "#f0f921"
            ]
           ]
          },
          "colorway": [
           "#636efa",
           "#EF553B",
           "#00cc96",
           "#ab63fa",
           "#FFA15A",
           "#19d3f3",
           "#FF6692",
           "#B6E880",
           "#FF97FF",
           "#FECB52"
          ],
          "font": {
           "color": "#2a3f5f"
          },
          "geo": {
           "bgcolor": "white",
           "lakecolor": "white",
           "landcolor": "#E5ECF6",
           "showlakes": true,
           "showland": true,
           "subunitcolor": "white"
          },
          "hoverlabel": {
           "align": "left"
          },
          "hovermode": "closest",
          "mapbox": {
           "style": "light"
          },
          "paper_bgcolor": "white",
          "plot_bgcolor": "#E5ECF6",
          "polar": {
           "angularaxis": {
            "gridcolor": "white",
            "linecolor": "white",
            "ticks": ""
           },
           "bgcolor": "#E5ECF6",
           "radialaxis": {
            "gridcolor": "white",
            "linecolor": "white",
            "ticks": ""
           }
          },
          "scene": {
           "xaxis": {
            "backgroundcolor": "#E5ECF6",
            "gridcolor": "white",
            "gridwidth": 2,
            "linecolor": "white",
            "showbackground": true,
            "ticks": "",
            "zerolinecolor": "white"
           },
           "yaxis": {
            "backgroundcolor": "#E5ECF6",
            "gridcolor": "white",
            "gridwidth": 2,
            "linecolor": "white",
            "showbackground": true,
            "ticks": "",
            "zerolinecolor": "white"
           },
           "zaxis": {
            "backgroundcolor": "#E5ECF6",
            "gridcolor": "white",
            "gridwidth": 2,
            "linecolor": "white",
            "showbackground": true,
            "ticks": "",
            "zerolinecolor": "white"
           }
          },
          "shapedefaults": {
           "line": {
            "color": "#2a3f5f"
           }
          },
          "ternary": {
           "aaxis": {
            "gridcolor": "white",
            "linecolor": "white",
            "ticks": ""
           },
           "baxis": {
            "gridcolor": "white",
            "linecolor": "white",
            "ticks": ""
           },
           "bgcolor": "#E5ECF6",
           "caxis": {
            "gridcolor": "white",
            "linecolor": "white",
            "ticks": ""
           }
          },
          "title": {
           "x": 0.05
          },
          "xaxis": {
           "automargin": true,
           "gridcolor": "white",
           "linecolor": "white",
           "ticks": "",
           "title": {
            "standoff": 15
           },
           "zerolinecolor": "white",
           "zerolinewidth": 2
          },
          "yaxis": {
           "automargin": true,
           "gridcolor": "white",
           "linecolor": "white",
           "ticks": "",
           "title": {
            "standoff": 15
           },
           "zerolinecolor": "white",
           "zerolinewidth": 2
          }
         }
        },
        "title": {
         "text": "Example Graph"
        }
       }
      }
     },
     "metadata": {},
     "output_type": "display_data"
    }
   ],
   "source": [
    "G = nx.from_dict_of_dicts({\n",
    "    0 : {2 : {}, 4 : {}},\n",
    "    1 : {2 : {}, 3 : {}},\n",
    "    2 : {0 : {}, 1 : {}},\n",
    "    3 : {1 : {}},\n",
    "    4 : {0 : {}}\n",
    "})\n",
    "\n",
    "draw_plotly(G)"
   ]
  },
  {
   "cell_type": "code",
   "execution_count": 9,
   "metadata": {},
   "outputs": [
    {
     "data": {
      "text/plain": [
       "array([[0, 0, 1, 0, 1],\n",
       "       [0, 0, 1, 1, 0],\n",
       "       [1, 1, 0, 0, 0],\n",
       "       [0, 1, 0, 0, 0],\n",
       "       [1, 0, 0, 0, 0]], dtype=int32)"
      ]
     },
     "execution_count": 9,
     "metadata": {},
     "output_type": "execute_result"
    }
   ],
   "source": [
    "a = nx.to_numpy_array(G, dtype=np.int32)\n",
    "a"
   ]
  },
  {
   "cell_type": "code",
   "execution_count": 10,
   "metadata": {},
   "outputs": [],
   "source": [
    "# Transition probability function\n",
    "def transition(g : np.ndarray, n0 : int, hops : int):\n",
    "    # initial state\n",
    "    state = np.zeros(g.shape[1], dtype=np.float32)\n",
    "    state[n0] = 1\n",
    "\n",
    "    # compute transition probability matrix (can be done once)\n",
    "    transition_probability_matrix = np.array([x / x.sum().astype(np.float32) for x in g], dtype=np.float32)\n",
    "    # print(transition_probability_matrix)\n",
    "\n",
    "    j = 0\n",
    "    print(\"Hop: 0, state: {}\".format(state))\n",
    "    while j != hops:\n",
    "        state = state.dot(transition_probability_matrix)\n",
    "        print(\"Hop: {}, state: {}\".format(j+1, state))\n",
    "        j += 1\n",
    "    return state"
   ]
  },
  {
   "cell_type": "code",
   "execution_count": 11,
   "metadata": {},
   "outputs": [
    {
     "name": "stdout",
     "output_type": "stream",
     "text": [
      "Hop: 0, state: [1. 0. 0. 0. 0.]\n",
      "Hop: 1, state: [0.  0.  0.5 0.  0.5]\n",
      "Hop: 2, state: [0.75 0.25 0.   0.   0.  ]\n",
      "Hop: 3, state: [0.    0.    0.5   0.125 0.375]\n"
     ]
    },
    {
     "data": {
      "text/plain": [
       "array([0.   , 0.   , 0.5  , 0.125, 0.375], dtype=float32)"
      ]
     },
     "execution_count": 11,
     "metadata": {},
     "output_type": "execute_result"
    }
   ],
   "source": [
    "transition(g=a, n0=0, hops=3)"
   ]
  },
  {
   "cell_type": "markdown",
   "metadata": {},
   "source": [
    "#### Steady State"
   ]
  },
  {
   "cell_type": "code",
   "execution_count": 12,
   "metadata": {},
   "outputs": [
    {
     "name": "stdout",
     "output_type": "stream",
     "text": [
      "Hop: 0, state: [1. 0. 0. 0. 0.]\n",
      "Hop: 1, state: [0.  0.  0.5 0.  0.5]\n",
      "Hop: 2, state: [0.75 0.25 0.   0.   0.  ]\n",
      "Hop: 3, state: [0.    0.    0.5   0.125 0.375]\n",
      "Hop: 4, state: [0.625 0.375 0.    0.    0.   ]\n",
      "Hop: 5, state: [0.     0.     0.5    0.1875 0.3125]\n",
      "Hop: 6, state: [0.5625 0.4375 0.     0.     0.    ]\n",
      "Hop: 7, state: [0.      0.      0.5     0.21875 0.28125]\n",
      "Hop: 8, state: [0.53125 0.46875 0.      0.      0.     ]\n",
      "Hop: 9, state: [0.       0.       0.5      0.234375 0.265625]\n",
      "Hop: 10, state: [0.515625 0.484375 0.       0.       0.      ]\n",
      "Hop: 11, state: [0.        0.        0.5       0.2421875 0.2578125]\n",
      "Hop: 12, state: [0.5078125 0.4921875 0.        0.        0.       ]\n",
      "Hop: 13, state: [0.         0.         0.5        0.24609375 0.25390625]\n",
      "Hop: 14, state: [0.50390625 0.49609375 0.         0.         0.        ]\n",
      "Hop: 15, state: [0.         0.         0.5        0.24804688 0.25195312]\n",
      "Hop: 16, state: [0.5019531  0.49804688 0.         0.         0.        ]\n",
      "Hop: 17, state: [0.         0.         0.5        0.24902344 0.25097656]\n",
      "Hop: 18, state: [0.50097656 0.49902344 0.         0.         0.        ]\n",
      "Hop: 19, state: [0.         0.         0.5        0.24951172 0.25048828]\n",
      "Hop: 20, state: [0.5004883  0.49951172 0.         0.         0.        ]\n",
      "Hop: 21, state: [0.         0.         0.5        0.24975586 0.25024414]\n",
      "Hop: 22, state: [0.50024414 0.49975586 0.         0.         0.        ]\n",
      "Hop: 23, state: [0.         0.         0.5        0.24987793 0.25012207]\n",
      "Hop: 24, state: [0.5001221  0.49987793 0.         0.         0.        ]\n",
      "Hop: 25, state: [0.         0.         0.5        0.24993896 0.25006104]\n",
      "Hop: 26, state: [0.50006104 0.49993896 0.         0.         0.        ]\n",
      "Hop: 27, state: [0.         0.         0.5        0.24996948 0.25003052]\n",
      "Hop: 28, state: [0.5000305  0.49996948 0.         0.         0.        ]\n",
      "Hop: 29, state: [0.         0.         0.5        0.24998474 0.25001526]\n",
      "Hop: 30, state: [0.50001526 0.49998474 0.         0.         0.        ]\n",
      "Hop: 31, state: [0.         0.         0.5        0.24999237 0.25000763]\n",
      "Hop: 32, state: [0.5000076  0.49999237 0.         0.         0.        ]\n",
      "Hop: 33, state: [0.         0.         0.5        0.24999619 0.2500038 ]\n",
      "Hop: 34, state: [0.5000038 0.4999962 0.        0.        0.       ]\n",
      "Hop: 35, state: [0.        0.        0.5       0.2499981 0.2500019]\n",
      "Hop: 36, state: [0.5000019 0.4999981 0.        0.        0.       ]\n",
      "Hop: 37, state: [0.         0.         0.5        0.24999905 0.25000095]\n",
      "Hop: 38, state: [0.50000095 0.49999905 0.         0.         0.        ]\n",
      "Hop: 39, state: [0.         0.         0.5        0.24999952 0.25000048]\n",
      "Hop: 40, state: [0.5000005  0.49999952 0.         0.         0.        ]\n",
      "Hop: 41, state: [0.         0.         0.5        0.24999976 0.25000024]\n",
      "Hop: 42, state: [0.50000024 0.49999976 0.         0.         0.        ]\n",
      "Hop: 43, state: [0.         0.         0.5        0.24999988 0.25000012]\n",
      "Hop: 44, state: [0.5000001  0.49999988 0.         0.         0.        ]\n",
      "Hop: 45, state: [0.         0.         0.5        0.24999994 0.25000006]\n",
      "Hop: 46, state: [0.50000006 0.49999994 0.         0.         0.        ]\n",
      "Hop: 47, state: [0.         0.         0.5        0.24999997 0.25000003]\n",
      "Hop: 48, state: [0.5        0.49999997 0.         0.         0.        ]\n",
      "Hop: 49, state: [0.         0.         0.5        0.24999999 0.25      ]\n",
      "Hop: 50, state: [0.5 0.5 0.  0.  0. ]\n"
     ]
    },
    {
     "data": {
      "text/plain": [
       "array([0.5, 0.5, 0. , 0. , 0. ], dtype=float32)"
      ]
     },
     "execution_count": 12,
     "metadata": {},
     "output_type": "execute_result"
    }
   ],
   "source": [
    "transition(g=a, n0=0, hops=50)"
   ]
  },
  {
   "cell_type": "markdown",
   "metadata": {},
   "source": [
    "### $P^3$, $P^3_\\alpha$, $RP^3_\\beta$"
   ]
  },
  {
   "cell_type": "code",
   "execution_count": 13,
   "metadata": {},
   "outputs": [
    {
     "name": "stdout",
     "output_type": "stream",
     "text": [
      "Movielens10M: Verifying data consistency...\n",
      "Movielens10M: Verifying data consistency... Passed!\n",
      "DataReader: current dataset is: Movielens10M\n",
      "\tNumber of items: 10681\n",
      "\tNumber of users: 69878\n",
      "\tNumber of interactions in URM_all: 10000054\n",
      "\tValue range in URM_all: 0.50-5.00\n",
      "\tInteraction density: 1.34E-02\n",
      "\tInteractions per user:\n",
      "\t\t Min: 2.00E+01\n",
      "\t\t Avg: 1.43E+02\n",
      "\t\t Max: 7.36E+03\n",
      "\tInteractions per item:\n",
      "\t\t Min: 0.00E+00\n",
      "\t\t Avg: 9.36E+02\n",
      "\t\t Max: 3.49E+04\n",
      "\tGini Index: 0.57\n",
      "\n",
      "\tICM name: ICM_tags, Value range: 1.00 / 69.00, Num features: 10106, feature occurrences: 106820, density 9.90E-04\n",
      "\tICM name: ICM_genres, Value range: 1.00 / 1.00, Num features: 20, feature occurrences: 21564, density 1.01E-01\n",
      "\tICM name: ICM_all, Value range: 1.00 / 69.00, Num features: 10126, feature occurrences: 128384, density 1.19E-03\n",
      "\tICM name: ICM_year, Value range: 1.92E+03 / 2.01E+03, Num features: 1, feature occurrences: 10681, density 1.00E+00\n",
      "\n",
      "\n",
      "Warning: 77 (0.11 %) of 69878 users have no sampled items\n",
      "Warning: 241 (0.34 %) of 69878 users have no sampled items\n"
     ]
    }
   ],
   "source": [
    "from Data_manager.split_functions.split_train_validation_random_holdout import split_train_in_two_percentage_global_sample\n",
    "from Data_manager.Movielens.Movielens10MReader import Movielens10MReader\n",
    "\n",
    "data_reader = Movielens10MReader()\n",
    "data_loaded = data_reader.load_data()\n",
    "\n",
    "URM_all = data_loaded.get_URM_all()\n",
    "\n",
    "URM_train_val, URM_test = split_train_in_two_percentage_global_sample(URM_all, 0.8)\n",
    "URM_train, URM_val = split_train_in_two_percentage_global_sample(URM_train_val, 0.8)"
   ]
  },
  {
   "cell_type": "markdown",
   "metadata": {},
   "source": [
    "Spiegone di come segmentare la URM in $P_{ui}$ e $P_{iu}$ e di cosa sono a livello pratico questi due segmenti (= URM normalizzata per righe, URM normalizzata per colonne e trasposta)"
   ]
  },
  {
   "cell_type": "code",
   "execution_count": 14,
   "metadata": {},
   "outputs": [],
   "source": [
    "def transition_matrix(g : np.ndarray, hops : int):\n",
    "    # initial state\n",
    "    state = np.diag(np.ones(g.shape))\n",
    "\n",
    "    # compute transition probability matrix (can be done once)\n",
    "    transition_probability_matrix = np.array([x / x.sum().astype(np.float32) for x in g], dtype=np.float32) # -> this is equivalent to a column-wise l1 normalization\n",
    "    # print(transition_probability_matrix)\n",
    "\n",
    "    j = 0\n",
    "    print(\"Hop: 0, state: {}\".format(state))\n",
    "    while j != hops:\n",
    "        state = state.dot(transition_probability_matrix)\n",
    "        print(\"Hop: {}, state: {}\".format(j+1, state))\n",
    "        j += 1\n",
    "    return state"
   ]
  },
  {
   "cell_type": "code",
   "execution_count": 15,
   "metadata": {},
   "outputs": [],
   "source": [
    "import scipy.sparse as sps\n",
    "\n",
    "class Incremental_Similarity_Builder:\n",
    "    \n",
    "    def __init__(self, matrix_size_0, matrix_size_1, initial_data_block = 10000000, additional_data_block = 10000000, dtype = np.float32):\n",
    "\n",
    "        self._matrix_size = [matrix_size_0, matrix_size_1]\n",
    "        self._initial_data_block = initial_data_block\n",
    "        self._additional_data_block = additional_data_block\n",
    "        self._next_cell_pointer = 0\n",
    "\n",
    "        self._dtype_data = dtype\n",
    "        self._dtype_coordinates = np.uint32\n",
    "        self._max_value_of_coordinate_dtype = np.iinfo(self._dtype_coordinates).max\n",
    "\n",
    "        self._row_array = np.zeros(self._initial_data_block, dtype=self._dtype_coordinates)\n",
    "        self._col_array = np.zeros(self._initial_data_block, dtype=self._dtype_coordinates)\n",
    "        self._data_array = np.zeros(self._initial_data_block, dtype=self._dtype_data)\n",
    "\n",
    "\n",
    "    def add_data_lists(self, row_list_to_add, col_list_to_add, data_list_to_add):\n",
    "\n",
    "        for data_point_index in range(len(row_list_to_add)):\n",
    "\n",
    "            if self._next_cell_pointer == len(self._row_array):\n",
    "                self._row_array = np.concatenate((self._row_array, np.zeros(self._additional_data_block, dtype=self._dtype_coordinates)))\n",
    "                self._col_array = np.concatenate((self._col_array, np.zeros(self._additional_data_block, dtype=self._dtype_coordinates)))\n",
    "                self._data_array = np.concatenate((self._data_array, np.zeros(self._additional_data_block, dtype=self._dtype_data)))\n",
    "\n",
    "            self._row_array[self._next_cell_pointer] = row_list_to_add[data_point_index]\n",
    "            self._col_array[self._next_cell_pointer] = col_list_to_add[data_point_index]\n",
    "            self._data_array[self._next_cell_pointer] = data_list_to_add[data_point_index]\n",
    "\n",
    "            self._next_cell_pointer += 1\n",
    "\n",
    "    def get_SparseMatrix(self):\n",
    "\n",
    "        shape = (self._matrix_size[0], self._matrix_size[1])\n",
    "\n",
    "        sparseMatrix = sps.csr_matrix((self._data_array[:self._next_cell_pointer],\n",
    "                                       (self._row_array[:self._next_cell_pointer], self._col_array[:self._next_cell_pointer])),\n",
    "                                      shape=shape,\n",
    "                                      dtype=self._dtype_data)\n",
    "\n",
    "        sparseMatrix.eliminate_zeros()\n",
    "\n",
    "        return sparseMatrix"
   ]
  },
  {
   "cell_type": "code",
   "execution_count": 16,
   "metadata": {},
   "outputs": [],
   "source": [
    "from Recommenders.Recommender_utils import similarityMatrixTopK\n",
    "from sklearn.preprocessing import normalize\n",
    "\n",
    "def block_mul(matrix_1, matrix_2, block_dim : int = 200, topK = 100, normalize_sim : bool = False):\n",
    "\n",
    "    # only builds SQUARE matrices!! ziopera, need to rebuild\n",
    "    similarity_builder = Incremental_Similarity_Builder(matrix_1.shape[0], matrix_2.shape[1], initial_data_block=matrix_2.shape[1]*topK, dtype = np.float32)\n",
    "\n",
    "    for current_block_start_row in range(0, matrix_1.shape[0], block_dim):\n",
    "\n",
    "        if current_block_start_row + block_dim > matrix_2.shape[1]:\n",
    "            block_dim = matrix_2.shape[1] - current_block_start_row\n",
    "\n",
    "        similarity_block = matrix_1[current_block_start_row:current_block_start_row + block_dim, :] * matrix_2\n",
    "        similarity_block = similarity_block.toarray()\n",
    "\n",
    "        for row_in_block in range(block_dim):\n",
    "            row_data = similarity_block[row_in_block, :]\n",
    "            row_data[current_block_start_row + row_in_block] = 0 # <-- elements on diagonal are set to 0, prevent obvious solution\n",
    "\n",
    "            relevant_items_partition = np.argpartition(-row_data, topK-1, axis=0)[:topK]\n",
    "            row_data = row_data[relevant_items_partition]\n",
    "\n",
    "            # Incrementally build sparse matrix, do not add zeros\n",
    "            if np.any(row_data == 0.0):\n",
    "                non_zero_mask = row_data != 0.0\n",
    "                relevant_items_partition = relevant_items_partition[non_zero_mask]\n",
    "                row_data = row_data[non_zero_mask]\n",
    "\n",
    "            similarity_builder.add_data_lists(row_list_to_add=np.ones(len(row_data), dtype = np.int32) * (current_block_start_row + row_in_block),\n",
    "                                            col_list_to_add=relevant_items_partition,\n",
    "                                            data_list_to_add=row_data)\n",
    "\n",
    "    W_sparse = similarity_builder.get_SparseMatrix()\n",
    "\n",
    "    if normalize_sim:\n",
    "        W_sparse = normalize(W_sparse, norm='l1', axis=1)\n",
    "\n",
    "    if topK and W_sparse.get_shape()[0] == W_sparse.get_shape()[1]:\n",
    "        W_sparse = similarityMatrixTopK(W_sparse, k=topK)\n",
    "\n",
    "    return W_sparse"
   ]
  },
  {
   "cell_type": "code",
   "execution_count": null,
   "metadata": {},
   "outputs": [],
   "source": [
    "# We don't need to compute the full matrix, we just need Pui and Piu which we can compute from the URM\n",
    "def transition_matrix_blocks(URM, hops : int, alpha : float = 1., beta : float = 1., topK : int = 100, extract_similarity : bool = False, normalize_sim : bool = False):\n",
    "\n",
    "    # compute Pui (column-wise l1 norm)\n",
    "    P_ui = normalize(URM, norm='l1', axis=1)\n",
    "\n",
    "    # compute Piu (column-wise l1 norm over TRANSPOSED URM)\n",
    "    t_URM = URM.transpose(copy=True)\n",
    "    t_URM.data = np.ones(t_URM.data.size, np.float32) # <- we binarize: weights, if present, are already in P_ui\n",
    "\n",
    "    if beta != 1. : # RP3beta\n",
    "\n",
    "        t_URM_sum = np.array(t_URM.sum(axis=1)).ravel()\n",
    "        degree = np.zeros(URM.shape[1])\n",
    "\n",
    "        non_zero_mask = (t_URM_sum!=0.0)\n",
    "        degree[non_zero_mask] = np.power(t_URM_sum[non_zero_mask], -beta)\n",
    "\n",
    "    P_iu = normalize(t_URM, norm='l1', axis=1) # <- axis is still 1, because transposition was performed beforehand\n",
    "    del(t_URM) # <- save memory\n",
    "\n",
    "    if alpha != 1. : # P3alpha\n",
    "        P_ui = P_ui.power(alpha)\n",
    "        P_iu = P_iu.power(alpha)\n",
    "\n",
    "    j = 0\n",
    "    state = P_ui # <- doesn't work for hops < 1, but hops < 1 makes no sense \n",
    "\n",
    "    # equivalence to similarity item-based model: extracting sim matrix could be useful for hybrids\n",
    "    sim_matrix = P_iu if extract_similarity else None\n",
    "    \n",
    "    while j != hops:\n",
    "        if not j % 2:\n",
    "            state = block_mul(state, P_iu, topK=topK, normalize_sim=normalize_sim) # state * P_iu\n",
    "            if extract_similarity and (j > 1 and j < hops - 1) :\n",
    "                sim_matrix = block_mul(sim_matrix, P_iu, topK=topK, normalize_sim=normalize_sim) # sim_matrix * P_iu\n",
    "        else:\n",
    "            state = block_mul(state, P_ui, topK=topK, normalize_sim=normalize_sim) # state * P_ui\n",
    "            if extract_similarity and (j >= 1 and j < hops - 1) :\n",
    "                sim_matrix = block_mul(sim_matrix, P_ui, topK=topK, normalize_sim=normalize_sim) # sim_matrix * P_ui\n",
    "        j += 1\n",
    "    \n",
    "    # if beta != 1.:\n",
    "    #     state = state * degree\n",
    "\n",
    "    return state, sim_matrix"
   ]
  },
  {
   "cell_type": "code",
   "execution_count": null,
   "metadata": {},
   "outputs": [],
   "source": [
    "from typing import Optional\n",
    "from Recommenders.BaseRecommender import BaseRecommender\n",
    "\n",
    "class P3Recommender(BaseRecommender):\n",
    "    def __init__(self, URM, topK : int = 100, normalize_sim : bool = False):\n",
    "        super().__init__(URM)\n",
    "        self.topK = topK\n",
    "        self.normalize_sim = normalize_sim\n",
    "\n",
    "    def fit(self):\n",
    "        self.three_step_walk, _ = transition_matrix_blocks(self.URM_train,\n",
    "                                                           3,\n",
    "                                                           topK=self.topK,\n",
    "                                                           normalize_sim=self.normalize_sim,\n",
    "                                                           extract_similarity=False)\n",
    "\n",
    "    def recommend(self, user_id, remove_seen : bool = True, at : Optional[int] = None):\n",
    "        Pi_0 = np.zeros(self.URM_train.shape[0], dtype=np.int32)\n",
    "        Pi_0[user_id] = 1\n",
    "\n",
    "        ranking = self.three_step_walk.dot(Pi_0)\n",
    "\n",
    "        if remove_seen:\n",
    "            user_profile_start = self.URM_train.indptr[user_id]\n",
    "            user_profile_end = self.URM_train.indptr[user_id+1]\n",
    "            \n",
    "            seen_items = self.URM_train.indices[user_profile_start:user_profile_end]\n",
    "            \n",
    "            ranking[seen_items] = -np.inf\n",
    "            \n",
    "        ranking = np.flip(np.argsort(ranking))\n",
    "        return ranking[:at]"
   ]
  },
  {
   "cell_type": "code",
   "execution_count": null,
   "metadata": {},
   "outputs": [],
   "source": [
    "class P3alphaRecommender(BaseRecommender):\n",
    "    def __init__(self, URM, alpha, topK : int = 100, normalize_sim : bool = False, extract_similarity=False):\n",
    "        super().__init__(URM)\n",
    "        self.alpha = alpha\n",
    "        self.topK = topK\n",
    "        self.normalize_sim = normalize_sim\n",
    "        self.extract_similarity = extract_similarity\n",
    "\n",
    "    def fit(self):\n",
    "        self.three_step_walk, self.sim_matrix = transition_matrix_blocks(self.URM_train,\n",
    "                                                                         3,\n",
    "                                                                         self.alpha,\n",
    "                                                                         topK=self.topK,\n",
    "                                                                         extract_similarity=self.extract_similarity,\n",
    "                                                                         normalize_sim=self.normalize_sim) # <- only change wrt P3 is the alpha exponent\n",
    "\n",
    "    def recommend(self, user_id, remove_seen : bool = True, at : Optional[int] = None):\n",
    "        Pi_0 = np.zeros(self.URM_train.shape[0], dtype=np.int32)\n",
    "        Pi_0[user_id] = 1\n",
    "\n",
    "        ranking = self.three_step_walk.dot(Pi_0)\n",
    "\n",
    "        if remove_seen:\n",
    "            user_profile_start = self.URM_train.indptr[user_id]\n",
    "            user_profile_end = self.URM_train.indptr[user_id+1]\n",
    "            \n",
    "            seen_items = self.URM_train.indices[user_profile_start:user_profile_end]\n",
    "            \n",
    "            ranking[seen_items] = -np.inf\n",
    "            \n",
    "        ranking = np.flip(np.argsort(ranking))\n",
    "        return ranking[:at]"
   ]
  },
  {
   "cell_type": "code",
   "execution_count": null,
   "metadata": {},
   "outputs": [],
   "source": [
    "class RP3betaRecommender(BaseRecommender):\n",
    "    def __init__(self, URM, alpha, beta, topK : int = 100, normalize_sim : bool = False):\n",
    "        super().__init__(URM)\n",
    "        self.alpha = alpha\n",
    "        self.beta = beta\n",
    "        self.topK = topK\n",
    "        self.normalize_sim = normalize_sim\n",
    "\n",
    "    def fit(self):\n",
    "        self.three_step_walk, _ = transition_matrix_blocks(self.URM_train,\n",
    "                                                           3,\n",
    "                                                           self.alpha,\n",
    "                                                           self.beta,\n",
    "                                                           topK=self.topK,\n",
    "                                                           normalize_sim=self.normalize_sim,\n",
    "                                                           extract_similarity=False) # <- only change wrt P3alpha is beta\n",
    "\n",
    "    def recommend(self, user_id, remove_seen : bool = True, at : Optional[int] = None):\n",
    "        Pi_0 = np.zeros(self.URM_train.shape[0], dtype=np.int32)\n",
    "        Pi_0[user_id] = 1\n",
    "\n",
    "        ranking = self.three_step_walk.dot(Pi_0)\n",
    "\n",
    "        if remove_seen:\n",
    "            user_profile_start = self.URM_train.indptr[user_id]\n",
    "            user_profile_end = self.URM_train.indptr[user_id+1]\n",
    "            \n",
    "            seen_items = self.URM_train.indices[user_profile_start:user_profile_end]\n",
    "            \n",
    "            ranking[seen_items] = -np.inf\n",
    "            \n",
    "        ranking = np.flip(np.argsort(ranking))\n",
    "        return ranking[:at]"
   ]
  },
  {
   "cell_type": "code",
   "execution_count": 21,
   "metadata": {},
   "outputs": [],
   "source": [
    "def precision(recommended_items, relevant_items):\n",
    "    \n",
    "    is_relevant = np.in1d(recommended_items, relevant_items, assume_unique=True)\n",
    "    \n",
    "    precision_score = np.sum(is_relevant, dtype=np.float32) / len(is_relevant)\n",
    "    \n",
    "    return precision_score\n",
    "\n",
    "def recall(recommended_items, relevant_items):\n",
    "    \n",
    "    is_relevant = np.in1d(recommended_items, relevant_items, assume_unique=True)\n",
    "    \n",
    "    recall_score = np.sum(is_relevant, dtype=np.float32) / relevant_items.shape[0]\n",
    "    \n",
    "    return recall_score\n",
    "\n",
    "def AP(recommended_items, relevant_items):\n",
    "   \n",
    "    is_relevant = np.in1d(recommended_items, relevant_items, assume_unique=True)\n",
    "    \n",
    "    # Cumulative sum: precision at 1, at 2, at 3 ...\n",
    "    p_at_k = is_relevant * np.cumsum(is_relevant, dtype=np.float32) / (1 + np.arange(is_relevant.shape[0]))\n",
    "    \n",
    "    ap_score = np.sum(p_at_k) / np.min([relevant_items.shape[0], is_relevant.shape[0]])\n",
    "\n",
    "    return ap_score\n",
    "\n",
    "def evaluate_recommender(URM_test : sps.csr_matrix, recommender : BaseRecommender, cutoff : int = 10):\n",
    "    \n",
    "    cumulative_precision = 0.0\n",
    "    cumulative_recall = 0.0\n",
    "    cumulative_AP = 0.0\n",
    "    \n",
    "    num_eval = 0\n",
    "\n",
    "    for user_id in range(URM_test.shape[0]):\n",
    "\n",
    "        relevant_items = URM_test.indices[URM_test.indptr[user_id]:URM_test.indptr[user_id+1]]\n",
    "        \n",
    "        if len(relevant_items)>0:\n",
    "            \n",
    "            recommended_items = recommender.recommend(user_id, at=cutoff)\n",
    "            num_eval+=1\n",
    "\n",
    "            cumulative_precision += precision(recommended_items, relevant_items)\n",
    "            cumulative_recall += recall(recommended_items, relevant_items)\n",
    "            cumulative_AP += AP(recommended_items, relevant_items)\n",
    "            \n",
    "    cumulative_precision /= num_eval\n",
    "    cumulative_recall /= num_eval\n",
    "    MAP = cumulative_AP / num_eval\n",
    "    \n",
    "    print(\"Recommender results are: Precision = {:.4f}, Recall = {:.4f}, MAP = {:.4f}\".format(\n",
    "        cumulative_precision, cumulative_recall, MAP)) \n",
    "    \n",
    "    return MAP"
   ]
  },
  {
   "cell_type": "code",
   "execution_count": 23,
   "metadata": {},
   "outputs": [
    {
     "name": "stdout",
     "output_type": "stream",
     "text": [
      "Recommender_Base_Class: URM Detected 38 ( 0.4%) items with no interactions.\n",
      "Recommender_Base_Class: URM Detected 38 ( 0.4%) items with no interactions.\n",
      "Recommender_Base_Class: URM Detected 38 ( 0.4%) items with no interactions.\n",
      "Recommender results are: Precision = 0.0012, Recall = 0.0001, MAP = 0.0005\n",
      "P3 trained in 3.22 min\n",
      "Recommender results are: Precision = 0.0008, Recall = 0.0001, MAP = 0.0003\n",
      "P3alpha trained in 3.37 min\n",
      "Recommender results are: Precision = 0.0008, Recall = 0.0001, MAP = 0.0003\n",
      "RP3beta trained in 3.26 min\n"
     ]
    }
   ],
   "source": [
    "# PRAXIS WHEN USING THE COURSE'S FRAMEWORK: USE EvaluatorHoldout FOR EVALUATIONS\n",
    "# from Evaluation.Evaluator import EvaluatorHoldout\n",
    "# evaluator_test = EvaluatorHoldout(URM_test, cutoff_list=[10])\n",
    "from Utils.seconds_to_biggest_unit import seconds_to_biggest_unit\n",
    "\n",
    "models = {\n",
    "    'P3' : P3Recommender(URM_train_val),\n",
    "    'P3alpha' : P3alphaRecommender(URM_train_val, alpha=0.5, extract_similarity=True),\n",
    "    'RP3beta' : RP3betaRecommender(URM_train_val, alpha=0.5, beta=0.3)\n",
    "}\n",
    "\n",
    "for model_name, model_obj in models.items():\n",
    "    time_start = time.time()\n",
    "    model_obj.fit()\n",
    "    time_end_value, time_unit = seconds_to_biggest_unit(time.time() - time_start)\n",
    "    # PRAXIS WHEN USING THE COURSE'S FRAMEWORK: result_df, _ = evaluator_test.evaluateRecommender(model_obj)\n",
    "    _ = evaluate_recommender(URM_test, model_obj)\n",
    "    print(\"{} trained in {:.2f} {}\".format(model_name, time_end_value, time_unit))"
   ]
  },
  {
   "cell_type": "code",
   "execution_count": null,
   "metadata": {},
   "outputs": [
    {
     "name": "stderr",
     "output_type": "stream",
     "text": [
      "[I 2024-12-03 19:52:10,255] A new study created in memory with name: no-name-45c7f243-5732-4b1c-a399-1e2712acefee\n",
      "[I 2024-12-03 19:52:10,260] A new study created in memory with name: no-name-d6e1f9ef-ded3-4472-9efb-cc86b5654f69\n"
     ]
    }
   ],
   "source": [
    "# Create and launch optuna study for each recommender. Optimize for MAP@10.\n",
    "import pandas as pd\n",
    "\n",
    "import optuna\n",
    "\n",
    "def objective_function_P3alpha(optuna_trial):\n",
    "    recommender_instance = P3alphaRecommender(URM_train,\n",
    "                                              alpha=optuna_trial.suggest_float(\"alpha\", 0.01, 0.99),\n",
    "                                              topK=optuna_trial.suggest_int(\"topK\", 5, 150),\n",
    "                                              normalize_sim=optuna_trial.suggest_int(\"normalize_sim\", 0, 1))\n",
    "\n",
    "    recommender_instance.fit()\n",
    "\n",
    "    evaluation = evaluate_recommender(URM_val, recommender_instance)\n",
    "    return evaluation\n",
    "\n",
    "def objective_function_RP3beta(optuna_trial):\n",
    "    recommender_instance = RP3betaRecommender(URM_train,\n",
    "                                              alpha=optuna_trial.suggest_float(\"alpha\", 0.01, 0.99),\n",
    "                                              beta=optuna_trial.suggest_float(\"beta\", 0.01, 0.99),\n",
    "                                              topK=optuna_trial.suggest_int(\"topK\", 5, 150),\n",
    "                                              normalize_sim=optuna_trial.suggest_int(\"normalize_sim\", 0, 1))\n",
    "    \n",
    "    recommender_instance.fit()\n",
    "    \n",
    "    evaluation = evaluate_recommender(URM_val, recommender_instance)\n",
    "    return evaluation\n",
    "\n",
    "class SaveResults(object):\n",
    "    \n",
    "    def __init__(self):\n",
    "        self.results_df = pd.DataFrame(columns = [\"result\"])\n",
    "    \n",
    "    def __call__(self, optuna_study, optuna_trial):\n",
    "        hyperparam_dict = optuna_trial.params.copy()\n",
    "        hyperparam_dict[\"result\"] = optuna_trial.values[0]\n",
    "        \n",
    "        self.results_df = pd.concat([self.results_df, pd.DataFrame([hyperparam_dict])], ignore_index=True)\n",
    "\n",
    "optuna_study_P3alpha = optuna.create_study(direction=\"maximize\")\n",
    "optuna_study_RP3beta = optuna.create_study(direction=\"maximize\")\n",
    "save_results_P3alpha = SaveResults()\n",
    "save_results_RP3beta = SaveResults()"
   ]
  },
  {
   "cell_type": "code",
   "execution_count": 29,
   "metadata": {},
   "outputs": [
    {
     "name": "stdout",
     "output_type": "stream",
     "text": [
      "Recommender_Base_Class: URM Detected 75 ( 0.7%) items with no interactions.\n"
     ]
    },
    {
     "name": "stderr",
     "output_type": "stream",
     "text": [
      "[I 2024-12-03 19:56:00,896] Trial 0 finished with value: 0.000267417932129221 and parameters: {'alpha': 0.11695691030736012}. Best is trial 0 with value: 0.000267417932129221.\n"
     ]
    },
    {
     "name": "stdout",
     "output_type": "stream",
     "text": [
      "Recommender results are: Precision = 0.0008, Recall = 0.0001, MAP = 0.0003\n",
      "Recommender_Base_Class: URM Detected 75 ( 0.7%) items with no interactions.\n"
     ]
    },
    {
     "name": "stderr",
     "output_type": "stream",
     "text": [
      "/var/folders/pp/q0kl1bl507q_7gsf1tczbrg80000gn/T/ipykernel_90667/2301438212.py:33: FutureWarning:\n",
      "\n",
      "The behavior of DataFrame concatenation with empty or all-NA entries is deprecated. In a future version, this will no longer exclude empty or all-NA columns when determining the result dtypes. To retain the old behavior, exclude the relevant entries before the concat operation.\n",
      "\n",
      "[I 2024-12-03 19:59:49,256] Trial 1 finished with value: 0.00026792623698722513 and parameters: {'alpha': 0.21482630628649535}. Best is trial 1 with value: 0.00026792623698722513.\n"
     ]
    },
    {
     "name": "stdout",
     "output_type": "stream",
     "text": [
      "Recommender results are: Precision = 0.0008, Recall = 0.0001, MAP = 0.0003\n",
      "Recommender_Base_Class: URM Detected 75 ( 0.7%) items with no interactions.\n"
     ]
    },
    {
     "name": "stderr",
     "output_type": "stream",
     "text": [
      "[I 2024-12-03 20:03:51,785] Trial 2 finished with value: 0.00035855836080573076 and parameters: {'alpha': 0.9571134099221613}. Best is trial 2 with value: 0.00035855836080573076.\n"
     ]
    },
    {
     "name": "stdout",
     "output_type": "stream",
     "text": [
      "Recommender results are: Precision = 0.0010, Recall = 0.0001, MAP = 0.0004\n",
      "Recommender_Base_Class: URM Detected 75 ( 0.7%) items with no interactions.\n"
     ]
    },
    {
     "name": "stderr",
     "output_type": "stream",
     "text": [
      "[I 2024-12-03 20:07:42,197] Trial 3 finished with value: 0.0002449225929200655 and parameters: {'alpha': 0.3673450596269118}. Best is trial 2 with value: 0.00035855836080573076.\n"
     ]
    },
    {
     "name": "stdout",
     "output_type": "stream",
     "text": [
      "Recommender results are: Precision = 0.0008, Recall = 0.0001, MAP = 0.0002\n",
      "Recommender_Base_Class: URM Detected 75 ( 0.7%) items with no interactions.\n"
     ]
    },
    {
     "name": "stderr",
     "output_type": "stream",
     "text": [
      "[I 2024-12-03 20:11:32,332] Trial 4 finished with value: 0.00024110916678804454 and parameters: {'alpha': 0.5017647325451496}. Best is trial 2 with value: 0.00035855836080573076.\n"
     ]
    },
    {
     "name": "stdout",
     "output_type": "stream",
     "text": [
      "Recommender results are: Precision = 0.0007, Recall = 0.0001, MAP = 0.0002\n",
      "Recommender_Base_Class: URM Detected 75 ( 0.7%) items with no interactions.\n"
     ]
    },
    {
     "name": "stderr",
     "output_type": "stream",
     "text": [
      "[I 2024-12-03 20:15:26,991] Trial 5 finished with value: 0.00030695288105142153 and parameters: {'alpha': 0.7315852012490363}. Best is trial 2 with value: 0.00035855836080573076.\n"
     ]
    },
    {
     "name": "stdout",
     "output_type": "stream",
     "text": [
      "Recommender results are: Precision = 0.0008, Recall = 0.0001, MAP = 0.0003\n",
      "Recommender_Base_Class: URM Detected 75 ( 0.7%) items with no interactions.\n"
     ]
    },
    {
     "name": "stderr",
     "output_type": "stream",
     "text": [
      "[I 2024-12-03 20:19:14,286] Trial 6 finished with value: 0.00025443450400728897 and parameters: {'alpha': 0.17651817795488978}. Best is trial 2 with value: 0.00035855836080573076.\n"
     ]
    },
    {
     "name": "stdout",
     "output_type": "stream",
     "text": [
      "Recommender results are: Precision = 0.0008, Recall = 0.0001, MAP = 0.0003\n",
      "Recommender_Base_Class: URM Detected 75 ( 0.7%) items with no interactions.\n"
     ]
    },
    {
     "name": "stderr",
     "output_type": "stream",
     "text": [
      "[I 2024-12-03 20:23:04,760] Trial 7 finished with value: 0.00026005833880957753 and parameters: {'alpha': 0.3244136749434458}. Best is trial 2 with value: 0.00035855836080573076.\n"
     ]
    },
    {
     "name": "stdout",
     "output_type": "stream",
     "text": [
      "Recommender results are: Precision = 0.0008, Recall = 0.0001, MAP = 0.0003\n",
      "Recommender_Base_Class: URM Detected 75 ( 0.7%) items with no interactions.\n"
     ]
    },
    {
     "name": "stderr",
     "output_type": "stream",
     "text": [
      "[I 2024-12-03 20:26:54,033] Trial 8 finished with value: 0.00024537562247400446 and parameters: {'alpha': 0.3742898642693653}. Best is trial 2 with value: 0.00035855836080573076.\n"
     ]
    },
    {
     "name": "stdout",
     "output_type": "stream",
     "text": [
      "Recommender results are: Precision = 0.0008, Recall = 0.0001, MAP = 0.0002\n",
      "Recommender_Base_Class: URM Detected 75 ( 0.7%) items with no interactions.\n"
     ]
    },
    {
     "name": "stderr",
     "output_type": "stream",
     "text": [
      "[I 2024-12-03 20:30:55,013] Trial 9 finished with value: 0.00036338440771429176 and parameters: {'alpha': 0.9851269675917077}. Best is trial 9 with value: 0.00036338440771429176.\n"
     ]
    },
    {
     "name": "stdout",
     "output_type": "stream",
     "text": [
      "Recommender results are: Precision = 0.0011, Recall = 0.0001, MAP = 0.0004\n",
      "Recommender_Base_Class: URM Detected 75 ( 0.7%) items with no interactions.\n"
     ]
    },
    {
     "name": "stderr",
     "output_type": "stream",
     "text": [
      "[I 2024-12-03 20:34:55,414] Trial 10 finished with value: 0.00036418276545651545 and parameters: {'alpha': 0.9770294140549688}. Best is trial 10 with value: 0.00036418276545651545.\n"
     ]
    },
    {
     "name": "stdout",
     "output_type": "stream",
     "text": [
      "Recommender results are: Precision = 0.0011, Recall = 0.0001, MAP = 0.0004\n",
      "Recommender_Base_Class: URM Detected 75 ( 0.7%) items with no interactions.\n"
     ]
    },
    {
     "name": "stderr",
     "output_type": "stream",
     "text": [
      "[I 2024-12-03 20:38:54,337] Trial 11 finished with value: 0.00035754061139273147 and parameters: {'alpha': 0.9521436914615018}. Best is trial 10 with value: 0.00036418276545651545.\n"
     ]
    },
    {
     "name": "stdout",
     "output_type": "stream",
     "text": [
      "Recommender results are: Precision = 0.0010, Recall = 0.0001, MAP = 0.0004\n",
      "Recommender_Base_Class: URM Detected 75 ( 0.7%) items with no interactions.\n"
     ]
    },
    {
     "name": "stderr",
     "output_type": "stream",
     "text": [
      "[I 2024-12-03 20:42:49,021] Trial 12 finished with value: 0.000312643957976182 and parameters: {'alpha': 0.7579983048949656}. Best is trial 10 with value: 0.00036418276545651545.\n"
     ]
    },
    {
     "name": "stdout",
     "output_type": "stream",
     "text": [
      "Recommender results are: Precision = 0.0009, Recall = 0.0001, MAP = 0.0003\n",
      "Recommender_Base_Class: URM Detected 75 ( 0.7%) items with no interactions.\n"
     ]
    },
    {
     "name": "stderr",
     "output_type": "stream",
     "text": [
      "[I 2024-12-03 20:46:44,034] Trial 13 finished with value: 0.0003207152920667299 and parameters: {'alpha': 0.7800601575582734}. Best is trial 10 with value: 0.00036418276545651545.\n"
     ]
    },
    {
     "name": "stdout",
     "output_type": "stream",
     "text": [
      "Recommender results are: Precision = 0.0009, Recall = 0.0001, MAP = 0.0003\n",
      "Recommender_Base_Class: URM Detected 75 ( 0.7%) items with no interactions.\n"
     ]
    },
    {
     "name": "stderr",
     "output_type": "stream",
     "text": [
      "[I 2024-12-03 20:50:34,764] Trial 14 finished with value: 0.0002666423683268181 and parameters: {'alpha': 0.5937176330908553}. Best is trial 10 with value: 0.00036418276545651545.\n"
     ]
    },
    {
     "name": "stdout",
     "output_type": "stream",
     "text": [
      "Recommender results are: Precision = 0.0008, Recall = 0.0001, MAP = 0.0003\n",
      "Recommender_Base_Class: URM Detected 75 ( 0.7%) items with no interactions.\n"
     ]
    },
    {
     "name": "stderr",
     "output_type": "stream",
     "text": [
      "[I 2024-12-03 20:54:31,987] Trial 15 finished with value: 0.0003497165915492394 and parameters: {'alpha': 0.8582176779215048}. Best is trial 10 with value: 0.00036418276545651545.\n"
     ]
    },
    {
     "name": "stdout",
     "output_type": "stream",
     "text": [
      "Recommender results are: Precision = 0.0010, Recall = 0.0001, MAP = 0.0003\n",
      "Recommender_Base_Class: URM Detected 75 ( 0.7%) items with no interactions.\n"
     ]
    },
    {
     "name": "stderr",
     "output_type": "stream",
     "text": [
      "[I 2024-12-03 20:58:23,534] Trial 16 finished with value: 0.00027715949216013905 and parameters: {'alpha': 0.6282228199072102}. Best is trial 10 with value: 0.00036418276545651545.\n"
     ]
    },
    {
     "name": "stdout",
     "output_type": "stream",
     "text": [
      "Recommender results are: Precision = 0.0008, Recall = 0.0001, MAP = 0.0003\n",
      "Recommender_Base_Class: URM Detected 75 ( 0.7%) items with no interactions.\n"
     ]
    },
    {
     "name": "stderr",
     "output_type": "stream",
     "text": [
      "[I 2024-12-03 21:02:23,101] Trial 17 finished with value: 0.000363659644537628 and parameters: {'alpha': 0.9834805277155828}. Best is trial 10 with value: 0.00036418276545651545.\n"
     ]
    },
    {
     "name": "stdout",
     "output_type": "stream",
     "text": [
      "Recommender results are: Precision = 0.0011, Recall = 0.0001, MAP = 0.0004\n",
      "Recommender_Base_Class: URM Detected 75 ( 0.7%) items with no interactions.\n"
     ]
    },
    {
     "name": "stderr",
     "output_type": "stream",
     "text": [
      "[I 2024-12-03 21:06:19,237] Trial 18 finished with value: 0.0003457276520805983 and parameters: {'alpha': 0.843255572934572}. Best is trial 10 with value: 0.00036418276545651545.\n"
     ]
    },
    {
     "name": "stdout",
     "output_type": "stream",
     "text": [
      "Recommender results are: Precision = 0.0009, Recall = 0.0001, MAP = 0.0003\n",
      "Recommender_Base_Class: URM Detected 75 ( 0.7%) items with no interactions.\n"
     ]
    },
    {
     "name": "stderr",
     "output_type": "stream",
     "text": [
      "[I 2024-12-03 21:10:05,701] Trial 19 finished with value: 0.00026698712666660776 and parameters: {'alpha': 0.014030125095582546}. Best is trial 10 with value: 0.00036418276545651545.\n"
     ]
    },
    {
     "name": "stdout",
     "output_type": "stream",
     "text": [
      "Recommender results are: Precision = 0.0007, Recall = 0.0001, MAP = 0.0003\n",
      "Recommender_Base_Class: URM Detected 75 ( 0.7%) items with no interactions.\n"
     ]
    },
    {
     "name": "stderr",
     "output_type": "stream",
     "text": [
      "[I 2024-12-03 21:13:57,942] Trial 20 finished with value: 0.0002863534277868619 and parameters: {'alpha': 0.6423783190656585}. Best is trial 10 with value: 0.00036418276545651545.\n"
     ]
    },
    {
     "name": "stdout",
     "output_type": "stream",
     "text": [
      "Recommender results are: Precision = 0.0008, Recall = 0.0001, MAP = 0.0003\n",
      "Recommender_Base_Class: URM Detected 75 ( 0.7%) items with no interactions.\n"
     ]
    },
    {
     "name": "stderr",
     "output_type": "stream",
     "text": [
      "[I 2024-12-03 21:17:58,828] Trial 21 finished with value: 0.0003629404957362814 and parameters: {'alpha': 0.9767193931396003}. Best is trial 10 with value: 0.00036418276545651545.\n"
     ]
    },
    {
     "name": "stdout",
     "output_type": "stream",
     "text": [
      "Recommender results are: Precision = 0.0011, Recall = 0.0001, MAP = 0.0004\n",
      "Recommender_Base_Class: URM Detected 75 ( 0.7%) items with no interactions.\n"
     ]
    },
    {
     "name": "stderr",
     "output_type": "stream",
     "text": [
      "[I 2024-12-03 21:21:56,363] Trial 22 finished with value: 0.0003549147495253747 and parameters: {'alpha': 0.9050791250149208}. Best is trial 10 with value: 0.00036418276545651545.\n"
     ]
    },
    {
     "name": "stdout",
     "output_type": "stream",
     "text": [
      "Recommender results are: Precision = 0.0010, Recall = 0.0001, MAP = 0.0004\n",
      "Recommender_Base_Class: URM Detected 75 ( 0.7%) items with no interactions.\n"
     ]
    },
    {
     "name": "stderr",
     "output_type": "stream",
     "text": [
      "[I 2024-12-03 21:25:52,871] Trial 23 finished with value: 0.0003383446949726384 and parameters: {'alpha': 0.8363798946695129}. Best is trial 10 with value: 0.00036418276545651545.\n"
     ]
    },
    {
     "name": "stdout",
     "output_type": "stream",
     "text": [
      "Recommender results are: Precision = 0.0010, Recall = 0.0001, MAP = 0.0003\n",
      "Recommender_Base_Class: URM Detected 75 ( 0.7%) items with no interactions.\n"
     ]
    },
    {
     "name": "stderr",
     "output_type": "stream",
     "text": [
      "[I 2024-12-03 21:29:54,215] Trial 24 finished with value: 0.00036601140927863997 and parameters: {'alpha': 0.9857634202778721}. Best is trial 24 with value: 0.00036601140927863997.\n"
     ]
    },
    {
     "name": "stdout",
     "output_type": "stream",
     "text": [
      "Recommender results are: Precision = 0.0011, Recall = 0.0001, MAP = 0.0004\n",
      "Recommender_Base_Class: URM Detected 75 ( 0.7%) items with no interactions.\n"
     ]
    },
    {
     "name": "stderr",
     "output_type": "stream",
     "text": [
      "[I 2024-12-03 21:33:48,143] Trial 25 finished with value: 0.00030233596854071696 and parameters: {'alpha': 0.7142767281557556}. Best is trial 24 with value: 0.00036601140927863997.\n"
     ]
    },
    {
     "name": "stdout",
     "output_type": "stream",
     "text": [
      "Recommender results are: Precision = 0.0008, Recall = 0.0001, MAP = 0.0003\n",
      "Recommender_Base_Class: URM Detected 75 ( 0.7%) items with no interactions.\n"
     ]
    },
    {
     "name": "stderr",
     "output_type": "stream",
     "text": [
      "[I 2024-12-03 21:37:46,122] Trial 26 finished with value: 0.0003502140692858284 and parameters: {'alpha': 0.8951459125725756}. Best is trial 24 with value: 0.00036601140927863997.\n"
     ]
    },
    {
     "name": "stdout",
     "output_type": "stream",
     "text": [
      "Recommender results are: Precision = 0.0010, Recall = 0.0001, MAP = 0.0004\n",
      "Recommender_Base_Class: URM Detected 75 ( 0.7%) items with no interactions.\n"
     ]
    },
    {
     "name": "stderr",
     "output_type": "stream",
     "text": [
      "[I 2024-12-03 21:41:42,446] Trial 27 finished with value: 0.00032864131479092034 and parameters: {'alpha': 0.805120329328623}. Best is trial 24 with value: 0.00036601140927863997.\n"
     ]
    },
    {
     "name": "stdout",
     "output_type": "stream",
     "text": [
      "Recommender results are: Precision = 0.0009, Recall = 0.0001, MAP = 0.0003\n",
      "Recommender_Base_Class: URM Detected 75 ( 0.7%) items with no interactions.\n"
     ]
    },
    {
     "name": "stderr",
     "output_type": "stream",
     "text": [
      "[I 2024-12-03 21:45:39,869] Trial 28 finished with value: 0.0003491034345680596 and parameters: {'alpha': 0.8946442106019464}. Best is trial 24 with value: 0.00036601140927863997.\n"
     ]
    },
    {
     "name": "stdout",
     "output_type": "stream",
     "text": [
      "Recommender results are: Precision = 0.0010, Recall = 0.0001, MAP = 0.0003\n",
      "Recommender_Base_Class: URM Detected 75 ( 0.7%) items with no interactions.\n"
     ]
    },
    {
     "name": "stderr",
     "output_type": "stream",
     "text": [
      "[I 2024-12-03 21:49:33,046] Trial 29 finished with value: 0.0002916974669778508 and parameters: {'alpha': 0.6781347369652826}. Best is trial 24 with value: 0.00036601140927863997.\n"
     ]
    },
    {
     "name": "stdout",
     "output_type": "stream",
     "text": [
      "Recommender results are: Precision = 0.0008, Recall = 0.0001, MAP = 0.0003\n",
      "Recommender_Base_Class: URM Detected 75 ( 0.7%) items with no interactions.\n"
     ]
    },
    {
     "name": "stderr",
     "output_type": "stream",
     "text": [
      "[I 2024-12-03 21:53:22,921] Trial 30 finished with value: 0.00025786043316235657 and parameters: {'alpha': 0.5438034293131342}. Best is trial 24 with value: 0.00036601140927863997.\n"
     ]
    },
    {
     "name": "stdout",
     "output_type": "stream",
     "text": [
      "Recommender results are: Precision = 0.0008, Recall = 0.0001, MAP = 0.0003\n",
      "Recommender_Base_Class: URM Detected 75 ( 0.7%) items with no interactions.\n"
     ]
    },
    {
     "name": "stderr",
     "output_type": "stream",
     "text": [
      "[I 2024-12-03 21:57:23,882] Trial 31 finished with value: 0.00036500163774457806 and parameters: {'alpha': 0.9893057839979716}. Best is trial 24 with value: 0.00036601140927863997.\n"
     ]
    },
    {
     "name": "stdout",
     "output_type": "stream",
     "text": [
      "Recommender results are: Precision = 0.0010, Recall = 0.0001, MAP = 0.0004\n",
      "Recommender_Base_Class: URM Detected 75 ( 0.7%) items with no interactions.\n"
     ]
    },
    {
     "name": "stderr",
     "output_type": "stream",
     "text": [
      "[I 2024-12-03 22:01:22,999] Trial 32 finished with value: 0.00035320976282677825 and parameters: {'alpha': 0.9186171407963923}. Best is trial 24 with value: 0.00036601140927863997.\n"
     ]
    },
    {
     "name": "stdout",
     "output_type": "stream",
     "text": [
      "Recommender results are: Precision = 0.0010, Recall = 0.0001, MAP = 0.0004\n",
      "Recommender_Base_Class: URM Detected 75 ( 0.7%) items with no interactions.\n"
     ]
    },
    {
     "name": "stderr",
     "output_type": "stream",
     "text": [
      "[I 2024-12-03 22:05:23,199] Trial 33 finished with value: 0.00036567348912079644 and parameters: {'alpha': 0.9887286379949248}. Best is trial 24 with value: 0.00036601140927863997.\n"
     ]
    },
    {
     "name": "stdout",
     "output_type": "stream",
     "text": [
      "Recommender results are: Precision = 0.0011, Recall = 0.0001, MAP = 0.0004\n",
      "Recommender_Base_Class: URM Detected 75 ( 0.7%) items with no interactions.\n"
     ]
    },
    {
     "name": "stderr",
     "output_type": "stream",
     "text": [
      "[I 2024-12-03 22:09:21,667] Trial 34 finished with value: 0.00035714513653684065 and parameters: {'alpha': 0.930753118924713}. Best is trial 24 with value: 0.00036601140927863997.\n"
     ]
    },
    {
     "name": "stdout",
     "output_type": "stream",
     "text": [
      "Recommender results are: Precision = 0.0010, Recall = 0.0001, MAP = 0.0004\n",
      "Recommender_Base_Class: URM Detected 75 ( 0.7%) items with no interactions.\n"
     ]
    },
    {
     "name": "stderr",
     "output_type": "stream",
     "text": [
      "[I 2024-12-03 22:13:18,711] Trial 35 finished with value: 0.00034299294915059674 and parameters: {'alpha': 0.8475543445229526}. Best is trial 24 with value: 0.00036601140927863997.\n"
     ]
    },
    {
     "name": "stdout",
     "output_type": "stream",
     "text": [
      "Recommender results are: Precision = 0.0009, Recall = 0.0001, MAP = 0.0003\n",
      "Recommender_Base_Class: URM Detected 75 ( 0.7%) items with no interactions.\n"
     ]
    },
    {
     "name": "stderr",
     "output_type": "stream",
     "text": [
      "[I 2024-12-03 22:17:13,990] Trial 36 finished with value: 0.0003247201872932456 and parameters: {'alpha': 0.7936457710149851}. Best is trial 24 with value: 0.00036601140927863997.\n"
     ]
    },
    {
     "name": "stdout",
     "output_type": "stream",
     "text": [
      "Recommender results are: Precision = 0.0009, Recall = 0.0001, MAP = 0.0003\n",
      "Recommender_Base_Class: URM Detected 75 ( 0.7%) items with no interactions.\n"
     ]
    },
    {
     "name": "stderr",
     "output_type": "stream",
     "text": [
      "[I 2024-12-03 22:21:14,851] Trial 37 finished with value: 0.00036493895441007087 and parameters: {'alpha': 0.9897423138106054}. Best is trial 24 with value: 0.00036601140927863997.\n"
     ]
    },
    {
     "name": "stdout",
     "output_type": "stream",
     "text": [
      "Recommender results are: Precision = 0.0010, Recall = 0.0001, MAP = 0.0004\n",
      "Recommender_Base_Class: URM Detected 75 ( 0.7%) items with no interactions.\n"
     ]
    },
    {
     "name": "stderr",
     "output_type": "stream",
     "text": [
      "[I 2024-12-03 22:25:18,835] Trial 38 finished with value: 0.00034793581500073845 and parameters: {'alpha': 0.8789798668819806}. Best is trial 24 with value: 0.00036601140927863997.\n"
     ]
    },
    {
     "name": "stdout",
     "output_type": "stream",
     "text": [
      "Recommender results are: Precision = 0.0010, Recall = 0.0001, MAP = 0.0003\n",
      "Recommender_Base_Class: URM Detected 75 ( 0.7%) items with no interactions.\n"
     ]
    },
    {
     "name": "stderr",
     "output_type": "stream",
     "text": [
      "[I 2024-12-03 22:29:24,460] Trial 39 finished with value: 0.0002460537421836733 and parameters: {'alpha': 0.4375897042339283}. Best is trial 24 with value: 0.00036601140927863997.\n"
     ]
    },
    {
     "name": "stdout",
     "output_type": "stream",
     "text": [
      "Recommender results are: Precision = 0.0008, Recall = 0.0001, MAP = 0.0002\n",
      "Recommender_Base_Class: URM Detected 75 ( 0.7%) items with no interactions.\n"
     ]
    },
    {
     "name": "stderr",
     "output_type": "stream",
     "text": [
      "[I 2024-12-03 22:33:32,211] Trial 40 finished with value: 0.00026857301502964054 and parameters: {'alpha': 0.258693778813749}. Best is trial 24 with value: 0.00036601140927863997.\n"
     ]
    },
    {
     "name": "stdout",
     "output_type": "stream",
     "text": [
      "Recommender results are: Precision = 0.0008, Recall = 0.0001, MAP = 0.0003\n",
      "Recommender_Base_Class: URM Detected 75 ( 0.7%) items with no interactions.\n"
     ]
    },
    {
     "name": "stderr",
     "output_type": "stream",
     "text": [
      "[I 2024-12-03 22:38:12,557] Trial 41 finished with value: 0.00036409671833369196 and parameters: {'alpha': 0.9849727618048679}. Best is trial 24 with value: 0.00036601140927863997.\n"
     ]
    },
    {
     "name": "stdout",
     "output_type": "stream",
     "text": [
      "Recommender results are: Precision = 0.0011, Recall = 0.0001, MAP = 0.0004\n",
      "Recommender_Base_Class: URM Detected 75 ( 0.7%) items with no interactions.\n"
     ]
    },
    {
     "name": "stderr",
     "output_type": "stream",
     "text": [
      "[I 2024-12-03 22:42:27,942] Trial 42 finished with value: 0.00035847801216786244 and parameters: {'alpha': 0.9311514243808667}. Best is trial 24 with value: 0.00036601140927863997.\n"
     ]
    },
    {
     "name": "stdout",
     "output_type": "stream",
     "text": [
      "Recommender results are: Precision = 0.0010, Recall = 0.0001, MAP = 0.0004\n",
      "Recommender_Base_Class: URM Detected 75 ( 0.7%) items with no interactions.\n"
     ]
    },
    {
     "name": "stderr",
     "output_type": "stream",
     "text": [
      "[I 2024-12-03 22:46:47,148] Trial 43 finished with value: 0.0003591082646039076 and parameters: {'alpha': 0.9524482513774833}. Best is trial 24 with value: 0.00036601140927863997.\n"
     ]
    },
    {
     "name": "stdout",
     "output_type": "stream",
     "text": [
      "Recommender results are: Precision = 0.0010, Recall = 0.0001, MAP = 0.0004\n",
      "Recommender_Base_Class: URM Detected 75 ( 0.7%) items with no interactions.\n"
     ]
    },
    {
     "name": "stderr",
     "output_type": "stream",
     "text": [
      "[I 2024-12-03 22:51:05,869] Trial 44 finished with value: 0.00035370154207841253 and parameters: {'alpha': 0.940156881984353}. Best is trial 24 with value: 0.00036601140927863997.\n"
     ]
    },
    {
     "name": "stdout",
     "output_type": "stream",
     "text": [
      "Recommender results are: Precision = 0.0010, Recall = 0.0001, MAP = 0.0004\n",
      "Recommender_Base_Class: URM Detected 75 ( 0.7%) items with no interactions.\n"
     ]
    },
    {
     "name": "stderr",
     "output_type": "stream",
     "text": [
      "[I 2024-12-03 22:55:22,151] Trial 45 finished with value: 0.0003378893860247176 and parameters: {'alpha': 0.8160073628064539}. Best is trial 24 with value: 0.00036601140927863997.\n"
     ]
    },
    {
     "name": "stdout",
     "output_type": "stream",
     "text": [
      "Recommender results are: Precision = 0.0009, Recall = 0.0001, MAP = 0.0003\n",
      "Recommender_Base_Class: URM Detected 75 ( 0.7%) items with no interactions.\n"
     ]
    },
    {
     "name": "stderr",
     "output_type": "stream",
     "text": [
      "[I 2024-12-03 22:59:38,696] Trial 46 finished with value: 0.0003651879782026132 and parameters: {'alpha': 0.9898018434568384}. Best is trial 24 with value: 0.00036601140927863997.\n"
     ]
    },
    {
     "name": "stdout",
     "output_type": "stream",
     "text": [
      "Recommender results are: Precision = 0.0010, Recall = 0.0001, MAP = 0.0004\n",
      "Recommender_Base_Class: URM Detected 75 ( 0.7%) items with no interactions.\n"
     ]
    },
    {
     "name": "stderr",
     "output_type": "stream",
     "text": [
      "[I 2024-12-03 23:03:49,477] Trial 47 finished with value: 0.0003090977907885599 and parameters: {'alpha': 0.7267974463918954}. Best is trial 24 with value: 0.00036601140927863997.\n"
     ]
    },
    {
     "name": "stdout",
     "output_type": "stream",
     "text": [
      "Recommender results are: Precision = 0.0008, Recall = 0.0001, MAP = 0.0003\n",
      "Recommender_Base_Class: URM Detected 75 ( 0.7%) items with no interactions.\n"
     ]
    },
    {
     "name": "stderr",
     "output_type": "stream",
     "text": [
      "[I 2024-12-03 23:08:04,337] Trial 48 finished with value: 0.00035090757490487644 and parameters: {'alpha': 0.894889920575522}. Best is trial 24 with value: 0.00036601140927863997.\n"
     ]
    },
    {
     "name": "stdout",
     "output_type": "stream",
     "text": [
      "Recommender results are: Precision = 0.0010, Recall = 0.0001, MAP = 0.0004\n",
      "Recommender_Base_Class: URM Detected 75 ( 0.7%) items with no interactions.\n"
     ]
    },
    {
     "name": "stderr",
     "output_type": "stream",
     "text": [
      "[I 2024-12-03 23:12:24,286] Trial 49 finished with value: 0.0003654033809339197 and parameters: {'alpha': 0.9896156544208515}. Best is trial 24 with value: 0.00036601140927863997.\n"
     ]
    },
    {
     "name": "stdout",
     "output_type": "stream",
     "text": [
      "Recommender results are: Precision = 0.0010, Recall = 0.0001, MAP = 0.0004\n",
      "Recommender_Base_Class: URM Detected 38 ( 0.4%) items with no interactions.\n",
      "Recommender results are: Precision = 0.0012, Recall = 0.0001, MAP = 0.0004\n"
     ]
    }
   ],
   "source": [
    "optuna_study_P3alpha.optimize(objective_function_P3alpha,\n",
    "                              callbacks=[save_results_P3alpha],\n",
    "                              n_trials=50)\n",
    "\n",
    "P3alpha_optimal = P3alphaRecommender(URM_train_val,\n",
    "                                     alpha=optuna_study_P3alpha.best_trial.params['alpha'],\n",
    "                                     topK=optuna_study_P3alpha.best_trial.params['topK'],\n",
    "                                     normalize_sim=optuna_study_P3alpha.best_trial.params['normalize_sim'])\n",
    "P3alpha_optimal.fit()\n",
    "_ = evaluate_recommender(URM_test, P3alpha_optimal)"
   ]
  },
  {
   "cell_type": "code",
   "execution_count": null,
   "metadata": {},
   "outputs": [],
   "source": [
    "optuna_study_RP3beta.optimize(objective_function_RP3beta,\n",
    "                              callbacks=[save_results_RP3beta],\n",
    "                              n_trials=50)\n",
    "\n",
    "RP3beta_optimal = RP3betaRecommender(URM_train_val,\n",
    "                                     alpha=optuna_study_RP3beta.best_trial.params['alpha'],\n",
    "                                     beta=optuna_study_RP3beta.best_trial.params['beta'],\n",
    "                                     topK=optuna_study_RP3beta.best_trial.params['topK'],\n",
    "                                     normalize_sim=optuna_study_RP3beta.best_trial.params['normalize_sim'])\n",
    "\n",
    "RP3beta_optimal.fit()\n",
    "_ = evaluate_recommender(URM_test, RP3beta_optimal)"
   ]
  },
  {
   "cell_type": "code",
   "execution_count": null,
   "metadata": {},
   "outputs": [],
   "source": [
    "# Plot recommendations as in Practice 04"
   ]
  },
  {
   "cell_type": "code",
   "execution_count": 47,
   "metadata": {},
   "outputs": [],
   "source": [
    "# P5/P7 e come cambiano le raccomandazioni/similarity density (se la RAM regge) --> se non regge, applicare KNN come da framework (similarityMatrixTopK)\n",
    "class PXRecommender:\n",
    "    def __init__(self, URM, hops : int):\n",
    "        self.URM = URM\n",
    "        self.hops = hops\n",
    "        if not hops % 2:\n",
    "            raise ValueError(\"Number of hops must be odd.\")\n",
    "\n",
    "    def fit(self):\n",
    "        self.n_step_walk, _ = transition_matrix_blocks(self.URM, self.hops, extract_similarity=False)\n",
    "\n",
    "    def recommend(self, user_id, remove_seen : bool = True, at : Optional[int] = None):\n",
    "        Pi_0 = np.zeros(self.URM.shape[0], dtype=np.int32)\n",
    "        Pi_0[user_id] = 1\n",
    "\n",
    "        ranking = self.n_step_walk.dot(Pi_0)\n",
    "\n",
    "        if remove_seen:\n",
    "            user_profile_start = self.URM.indptr[user_id]\n",
    "            user_profile_end = self.URM.indptr[user_id+1]\n",
    "            \n",
    "            seen_items = self.URM.indices[user_profile_start:user_profile_end]\n",
    "            \n",
    "            ranking[seen_items] = -np.inf\n",
    "            \n",
    "        ranking = np.flip(np.argsort(ranking))\n",
    "        return ranking[:at]"
   ]
  },
  {
   "cell_type": "code",
   "execution_count": null,
   "metadata": {},
   "outputs": [],
   "source": [
    "# Compute recommendations on test set with P3, P5 and P7\n",
    "# Visualizzazione su come scende il valore metriche vs. numero di hop\n",
    "# Popularity plot, più P è alto più si vedrà short head-long tail"
   ]
  },
  {
   "cell_type": "markdown",
   "metadata": {},
   "source": [
    "Possibile ibridare modelli con hops diversi PRIO"
   ]
  },
  {
   "cell_type": "code",
   "execution_count": null,
   "metadata": {},
   "outputs": [],
   "source": [
    "from sklearn.preprocessing import normalize\n",
    "\n",
    "class P3Recommender:\n",
    "    \n",
    "    def __init__(self, URM_train):    \n",
    "        self.URM_train = URM_train\n",
    "    \n",
    "    def fit(self, topK, min_rating, implicit):\n",
    "        self.topK = topK\n",
    "        self.min_rating = min_rating\n",
    "        self.implicit = implicit\n",
    "\n",
    "        if self.min_rating > 0:\n",
    "            self.URM_train.data[self.URM_train.data < self.min_rating] = 0\n",
    "            self.URM_train.eliminate_zeros()\n",
    "            if self.implicit:\n",
    "                self.URM_train.data = np.ones(self.URM_train.data.size, dtype=np.float32)\n",
    "\n",
    "        #Pui is the row-normalized urm\n",
    "        Pui = normalize(self.URM_train, norm='l1', axis=1)\n",
    "\n",
    "        #Piu is the column-normalized, \"boolean\" urm transposed\n",
    "        X_bool = self.URM_train.transpose(copy=True)\n",
    "        X_bool.data = np.ones(X_bool.data.size, np.float32)\n",
    "        #ATTENTION: axis is still 1 because i transposed before the normalization\n",
    "        Piu = normalize(X_bool, norm='l1', axis=1)\n",
    "        del(X_bool)\n",
    "\n",
    "        self.W_sparse = Pui * Piu * Pui #sketch"
   ]
  },
  {
   "cell_type": "markdown",
   "metadata": {},
   "source": [
    "Il codice di cui sopra è giusto \"idealmente\", ma non utilizzabile a livello di complessità (spazio: troppi dati da caricare in memoria). Spiego come risolvere?"
   ]
  },
  {
   "cell_type": "markdown",
   "metadata": {},
   "source": [
    "Equivalenza con Item-item collaborative filtering: similarity matrix risulta uguale nelle dimensioni, possibile fare ibridi"
   ]
  },
  {
   "cell_type": "code",
   "execution_count": null,
   "metadata": {},
   "outputs": [],
   "source": [
    "from Recommenders import P3alphaRecommender\n",
    "\n",
    "# Fit and evaluate P3alpha (maybe change alpha a couple times to show how results change)"
   ]
  },
  {
   "cell_type": "markdown",
   "metadata": {},
   "source": [
    "#### Difference between $P^3_\\alpha$ and $RP^3_\\beta$\n",
    "\n",
    "... Rispiegone"
   ]
  },
  {
   "cell_type": "code",
   "execution_count": null,
   "metadata": {},
   "outputs": [],
   "source": [
    "from Recommenders import RP3betaRecommender\n",
    "\n",
    "# Fit and evaluate RP3beta"
   ]
  },
  {
   "cell_type": "markdown",
   "metadata": {},
   "source": [
    "### Adding Content Metadata to the Mix\n",
    "\n",
    "*Tripartite graph*: users, items, metadata\n",
    "\n",
    "#### How do Random Walks change?\n",
    "\n",
    "Spiegone"
   ]
  },
  {
   "cell_type": "markdown",
   "metadata": {},
   "source": [
    "#### Illustrative Example\n",
    "\n",
    "Let's restart from our little graph from before, adding 4 metadata \"tags\":$$\\begin{bmatrix}0 & 0 & 1 & 0 & 1 & 0 & 1 & 0 & 0\\\\ 0 & 0 & 1 & 1 & 0 & 1 & 0 & 0 & 0 \\\\ 1 & 1 & 0 & 0 & 0 & 0 & 0 & 1 & 1 \\\\ 0 & 1 & 0 & 0 & 0 & 0 & 0 & 1 & 0 \\\\ 1 & 0 & 0 & 0 & 0 & 0 & 0 & 0 & 1 \\\\ 0 & 1 & 0 & 0 & 0 & 0 & 0 & 0 & 0 \\\\ 1 & 0 & 0 & 0 & 0 & 0 & 0 & 0 & 0 \\\\ 0 & 0 & 0 & 1 & 0 & 0 & 0 & 0 & 0 \\\\ 0 & 0 & 1 & 0 & 1 & 0 & 0 & 0& 0\\end{bmatrix}.$$\n",
    "\n",
    "[image] <- NO: mostra come attaccare la ICM nella matrice di adiacenza e usare i modelli del framework direttamente"
   ]
  },
  {
   "cell_type": "code",
   "execution_count": null,
   "metadata": {},
   "outputs": [],
   "source": [
    "# Segui quello visto prima"
   ]
  },
  {
   "cell_type": "markdown",
   "metadata": {},
   "source": [
    "È possibile attaccare i metadati col framework? Nel caso, mostragli come."
   ]
  },
  {
   "cell_type": "markdown",
   "metadata": {},
   "source": [
    "- Part 1: generic structure of a graph\n",
    "    - Nodes\n",
    "    - Edges\n",
    "    - (E.g. : Gif of my knowledge graph on Obsidian)\n",
    "    - Notation: chart OR adjacency matrix OR adjacency lists\n",
    "        - Adjacency matrices: node2node OR node2edge\n",
    "            - For our purpose, we use node2node adjacency matrices\n",
    "- Part 2: graphs in recommendation\n",
    "    - Nodes: users, items\n",
    "    - Edges: interactions\n",
    "    - Bipartite graph: we can distinguish 2 classes of nodes, with edges only connecting nodes of class 1 to nodes of class 2 and vice-versa. No inter-class connections\n",
    "        - Adjacency matrix of a graph of interactions: URM!\n",
    "            - `G = [[[0][URM]], [[URM*], [0]]]`\n",
    "    - Path: sequence of connected nodes that starts with node A and ends with node B\n",
    "        - Recommendation idea: we can use paths as collaborative signals\n",
    "- Part 3: random walks\n",
    "    - Recap on mathematics (from textbook)\n",
    "    - Illustrative example (from slides)\n",
    "- Part 4: $P^3$, $P^3_\\alpha$, $RP^3_\\beta$\n",
    "    - $P^3$: 3-step random walks\n",
    "        - Theory recap (from textbook, don't explain)\n",
    "        - Illustrative example (from slides)\n",
    "    - $P^3_\\alpha$: add an exponent\n",
    "        - Theory recap (from textbook, don't explain)\n",
    "        - Illustrative example (from slides)\n",
    "    - $RP^3_\\beta$: ...\n",
    "        - Theory recap (from textbook, don't explain)\n",
    "        - How to use (from framework), strong baseline! Good for hybrids\n",
    "- Part 5: Adding item metadata, tripartite graph\n",
    "    - Theory recap (from slides)\n",
    "    - Illustrative example with $P^3$"
   ]
  }
 ],
 "metadata": {
  "kernelspec": {
   "display_name": "RSFramework",
   "language": "python",
   "name": "python3"
  },
  "language_info": {
   "codemirror_mode": {
    "name": "ipython",
    "version": 3
   },
   "file_extension": ".py",
   "mimetype": "text/x-python",
   "name": "python",
   "nbconvert_exporter": "python",
   "pygments_lexer": "ipython3",
   "version": "3.9.7"
  }
 },
 "nbformat": 4,
 "nbformat_minor": 2
}
